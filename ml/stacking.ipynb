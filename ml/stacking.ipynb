{
 "cells": [
  {
   "cell_type": "markdown",
   "metadata": {},
   "source": [
    "# Model Stacking\n",
    "[Logistic Regression, KNN, SVC, Decision Tree, Random Forest, Naive Bayes]"
   ]
  },
  {
   "cell_type": "code",
   "execution_count": 10,
   "metadata": {},
   "outputs": [],
   "source": [
    "import pandas as pd\n",
    "import numpy as np\n",
    "import matplotlib.pyplot as plt\n",
    "\n",
    "from sklearn import model_selection\n",
    "from sklearn.metrics import accuracy_score\n",
    "\n",
    "import joblib\n",
    "\n",
    "from vecstack import StackingTransformer\n",
    "\n",
    "from itertools import combinations\n",
    "\n",
    "import warnings\n",
    "warnings.filterwarnings(\"ignore\")"
   ]
  },
  {
   "cell_type": "markdown",
   "metadata": {},
   "source": [
    "## Load Data"
   ]
  },
  {
   "cell_type": "code",
   "execution_count": 11,
   "metadata": {},
   "outputs": [
    {
     "data": {
      "text/html": [
       "<div>\n",
       "<style scoped>\n",
       "    .dataframe tbody tr th:only-of-type {\n",
       "        vertical-align: middle;\n",
       "    }\n",
       "\n",
       "    .dataframe tbody tr th {\n",
       "        vertical-align: top;\n",
       "    }\n",
       "\n",
       "    .dataframe thead th {\n",
       "        text-align: right;\n",
       "    }\n",
       "</style>\n",
       "<table border=\"1\" class=\"dataframe\">\n",
       "  <thead>\n",
       "    <tr style=\"text-align: right;\">\n",
       "      <th></th>\n",
       "      <th>PassengerId</th>\n",
       "      <th>Survived</th>\n",
       "      <th>Pclass</th>\n",
       "      <th>Name</th>\n",
       "      <th>Sex</th>\n",
       "      <th>Age</th>\n",
       "      <th>SibSp</th>\n",
       "      <th>Parch</th>\n",
       "      <th>Fare</th>\n",
       "      <th>Cabin</th>\n",
       "      <th>Embarked</th>\n",
       "      <th>Family</th>\n",
       "    </tr>\n",
       "  </thead>\n",
       "  <tbody>\n",
       "    <tr>\n",
       "      <th>0</th>\n",
       "      <td>1</td>\n",
       "      <td>0</td>\n",
       "      <td>3</td>\n",
       "      <td>1</td>\n",
       "      <td>0</td>\n",
       "      <td>22</td>\n",
       "      <td>1</td>\n",
       "      <td>0</td>\n",
       "      <td>7.2500</td>\n",
       "      <td>6</td>\n",
       "      <td>0</td>\n",
       "      <td>1</td>\n",
       "    </tr>\n",
       "    <tr>\n",
       "      <th>1</th>\n",
       "      <td>2</td>\n",
       "      <td>1</td>\n",
       "      <td>1</td>\n",
       "      <td>3</td>\n",
       "      <td>1</td>\n",
       "      <td>38</td>\n",
       "      <td>1</td>\n",
       "      <td>0</td>\n",
       "      <td>71.2833</td>\n",
       "      <td>3</td>\n",
       "      <td>1</td>\n",
       "      <td>1</td>\n",
       "    </tr>\n",
       "    <tr>\n",
       "      <th>2</th>\n",
       "      <td>3</td>\n",
       "      <td>1</td>\n",
       "      <td>3</td>\n",
       "      <td>2</td>\n",
       "      <td>1</td>\n",
       "      <td>26</td>\n",
       "      <td>0</td>\n",
       "      <td>0</td>\n",
       "      <td>7.9250</td>\n",
       "      <td>6</td>\n",
       "      <td>0</td>\n",
       "      <td>0</td>\n",
       "    </tr>\n",
       "    <tr>\n",
       "      <th>3</th>\n",
       "      <td>4</td>\n",
       "      <td>1</td>\n",
       "      <td>1</td>\n",
       "      <td>3</td>\n",
       "      <td>1</td>\n",
       "      <td>35</td>\n",
       "      <td>1</td>\n",
       "      <td>0</td>\n",
       "      <td>53.1000</td>\n",
       "      <td>3</td>\n",
       "      <td>0</td>\n",
       "      <td>1</td>\n",
       "    </tr>\n",
       "    <tr>\n",
       "      <th>4</th>\n",
       "      <td>5</td>\n",
       "      <td>0</td>\n",
       "      <td>3</td>\n",
       "      <td>1</td>\n",
       "      <td>0</td>\n",
       "      <td>35</td>\n",
       "      <td>0</td>\n",
       "      <td>0</td>\n",
       "      <td>8.0500</td>\n",
       "      <td>5</td>\n",
       "      <td>0</td>\n",
       "      <td>0</td>\n",
       "    </tr>\n",
       "  </tbody>\n",
       "</table>\n",
       "</div>"
      ],
      "text/plain": [
       "   PassengerId  Survived  Pclass  Name  Sex  Age  SibSp  Parch     Fare  \\\n",
       "0            1         0       3     1    0   22      1      0   7.2500   \n",
       "1            2         1       1     3    1   38      1      0  71.2833   \n",
       "2            3         1       3     2    1   26      0      0   7.9250   \n",
       "3            4         1       1     3    1   35      1      0  53.1000   \n",
       "4            5         0       3     1    0   35      0      0   8.0500   \n",
       "\n",
       "   Cabin  Embarked  Family  \n",
       "0      6         0       1  \n",
       "1      3         1       1  \n",
       "2      6         0       0  \n",
       "3      3         0       1  \n",
       "4      5         0       0  "
      ]
     },
     "execution_count": 11,
     "metadata": {},
     "output_type": "execute_result"
    }
   ],
   "source": [
    "data_df = pd.read_csv('titanic_data.csv')\n",
    "pipe = joblib.load(f'titanic_pipe.pkl')\n",
    "\n",
    "data_df.head()"
   ]
  },
  {
   "cell_type": "code",
   "execution_count": 12,
   "metadata": {},
   "outputs": [],
   "source": [
    "titanic_X = pipe.fit_transform(data_df)\n",
    "titanic_Y = np.array(data_df[['Survived']])\n",
    "\n",
    "x_train, x_test, y_train, y_test = \\\n",
    "   model_selection.train_test_split(titanic_X, titanic_Y, test_size=0.3, random_state=0)"
   ]
  },
  {
   "cell_type": "markdown",
   "metadata": {},
   "source": [
    "## Model Fitting"
   ]
  },
  {
   "cell_type": "code",
   "execution_count": 13,
   "metadata": {},
   "outputs": [],
   "source": [
    "from sklearn import linear_model # LogisticRegression()\n",
    "from sklearn import neighbors # KNeighborsClassifier()\n",
    "from sklearn.svm import SVC # SVC(gamma='auto')\n",
    "from sklearn import tree # DecisionTreeClassifier()\n",
    "from sklearn import ensemble # RandomForestClassifier()\n",
    "from sklearn import naive_bayes # BernoulliNB()\n",
    "from sklearn import cluster # KMeans(random_state=0)\n",
    "from sklearn import decomposition # PCA(n_components=1)"
   ]
  },
  {
   "cell_type": "code",
   "execution_count": 14,
   "metadata": {},
   "outputs": [],
   "source": [
    "estimators = [\n",
    "    ('Logistic', linear_model.LogisticRegression()),\n",
    "    ('KNN', neighbors.KNeighborsClassifier()),\n",
    "    ('SVM', SVC(gamma='auto')),\n",
    "    ('DecisionTree', tree.DecisionTreeClassifier(random_state = 0, max_depth = 4)),\n",
    "    ('RandomForest', ensemble.RandomForestClassifier(random_state = 0, n_jobs = -1, n_estimators = 100, max_depth = 4)),\n",
    "    ('NaiveBayes', naive_bayes.BernoulliNB())]"
   ]
  },
  {
   "cell_type": "code",
   "execution_count": 15,
   "metadata": {},
   "outputs": [],
   "source": [
    "comb = list()\n",
    "\n",
    "for i in range(2,len(estimators)+1):\n",
    "    comb += list(combinations(estimators, i))"
   ]
  },
  {
   "cell_type": "code",
   "execution_count": 16,
   "metadata": {},
   "outputs": [],
   "source": [
    "stacks = [StackingTransformer(estimator, \n",
    "                                    regression = False, \n",
    "                                    metric = accuracy_score, \n",
    "                                    n_folds = 4, stratified = True, shuffle = True, \n",
    "                                    random_state = 0, verbose = 0)\n",
    "                                    for estimator in comb]"
   ]
  },
  {
   "cell_type": "code",
   "execution_count": 17,
   "metadata": {},
   "outputs": [],
   "source": [
    "scores = list()\n",
    "\n",
    "for stack in stacks:\n",
    "    stack = stack.fit(x_train, y_train)\n",
    "\n",
    "    S_train = stack.transform(x_train)\n",
    "    S_test = stack.transform(x_test)\n",
    "\n",
    "    model = linear_model.LogisticRegression()\n",
    "    model = model.fit(S_train, y_train)\n",
    "    y_pred = model.predict(S_test)\n",
    "    scores.append((accuracy_score(y_test, y_pred), stack))"
   ]
  },
  {
   "cell_type": "code",
   "execution_count": 18,
   "metadata": {},
   "outputs": [
    {
     "data": {
      "text/plain": [
       "(0.8432835820895522,\n",
       " StackingTransformer(estimators=(('Logistic', LogisticRegression()),\n",
       "                                 ('SVM', SVC(gamma='auto')),\n",
       "                                 ('DecisionTree',\n",
       "                                  DecisionTreeClassifier(max_depth=4,\n",
       "                                                         random_state=0)),\n",
       "                                 ('RandomForest',\n",
       "                                  RandomForestClassifier(max_depth=4, n_jobs=-1,\n",
       "                                                         random_state=0)),\n",
       "                                 ('NaiveBayes', BernoulliNB())),\n",
       "                     metric=<function accuracy_score at 0x12f5d95e0>,\n",
       "                     regression=False, shuffle=True, stratified=True))"
      ]
     },
     "execution_count": 18,
     "metadata": {},
     "output_type": "execute_result"
    }
   ],
   "source": [
    "sorted(scores, key=lambda x: x[0])[-1]"
   ]
  },
  {
   "cell_type": "markdown",
   "metadata": {},
   "source": [
    "## ========== 테스트 코드 =========="
   ]
  },
  {
   "cell_type": "markdown",
   "metadata": {},
   "source": [
    "## Load Data\n",
    "3. 나이 및 선실 결측치 행 제거\n",
    "\n",
    "4. 나이 및 선실 결측치 평균값 처리\n",
    "5. 나이 결측치 행 제거 (One-Hot Encoding 적용 안함)"
   ]
  },
  {
   "cell_type": "code",
   "execution_count": 2,
   "metadata": {},
   "outputs": [],
   "source": [
    "data_df = pd.read_csv('titanic_data.csv')\n",
    "\n",
    "data_df_age = data_df[ data_df['Age'] > 0 ].copy()\n",
    "data_df_age['Age'] = data_df_age['Age'].astype(int)\n",
    "y_data_age = np.array(data_df_age[['Survived']])\n",
    "\n",
    "del data_df_age['PassengerId']\n",
    "del data_df_age['Cabin']\n",
    "del data_df_age['Survived']\n",
    "\n",
    "from sklearn.preprocessing import StandardScaler\n",
    "scaler = StandardScaler()\n",
    "scaler.fit(data_df_age[['Age']])\n",
    "data_df_age['Age'] = scaler.transform(data_df_age[['Age']])\n",
    "\n",
    "x_data_age = np.array(data_df_age)\n",
    "\n",
    "df_list = list()\n",
    "\n",
    "for i in [3, 4]:\n",
    "    df_list.append(pd.read_csv(f'titanic_data_{i}.csv'))\n",
    "\n",
    "pipe_list = list()\n",
    "\n",
    "for i in [2, 3]:\n",
    "    pipe_list.append(joblib.load(f'titanic_pipe_{i}.pkl'))\n",
    "\n",
    "data_list = list()\n",
    "\n",
    "for data, pipe in zip(df_list, pipe_list):\n",
    "    pipe.fit(data)\n",
    "    titanic_X = pipe.transform(data)\n",
    "    titanic_Y = np.array(data[['Survived']])\n",
    "    data_list.append((titanic_X, titanic_Y))\n",
    "\n",
    "data_list.append((x_data_age, y_data_age))\n",
    "\n",
    "tdata_list = list()\n",
    "\n",
    "for titanic_X, titanic_Y in data_list:\n",
    "   x_train, x_test, y_train, y_test = \\\n",
    "      model_selection.train_test_split(titanic_X, titanic_Y, test_size=0.3, random_state=0)\n",
    "   tdata_list.append((x_train, x_test, y_train, y_test))"
   ]
  },
  {
   "cell_type": "markdown",
   "metadata": {},
   "source": [
    "## Model Stacking"
   ]
  },
  {
   "cell_type": "code",
   "execution_count": 3,
   "metadata": {},
   "outputs": [],
   "source": [
    "from sklearn import linear_model # LogisticRegression()\n",
    "from sklearn import neighbors # KNeighborsClassifier()\n",
    "from sklearn.svm import SVC # SVC(gamma='auto')\n",
    "from sklearn import tree # DecisionTreeClassifier()\n",
    "from sklearn import ensemble # RandomForestClassifier()\n",
    "from sklearn import naive_bayes # BernoulliNB()"
   ]
  },
  {
   "cell_type": "code",
   "execution_count": 4,
   "metadata": {},
   "outputs": [],
   "source": [
    "estimators_3 = [\n",
    "    ('DecisionTree', tree.DecisionTreeClassifier(random_state = 0, max_depth = 4)),\n",
    "    ('Logistic', linear_model.LogisticRegression()),\n",
    "    ('KNN', neighbors.KNeighborsClassifier(19)),\n",
    "    ('SVM', SVC(gamma='auto')),\n",
    "    ('RandomForest', ensemble.RandomForestClassifier(random_state = 0, n_jobs = -1, n_estimators = 100, max_depth = 4)),\n",
    "    ('NaiveBayes', naive_bayes.BernoulliNB())]"
   ]
  },
  {
   "cell_type": "code",
   "execution_count": 5,
   "metadata": {},
   "outputs": [],
   "source": [
    "estimators_4 = [\n",
    "    ('KNN', neighbors.KNeighborsClassifier(27)),\n",
    "    ('Logistic', linear_model.LogisticRegression()),\n",
    "    ('SVM', SVC(gamma='auto')),\n",
    "    ('DecisionTree', tree.DecisionTreeClassifier(random_state = 0, max_depth = 4)),\n",
    "    ('RandomForest', ensemble.RandomForestClassifier(random_state = 0, n_jobs = -1, n_estimators = 100, max_depth = 4)),\n",
    "    ('NaiveBayes', naive_bayes.BernoulliNB())]"
   ]
  },
  {
   "cell_type": "code",
   "execution_count": 6,
   "metadata": {},
   "outputs": [],
   "source": [
    "estimators_6 = [\n",
    "    ('Logistic', linear_model.LogisticRegression()),\n",
    "    ('KNN', neighbors.KNeighborsClassifier(9)),\n",
    "    ('SVM', SVC(gamma='auto')),\n",
    "    ('DecisionTree', tree.DecisionTreeClassifier(random_state = 0, max_depth = 4)),\n",
    "    ('RandomForest', ensemble.RandomForestClassifier(random_state = 0, n_jobs = -1, n_estimators = 100, max_depth = 3)),\n",
    "    ('NaiveBayes', naive_bayes.BernoulliNB())]"
   ]
  },
  {
   "cell_type": "code",
   "execution_count": 7,
   "metadata": {},
   "outputs": [],
   "source": [
    "stack_3 = StackingTransformer(estimators_3, \n",
    "                            regression = False, \n",
    "                            metric = accuracy_score, \n",
    "                            n_folds = 4, stratified = True, shuffle = True, \n",
    "                            random_state = 0, verbose = 1)"
   ]
  },
  {
   "cell_type": "code",
   "execution_count": 8,
   "metadata": {},
   "outputs": [],
   "source": [
    "stack_4 = StackingTransformer(estimators_4, \n",
    "                            regression = False, \n",
    "                            metric = accuracy_score, \n",
    "                            n_folds = 4, stratified = True, shuffle = True, \n",
    "                            random_state = 0, verbose = 1)"
   ]
  },
  {
   "cell_type": "code",
   "execution_count": 9,
   "metadata": {},
   "outputs": [],
   "source": [
    "stack_6 = StackingTransformer(estimators_6, \n",
    "                            regression = False, \n",
    "                            metric = accuracy_score, \n",
    "                            n_folds = 4, stratified = True, shuffle = True, \n",
    "                            random_state = 0, verbose = 1)"
   ]
  },
  {
   "cell_type": "code",
   "execution_count": 11,
   "metadata": {},
   "outputs": [
    {
     "name": "stdout",
     "output_type": "stream",
     "text": [
      "task:         [classification]\n",
      "n_classes:    [2]\n",
      "metric:       [accuracy_score]\n",
      "variant:      [A]\n",
      "n_estimators: [6]\n",
      "\n",
      "estimator  0: [DecisionTree: DecisionTreeClassifier]\n",
      "    MEAN:     [0.68181818] + [0.08767784]\n",
      "\n",
      "estimator  1: [Logistic: LogisticRegression]\n",
      "    MEAN:     [0.73603220] + [0.06568098]\n",
      "\n",
      "estimator  2: [KNN: KNeighborsClassifier]\n",
      "    MEAN:     [0.68963068] + [0.05087429]\n",
      "\n",
      "estimator  3: [SVM: SVC]\n",
      "    MEAN:     [0.70572917] + [0.03157384]\n",
      "\n",
      "estimator  4: [RandomForest: RandomForestClassifier]\n",
      "    MEAN:     [0.69767992] + [0.04600058]\n",
      "\n",
      "estimator  5: [NaiveBayes: BernoulliNB]\n",
      "    MEAN:     [0.72774621] + [0.09097935]\n",
      "\n",
      "Train set was detected.\n",
      "Transforming...\n",
      "\n",
      "estimator  0: [DecisionTree: DecisionTreeClassifier]\n",
      "    DONE\n",
      "\n",
      "estimator  1: [Logistic: LogisticRegression]\n",
      "    DONE\n",
      "\n",
      "estimator  2: [KNN: KNeighborsClassifier]\n",
      "    DONE\n",
      "\n",
      "estimator  3: [SVM: SVC]\n",
      "    DONE\n",
      "\n",
      "estimator  4: [RandomForest: RandomForestClassifier]\n",
      "    DONE\n",
      "\n",
      "estimator  5: [NaiveBayes: BernoulliNB]\n",
      "    DONE\n",
      "\n",
      "Transforming...\n",
      "\n",
      "estimator  0: [DecisionTree: DecisionTreeClassifier]\n",
      "    DONE\n",
      "\n",
      "estimator  1: [Logistic: LogisticRegression]\n",
      "    DONE\n",
      "\n",
      "estimator  2: [KNN: KNeighborsClassifier]\n",
      "    DONE\n",
      "\n",
      "estimator  3: [SVM: SVC]\n",
      "    DONE\n",
      "\n",
      "estimator  4: [RandomForest: RandomForestClassifier]\n",
      "    DONE\n",
      "\n",
      "estimator  5: [NaiveBayes: BernoulliNB]\n",
      "    DONE\n",
      "\n",
      "task:         [classification]\n",
      "n_classes:    [2]\n",
      "metric:       [accuracy_score]\n",
      "variant:      [A]\n",
      "n_estimators: [6]\n",
      "\n",
      "estimator  0: [KNN: KNeighborsClassifier]\n",
      "    MEAN:     [0.80896402] + [0.04175422]\n",
      "\n",
      "estimator  1: [Logistic: LogisticRegression]\n",
      "    MEAN:     [0.80256410] + [0.02500822]\n",
      "\n",
      "estimator  2: [SVM: SVC]\n",
      "    MEAN:     [0.78650744] + [0.04042976]\n",
      "\n",
      "estimator  3: [DecisionTree: DecisionTreeClassifier]\n",
      "    MEAN:     [0.80900538] + [0.04601812]\n",
      "\n",
      "estimator  4: [RandomForest: RandomForestClassifier]\n",
      "    MEAN:     [0.81217949] + [0.04269924]\n",
      "\n",
      "estimator  5: [NaiveBayes: BernoulliNB]\n",
      "    MEAN:     [0.79612283] + [0.03734672]\n",
      "\n",
      "Train set was detected.\n",
      "Transforming...\n",
      "\n",
      "estimator  0: [KNN: KNeighborsClassifier]\n",
      "    DONE\n",
      "\n",
      "estimator  1: [Logistic: LogisticRegression]\n",
      "    DONE\n",
      "\n",
      "estimator  2: [SVM: SVC]\n",
      "    DONE\n",
      "\n",
      "estimator  3: [DecisionTree: DecisionTreeClassifier]\n",
      "    DONE\n",
      "\n",
      "estimator  4: [RandomForest: RandomForestClassifier]\n",
      "    DONE\n",
      "\n",
      "estimator  5: [NaiveBayes: BernoulliNB]\n",
      "    DONE\n",
      "\n",
      "Transforming...\n",
      "\n",
      "estimator  0: [KNN: KNeighborsClassifier]\n",
      "    DONE\n",
      "\n",
      "estimator  1: [Logistic: LogisticRegression]\n",
      "    DONE\n",
      "\n",
      "estimator  2: [SVM: SVC]\n",
      "    DONE\n",
      "\n",
      "estimator  3: [DecisionTree: DecisionTreeClassifier]\n",
      "    DONE\n",
      "\n",
      "estimator  4: [RandomForest: RandomForestClassifier]\n",
      "    DONE\n",
      "\n",
      "estimator  5: [NaiveBayes: BernoulliNB]\n",
      "    DONE\n",
      "\n",
      "task:         [classification]\n",
      "n_classes:    [2]\n",
      "metric:       [accuracy_score]\n",
      "variant:      [A]\n",
      "n_estimators: [6]\n",
      "\n",
      "estimator  0: [Logistic: LogisticRegression]\n",
      "    MEAN:     [0.76759677] + [0.02479277]\n",
      "\n",
      "estimator  1: [KNN: KNeighborsClassifier]\n",
      "    MEAN:     [0.80759677] + [0.01717380]\n",
      "\n",
      "estimator  2: [SVM: SVC]\n",
      "    MEAN:     [0.80766129] + [0.01743806]\n",
      "\n",
      "estimator  3: [DecisionTree: DecisionTreeClassifier]\n",
      "    MEAN:     [0.78158065] + [0.01709212]\n",
      "\n",
      "estimator  4: [RandomForest: RandomForestClassifier]\n",
      "    MEAN:     [0.79364516] + [0.02242961]\n",
      "\n",
      "estimator  5: [NaiveBayes: BernoulliNB]\n",
      "    MEAN:     [0.77153226] + [0.01756127]\n",
      "\n",
      "Train set was detected.\n",
      "Transforming...\n",
      "\n",
      "estimator  0: [Logistic: LogisticRegression]\n",
      "    DONE\n",
      "\n",
      "estimator  1: [KNN: KNeighborsClassifier]\n",
      "    DONE\n",
      "\n",
      "estimator  2: [SVM: SVC]\n",
      "    DONE\n",
      "\n",
      "estimator  3: [DecisionTree: DecisionTreeClassifier]\n",
      "    DONE\n",
      "\n",
      "estimator  4: [RandomForest: RandomForestClassifier]\n",
      "    DONE\n",
      "\n",
      "estimator  5: [NaiveBayes: BernoulliNB]\n",
      "    DONE\n",
      "\n",
      "Transforming...\n",
      "\n",
      "estimator  0: [Logistic: LogisticRegression]\n",
      "    DONE\n",
      "\n",
      "estimator  1: [KNN: KNeighborsClassifier]\n",
      "    DONE\n",
      "\n",
      "estimator  2: [SVM: SVC]\n",
      "    DONE\n",
      "\n",
      "estimator  3: [DecisionTree: DecisionTreeClassifier]\n",
      "    DONE\n",
      "\n",
      "estimator  4: [RandomForest: RandomForestClassifier]\n",
      "    DONE\n",
      "\n",
      "estimator  5: [NaiveBayes: BernoulliNB]\n",
      "    DONE\n",
      "\n"
     ]
    }
   ],
   "source": [
    "stack_zip = zip([3,4,6], tdata_list, [stack_3,stack_4,stack_6])\n",
    "s_list = list()\n",
    "\n",
    "for i, (x_train, x_test, y_train, y_test), stack in stack_zip:\n",
    "    stack = stack.fit(x_train, y_train)\n",
    "    S_train = stack.transform(x_train)\n",
    "    S_test = stack.transform(x_test)\n",
    "    s_list.append((S_train,S_test))"
   ]
  },
  {
   "cell_type": "code",
   "execution_count": 12,
   "metadata": {},
   "outputs": [],
   "source": [
    "model_3 = tree.DecisionTreeClassifier(random_state = 0, max_depth = 4)\n",
    "model_4 = neighbors.KNeighborsClassifier(27)\n",
    "model_6 = linear_model.LogisticRegression()"
   ]
  },
  {
   "cell_type": "code",
   "execution_count": 14,
   "metadata": {},
   "outputs": [
    {
     "name": "stdout",
     "output_type": "stream",
     "text": [
      "Final prediction score 3: [0.80357143]\n",
      "Final prediction score 4: [0.80970149]\n",
      "Final prediction score 6: [0.82790698]\n"
     ]
    }
   ],
   "source": [
    "stack_zip = zip([3,4,6], tdata_list, s_list, [model_3,model_4,model_6])\n",
    "model_list = list()\n",
    "\n",
    "for i, (x_train, x_test, y_train, y_test), (S_train, S_test), model in stack_zip:\n",
    "    model = model.fit(S_train, y_train)\n",
    "    y_pred = model.predict(S_test)\n",
    "    model_list.append(model)\n",
    "    print(f'Final prediction score {i}: [%.8f]' % accuracy_score(y_test, y_pred))"
   ]
  },
  {
   "cell_type": "markdown",
   "metadata": {},
   "source": [
    "## 모든 조합 (Data 3)"
   ]
  },
  {
   "cell_type": "code",
   "execution_count": 28,
   "metadata": {},
   "outputs": [],
   "source": [
    "from itertools import combinations\n",
    "\n",
    "est_3_list = list()\n",
    "\n",
    "for i in range(2,len(estimators_3)+1):\n",
    "    est_3_list += list(combinations(estimators_3, i))"
   ]
  },
  {
   "cell_type": "code",
   "execution_count": 23,
   "metadata": {},
   "outputs": [],
   "source": [
    "stack_list_3 = [StackingTransformer(estimator, \n",
    "                            regression = False, \n",
    "                            metric = accuracy_score, \n",
    "                            n_folds = 4, stratified = True, shuffle = True, \n",
    "                            random_state = 0, verbose = 0)\n",
    "                            for estimator in est_3_list]"
   ]
  },
  {
   "cell_type": "code",
   "execution_count": 29,
   "metadata": {},
   "outputs": [],
   "source": [
    "x_train, x_test, y_train, y_test = tdata_list[0]\n",
    "score_list_3 = list()\n",
    "\n",
    "for stack in stack_list_3:\n",
    "    stack = stack.fit(x_train, y_train)\n",
    "    S_train = stack.transform(x_train)\n",
    "    S_test = stack.transform(x_test)\n",
    "    model = tree.DecisionTreeClassifier(random_state = 0, max_depth = 4)\n",
    "    model = model.fit(S_train, y_train)\n",
    "    y_pred = model.predict(S_test)\n",
    "    score_list_3.append((accuracy_score(y_test, y_pred), stack))"
   ]
  },
  {
   "cell_type": "code",
   "execution_count": 30,
   "metadata": {},
   "outputs": [
    {
     "data": {
      "text/plain": [
       "(0.8571428571428571,\n",
       " StackingTransformer(estimators=(('DecisionTree',\n",
       "                                  DecisionTreeClassifier(max_depth=4,\n",
       "                                                         random_state=0)),\n",
       "                                 ('Logistic', LogisticRegression()),\n",
       "                                 ('KNN', KNeighborsClassifier(n_neighbors=19)),\n",
       "                                 ('RandomForest',\n",
       "                                  RandomForestClassifier(max_depth=4, n_jobs=-1,\n",
       "                                                         random_state=0)),\n",
       "                                 ('NaiveBayes', BernoulliNB())),\n",
       "                     metric=<function accuracy_score at 0x1678c55e0>,\n",
       "                     regression=False, shuffle=True, stratified=True))"
      ]
     },
     "execution_count": 30,
     "metadata": {},
     "output_type": "execute_result"
    }
   ],
   "source": [
    "sorted(score_list_3, key=lambda x: x[0])[-1]"
   ]
  },
  {
   "cell_type": "markdown",
   "metadata": {},
   "source": [
    "## 모든 조합 (Data 4)"
   ]
  },
  {
   "cell_type": "code",
   "execution_count": 35,
   "metadata": {},
   "outputs": [],
   "source": [
    "from itertools import combinations\n",
    "\n",
    "est_4_list = list()\n",
    "\n",
    "for i in range(2,len(estimators_4)+1):\n",
    "    est_4_list += list(combinations(estimators_4, i))"
   ]
  },
  {
   "cell_type": "code",
   "execution_count": 36,
   "metadata": {},
   "outputs": [],
   "source": [
    "stack_list_4 = [StackingTransformer(estimator, \n",
    "                            regression = False, \n",
    "                            metric = accuracy_score, \n",
    "                            n_folds = 4, stratified = True, shuffle = True, \n",
    "                            random_state = 0, verbose = 0)\n",
    "                            for estimator in est_4_list]"
   ]
  },
  {
   "cell_type": "code",
   "execution_count": 37,
   "metadata": {},
   "outputs": [],
   "source": [
    "x_train, x_test, y_train, y_test = tdata_list[1]\n",
    "score_list_4 = list()\n",
    "\n",
    "for stack in stack_list_4:\n",
    "    stack = stack.fit(x_train, y_train)\n",
    "    S_train = stack.transform(x_train)\n",
    "    S_test = stack.transform(x_test)\n",
    "    model = neighbors.KNeighborsClassifier(27)\n",
    "    model = model.fit(S_train, y_train)\n",
    "    y_pred = model.predict(S_test)\n",
    "    score_list_4.append((accuracy_score(y_test, y_pred), stack))"
   ]
  },
  {
   "cell_type": "code",
   "execution_count": 38,
   "metadata": {},
   "outputs": [
    {
     "data": {
      "text/plain": [
       "(0.8171641791044776,\n",
       " StackingTransformer(estimators=(('Logistic', LogisticRegression()),\n",
       "                                 ('SVM', SVC(gamma='auto')),\n",
       "                                 ('DecisionTree',\n",
       "                                  DecisionTreeClassifier(max_depth=4,\n",
       "                                                         random_state=0)),\n",
       "                                 ('RandomForest',\n",
       "                                  RandomForestClassifier(max_depth=4, n_jobs=-1,\n",
       "                                                         random_state=0))),\n",
       "                     metric=<function accuracy_score at 0x1678c55e0>,\n",
       "                     regression=False, shuffle=True, stratified=True))"
      ]
     },
     "execution_count": 38,
     "metadata": {},
     "output_type": "execute_result"
    }
   ],
   "source": [
    "sorted(score_list_4, key=lambda x: x[0])[-1]"
   ]
  },
  {
   "cell_type": "markdown",
   "metadata": {},
   "source": [
    "## 모든 조합 (Data 6)"
   ]
  },
  {
   "cell_type": "code",
   "execution_count": 39,
   "metadata": {},
   "outputs": [],
   "source": [
    "from itertools import combinations\n",
    "\n",
    "est_6_list = list()\n",
    "\n",
    "for i in range(2,len(estimators_6)+1):\n",
    "    est_6_list += list(combinations(estimators_6, i))"
   ]
  },
  {
   "cell_type": "code",
   "execution_count": 40,
   "metadata": {},
   "outputs": [],
   "source": [
    "stack_list_6 = [StackingTransformer(estimator, \n",
    "                            regression = False, \n",
    "                            metric = accuracy_score, \n",
    "                            n_folds = 4, stratified = True, shuffle = True, \n",
    "                            random_state = 0, verbose = 0)\n",
    "                            for estimator in est_6_list]"
   ]
  },
  {
   "cell_type": "code",
   "execution_count": 41,
   "metadata": {},
   "outputs": [],
   "source": [
    "x_train, x_test, y_train, y_test = tdata_list[2]\n",
    "score_list_6 = list()\n",
    "\n",
    "for stack in stack_list_6:\n",
    "    stack = stack.fit(x_train, y_train)\n",
    "    S_train = stack.transform(x_train)\n",
    "    S_test = stack.transform(x_test)\n",
    "    model = linear_model.LogisticRegression()\n",
    "    model = model.fit(S_train, y_train)\n",
    "    y_pred = model.predict(S_test)\n",
    "    score_list_6.append((accuracy_score(y_test, y_pred), stack))"
   ]
  },
  {
   "cell_type": "code",
   "execution_count": 42,
   "metadata": {},
   "outputs": [
    {
     "data": {
      "text/plain": [
       "(0.8372093023255814,\n",
       " StackingTransformer(estimators=(('KNN', KNeighborsClassifier(n_neighbors=9)),\n",
       "                                 ('SVM', SVC(gamma='auto')),\n",
       "                                 ('RandomForest',\n",
       "                                  RandomForestClassifier(max_depth=3, n_jobs=-1,\n",
       "                                                         random_state=0))),\n",
       "                     metric=<function accuracy_score at 0x1678c55e0>,\n",
       "                     regression=False, shuffle=True, stratified=True))"
      ]
     },
     "execution_count": 42,
     "metadata": {},
     "output_type": "execute_result"
    }
   ],
   "source": [
    "sorted(score_list_6, key=lambda x: x[0])[-1]"
   ]
  },
  {
   "cell_type": "code",
   "execution_count": null,
   "metadata": {},
   "outputs": [],
   "source": []
  }
 ],
 "metadata": {
  "interpreter": {
   "hash": "b0fa6594d8f4cbf19f97940f81e996739fb7646882a419484c72d19e05852a7e"
  },
  "kernelspec": {
   "display_name": "Python 3.9.10 64-bit",
   "language": "python",
   "name": "python3"
  },
  "language_info": {
   "codemirror_mode": {
    "name": "ipython",
    "version": 3
   },
   "file_extension": ".py",
   "mimetype": "text/x-python",
   "name": "python",
   "nbconvert_exporter": "python",
   "pygments_lexer": "ipython3",
   "version": "3.9.10"
  },
  "orig_nbformat": 4
 },
 "nbformat": 4,
 "nbformat_minor": 2
}
