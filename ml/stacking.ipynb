{
 "cells": [
  {
   "cell_type": "markdown",
   "metadata": {},
   "source": [
    "# Model Stacking\n",
    "[Logistic Regression, KNN, SVC, Decision Tree, Random Forest, Naive Bayes, XGBoost, LightGBM, LDA]"
   ]
  },
  {
   "cell_type": "code",
   "execution_count": 1,
   "metadata": {},
   "outputs": [],
   "source": [
    "import pandas as pd\n",
    "import numpy as np\n",
    "import matplotlib.pyplot as plt\n",
    "\n",
    "from sklearn import model_selection\n",
    "from sklearn.metrics import accuracy_score\n",
    "\n",
    "from tqdm import tqdm\n",
    "from vecstack import StackingTransformer\n",
    "from itertools import combinations\n",
    "import joblib\n",
    "\n",
    "import warnings\n",
    "warnings.filterwarnings(\"ignore\")"
   ]
  },
  {
   "cell_type": "markdown",
   "metadata": {},
   "source": [
    "## Load Data"
   ]
  },
  {
   "cell_type": "code",
   "execution_count": 2,
   "metadata": {},
   "outputs": [
    {
     "data": {
      "text/html": [
       "<div>\n",
       "<style scoped>\n",
       "    .dataframe tbody tr th:only-of-type {\n",
       "        vertical-align: middle;\n",
       "    }\n",
       "\n",
       "    .dataframe tbody tr th {\n",
       "        vertical-align: top;\n",
       "    }\n",
       "\n",
       "    .dataframe thead th {\n",
       "        text-align: right;\n",
       "    }\n",
       "</style>\n",
       "<table border=\"1\" class=\"dataframe\">\n",
       "  <thead>\n",
       "    <tr style=\"text-align: right;\">\n",
       "      <th></th>\n",
       "      <th>PassengerId</th>\n",
       "      <th>Survived</th>\n",
       "      <th>Pclass</th>\n",
       "      <th>Name</th>\n",
       "      <th>Sex</th>\n",
       "      <th>Age</th>\n",
       "      <th>Fare</th>\n",
       "      <th>Cabin</th>\n",
       "      <th>Embarked</th>\n",
       "      <th>Family</th>\n",
       "    </tr>\n",
       "  </thead>\n",
       "  <tbody>\n",
       "    <tr>\n",
       "      <th>0</th>\n",
       "      <td>1</td>\n",
       "      <td>0</td>\n",
       "      <td>3</td>\n",
       "      <td>1</td>\n",
       "      <td>0</td>\n",
       "      <td>1</td>\n",
       "      <td>0</td>\n",
       "      <td>6</td>\n",
       "      <td>0</td>\n",
       "      <td>1</td>\n",
       "    </tr>\n",
       "    <tr>\n",
       "      <th>1</th>\n",
       "      <td>2</td>\n",
       "      <td>1</td>\n",
       "      <td>1</td>\n",
       "      <td>3</td>\n",
       "      <td>1</td>\n",
       "      <td>2</td>\n",
       "      <td>4</td>\n",
       "      <td>3</td>\n",
       "      <td>1</td>\n",
       "      <td>1</td>\n",
       "    </tr>\n",
       "    <tr>\n",
       "      <th>2</th>\n",
       "      <td>3</td>\n",
       "      <td>1</td>\n",
       "      <td>3</td>\n",
       "      <td>2</td>\n",
       "      <td>1</td>\n",
       "      <td>1</td>\n",
       "      <td>1</td>\n",
       "      <td>6</td>\n",
       "      <td>0</td>\n",
       "      <td>0</td>\n",
       "    </tr>\n",
       "    <tr>\n",
       "      <th>3</th>\n",
       "      <td>4</td>\n",
       "      <td>1</td>\n",
       "      <td>1</td>\n",
       "      <td>3</td>\n",
       "      <td>1</td>\n",
       "      <td>2</td>\n",
       "      <td>4</td>\n",
       "      <td>3</td>\n",
       "      <td>0</td>\n",
       "      <td>1</td>\n",
       "    </tr>\n",
       "    <tr>\n",
       "      <th>4</th>\n",
       "      <td>5</td>\n",
       "      <td>0</td>\n",
       "      <td>3</td>\n",
       "      <td>1</td>\n",
       "      <td>0</td>\n",
       "      <td>2</td>\n",
       "      <td>1</td>\n",
       "      <td>6</td>\n",
       "      <td>0</td>\n",
       "      <td>0</td>\n",
       "    </tr>\n",
       "  </tbody>\n",
       "</table>\n",
       "</div>"
      ],
      "text/plain": [
       "   PassengerId  Survived  Pclass  Name  Sex  Age  Fare  Cabin  Embarked  \\\n",
       "0            1         0       3     1    0    1     0      6         0   \n",
       "1            2         1       1     3    1    2     4      3         1   \n",
       "2            3         1       3     2    1    1     1      6         0   \n",
       "3            4         1       1     3    1    2     4      3         0   \n",
       "4            5         0       3     1    0    2     1      6         0   \n",
       "\n",
       "   Family  \n",
       "0       1  \n",
       "1       1  \n",
       "2       0  \n",
       "3       1  \n",
       "4       0  "
      ]
     },
     "execution_count": 2,
     "metadata": {},
     "output_type": "execute_result"
    }
   ],
   "source": [
    "data_df = pd.read_csv('titanic_data.csv')\n",
    "data_df.head()"
   ]
  },
  {
   "cell_type": "code",
   "execution_count": 3,
   "metadata": {},
   "outputs": [
    {
     "data": {
      "text/plain": [
       "Pipeline(steps=[('preprocessor',\n",
       "                 ColumnTransformer(transformers=[('cat',\n",
       "                                                  OneHotEncoder(handle_unknown='ignore'),\n",
       "                                                  ['Pclass', 'Name', 'Sex',\n",
       "                                                   'Age', 'Fare', 'Cabin',\n",
       "                                                   'Embarked', 'Family'])]))])"
      ]
     },
     "execution_count": 3,
     "metadata": {},
     "output_type": "execute_result"
    }
   ],
   "source": [
    "pipe = joblib.load(f'titanic_pipe.pkl')\n",
    "pipe"
   ]
  },
  {
   "cell_type": "code",
   "execution_count": 4,
   "metadata": {},
   "outputs": [],
   "source": [
    "titanic_X = data_df.drop(['PassengerId','Survived'], axis=1)\n",
    "titanic_Y = np.array(data_df[['Survived']])\n",
    "\n",
    "x_train, x_test, y_train, y_test = \\\n",
    "   model_selection.train_test_split(titanic_X, titanic_Y, test_size=0.3, random_state=0)\n",
    "\n",
    "x_train = pipe.fit_transform(x_train)\n",
    "x_test = pipe.transform(x_test)"
   ]
  },
  {
   "cell_type": "markdown",
   "metadata": {},
   "source": [
    "## Model Fitting"
   ]
  },
  {
   "cell_type": "code",
   "execution_count": 5,
   "metadata": {},
   "outputs": [],
   "source": [
    "from sklearn.linear_model import LogisticRegression\n",
    "from sklearn.neighbors import KNeighborsClassifier\n",
    "from sklearn.svm import SVC\n",
    "from sklearn.tree import DecisionTreeClassifier\n",
    "from sklearn.ensemble import RandomForestClassifier\n",
    "from sklearn.naive_bayes import BernoulliNB\n",
    "from sklearn.cluster import KMeans\n",
    "from sklearn.decomposition import PCA\n",
    "from xgboost import XGBClassifier\n",
    "from lightgbm.sklearn import LGBMClassifier\n",
    "from sklearn.discriminant_analysis import LinearDiscriminantAnalysis"
   ]
  },
  {
   "cell_type": "markdown",
   "metadata": {},
   "source": [
    "### 5-Fold"
   ]
  },
  {
   "cell_type": "code",
   "execution_count": 6,
   "metadata": {},
   "outputs": [],
   "source": [
    "# Stacking 모델은 모든 조합에 대해 for문을 돌렸을 때 가장 높은 Accuracy가 나온 모델 조합을 선택\n",
    "estimator = [\n",
    "    ('Logistic', LogisticRegression()),\n",
    "    ('SVC', SVC(kernel='rbf', C=100, gamma=0.01)),\n",
    "    ('DecisionTree', DecisionTreeClassifier(random_state = 0, max_depth = 4)),\n",
    "    ('RandomForest', RandomForestClassifier(random_state = 0, n_estimators = 100, max_depth = 6))]"
   ]
  },
  {
   "cell_type": "code",
   "execution_count": 7,
   "metadata": {},
   "outputs": [],
   "source": [
    "stack = StackingTransformer(estimator, \n",
    "                            regression = False, \n",
    "                            metric = accuracy_score, \n",
    "                            n_folds = 5, stratified = True, shuffle = True, \n",
    "                            random_state = 0, verbose = 0)"
   ]
  },
  {
   "cell_type": "code",
   "execution_count": 8,
   "metadata": {},
   "outputs": [
    {
     "data": {
      "text/plain": [
       "0.8544776119402985"
      ]
     },
     "execution_count": 8,
     "metadata": {},
     "output_type": "execute_result"
    }
   ],
   "source": [
    "stack = stack.fit(x_train, y_train)\n",
    "\n",
    "S_train = stack.transform(x_train)\n",
    "S_test = stack.transform(x_test)\n",
    "\n",
    "model = DecisionTreeClassifier(max_depth=4, random_state=0)\n",
    "model = model.fit(S_train, y_train)\n",
    "y_pred = model.predict(S_test)\n",
    "accuracy_score(y_test, y_pred)"
   ]
  },
  {
   "cell_type": "markdown",
   "metadata": {},
   "source": [
    "### 10-Fold"
   ]
  },
  {
   "cell_type": "code",
   "execution_count": 9,
   "metadata": {},
   "outputs": [],
   "source": [
    "# Stacking 모델은 모든 조합에 대해 for문을 돌렸을 때 가장 높은 Accuracy가 나온 모델 조합을 선택\n",
    "estimator = [\n",
    "    ('Logistic', LogisticRegression()),\n",
    "    ('KNN', KNeighborsClassifier(16)),\n",
    "    ('DecisionTree', DecisionTreeClassifier(random_state = 0, max_depth = 4)),\n",
    "    ('NaiveBayes', BernoulliNB(alpha=10))]"
   ]
  },
  {
   "cell_type": "code",
   "execution_count": 10,
   "metadata": {},
   "outputs": [],
   "source": [
    "stack = StackingTransformer(estimator, \n",
    "                            regression = False, \n",
    "                            metric = accuracy_score, \n",
    "                            n_folds = 10, stratified = True, shuffle = True, \n",
    "                            random_state = 0, verbose = 0)"
   ]
  },
  {
   "cell_type": "code",
   "execution_count": 11,
   "metadata": {},
   "outputs": [
    {
     "data": {
      "text/plain": [
       "0.8507462686567164"
      ]
     },
     "execution_count": 11,
     "metadata": {},
     "output_type": "execute_result"
    }
   ],
   "source": [
    "stack = stack.fit(x_train, y_train)\n",
    "\n",
    "S_train = stack.transform(x_train)\n",
    "S_test = stack.transform(x_test)\n",
    "\n",
    "model = RandomForestClassifier(random_state = 0, n_estimators = 100, max_depth = 6)\n",
    "model = model.fit(S_train, y_train)\n",
    "y_pred = model.predict(S_test)\n",
    "accuracy_score(y_test, y_pred)"
   ]
  },
  {
   "cell_type": "markdown",
   "metadata": {},
   "source": [
    "## Stacking Combination"
   ]
  },
  {
   "cell_type": "code",
   "execution_count": 12,
   "metadata": {},
   "outputs": [],
   "source": [
    "estimators = [\n",
    "    ('Logistic', LogisticRegression()),\n",
    "    ('KNN', KNeighborsClassifier(16)),\n",
    "    ('SVM', SVC(kernel='rbf', C=100, gamma=0.01)),\n",
    "    ('DecisionTree', DecisionTreeClassifier(random_state = 0, max_depth = 4)),\n",
    "    ('RandomForest', RandomForestClassifier(random_state = 0, n_estimators = 100, max_depth = 6)),\n",
    "    ('NaiveBayes', BernoulliNB(alpha=10)),\n",
    "    ('XGBoost', XGBClassifier(seed = 0, n_estimators = 200, max_depth = 2, verbosity=0)),\n",
    "    ('LightGBM', LGBMClassifier(random_state=0, n_estimators = 200, max_depth = 2))]"
   ]
  },
  {
   "cell_type": "code",
   "execution_count": 13,
   "metadata": {},
   "outputs": [],
   "source": [
    "comb = list()\n",
    "\n",
    "for i in range(2,len(estimators)+1):\n",
    "    comb += list(combinations(estimators, i))"
   ]
  },
  {
   "cell_type": "code",
   "execution_count": 14,
   "metadata": {},
   "outputs": [],
   "source": [
    "stacks = [StackingTransformer(estimator, \n",
    "                              regression = False, \n",
    "                              metric = accuracy_score, \n",
    "                              n_folds = 5, stratified = True, shuffle = True, \n",
    "                              random_state = 0, verbose = 0)\n",
    "                              for estimator in comb]"
   ]
  },
  {
   "cell_type": "code",
   "execution_count": 16,
   "metadata": {},
   "outputs": [
    {
     "name": "stderr",
     "output_type": "stream",
     "text": [
      "Stack: 100%|██████████| 247/247 [04:58<00:00,  1.21s/it]\n"
     ]
    }
   ],
   "source": [
    "scores = list()\n",
    "models = estimators + [('LDA', LinearDiscriminantAnalysis())]\n",
    "\n",
    "for stack in tqdm(stacks, desc='Stack'):\n",
    "    stack = stack.fit(x_train, y_train)\n",
    "\n",
    "    S_train = stack.transform(x_train)\n",
    "    S_test = stack.transform(x_test)\n",
    "\n",
    "    for name, model in models:\n",
    "        model.fit(S_train, y_train)\n",
    "        y_pred = model.predict(S_test)\n",
    "        scores.append((accuracy_score(y_test, y_pred), (stack, model)))"
   ]
  },
  {
   "cell_type": "code",
   "execution_count": 17,
   "metadata": {},
   "outputs": [
    {
     "data": {
      "text/plain": [
       "(0.8544776119402985,\n",
       " (StackingTransformer(estimators=(('Logistic', LogisticRegression()),\n",
       "                                  ('SVM', SVC(C=100, gamma=0.01)),\n",
       "                                  ('RandomForest',\n",
       "                                   RandomForestClassifier(max_depth=6,\n",
       "                                                          random_state=0))),\n",
       "                      metric=<function accuracy_score at 0x13979ab80>, n_folds=5,\n",
       "                      regression=False, shuffle=True, stratified=True),\n",
       "  RandomForestClassifier(max_depth=6, random_state=0)))"
      ]
     },
     "execution_count": 17,
     "metadata": {},
     "output_type": "execute_result"
    }
   ],
   "source": [
    "sorted(scores, key=lambda x: x[0], reverse=True)[0]"
   ]
  },
  {
   "cell_type": "markdown",
   "metadata": {},
   "source": [
    "## Case 2: Numeric Age\n",
    "수치형 나이 데이터를 모델에 적용한 경우"
   ]
  },
  {
   "cell_type": "code",
   "execution_count": 18,
   "metadata": {},
   "outputs": [
    {
     "data": {
      "text/html": [
       "<div>\n",
       "<style scoped>\n",
       "    .dataframe tbody tr th:only-of-type {\n",
       "        vertical-align: middle;\n",
       "    }\n",
       "\n",
       "    .dataframe tbody tr th {\n",
       "        vertical-align: top;\n",
       "    }\n",
       "\n",
       "    .dataframe thead th {\n",
       "        text-align: right;\n",
       "    }\n",
       "</style>\n",
       "<table border=\"1\" class=\"dataframe\">\n",
       "  <thead>\n",
       "    <tr style=\"text-align: right;\">\n",
       "      <th></th>\n",
       "      <th>PassengerId</th>\n",
       "      <th>Survived</th>\n",
       "      <th>Pclass</th>\n",
       "      <th>Name</th>\n",
       "      <th>Sex</th>\n",
       "      <th>Age</th>\n",
       "      <th>Fare</th>\n",
       "      <th>Cabin</th>\n",
       "      <th>Embarked</th>\n",
       "      <th>Family</th>\n",
       "    </tr>\n",
       "  </thead>\n",
       "  <tbody>\n",
       "    <tr>\n",
       "      <th>0</th>\n",
       "      <td>1</td>\n",
       "      <td>0</td>\n",
       "      <td>3</td>\n",
       "      <td>1</td>\n",
       "      <td>0</td>\n",
       "      <td>22</td>\n",
       "      <td>0</td>\n",
       "      <td>6</td>\n",
       "      <td>0</td>\n",
       "      <td>1</td>\n",
       "    </tr>\n",
       "    <tr>\n",
       "      <th>1</th>\n",
       "      <td>2</td>\n",
       "      <td>1</td>\n",
       "      <td>1</td>\n",
       "      <td>3</td>\n",
       "      <td>1</td>\n",
       "      <td>38</td>\n",
       "      <td>4</td>\n",
       "      <td>3</td>\n",
       "      <td>1</td>\n",
       "      <td>1</td>\n",
       "    </tr>\n",
       "    <tr>\n",
       "      <th>2</th>\n",
       "      <td>3</td>\n",
       "      <td>1</td>\n",
       "      <td>3</td>\n",
       "      <td>2</td>\n",
       "      <td>1</td>\n",
       "      <td>26</td>\n",
       "      <td>1</td>\n",
       "      <td>6</td>\n",
       "      <td>0</td>\n",
       "      <td>0</td>\n",
       "    </tr>\n",
       "    <tr>\n",
       "      <th>3</th>\n",
       "      <td>4</td>\n",
       "      <td>1</td>\n",
       "      <td>1</td>\n",
       "      <td>3</td>\n",
       "      <td>1</td>\n",
       "      <td>35</td>\n",
       "      <td>4</td>\n",
       "      <td>3</td>\n",
       "      <td>0</td>\n",
       "      <td>1</td>\n",
       "    </tr>\n",
       "    <tr>\n",
       "      <th>4</th>\n",
       "      <td>5</td>\n",
       "      <td>0</td>\n",
       "      <td>3</td>\n",
       "      <td>1</td>\n",
       "      <td>0</td>\n",
       "      <td>35</td>\n",
       "      <td>1</td>\n",
       "      <td>6</td>\n",
       "      <td>0</td>\n",
       "      <td>0</td>\n",
       "    </tr>\n",
       "  </tbody>\n",
       "</table>\n",
       "</div>"
      ],
      "text/plain": [
       "   PassengerId  Survived  Pclass  Name  Sex  Age  Fare  Cabin  Embarked  \\\n",
       "0            1         0       3     1    0   22     0      6         0   \n",
       "1            2         1       1     3    1   38     4      3         1   \n",
       "2            3         1       3     2    1   26     1      6         0   \n",
       "3            4         1       1     3    1   35     4      3         0   \n",
       "4            5         0       3     1    0   35     1      6         0   \n",
       "\n",
       "   Family  \n",
       "0       1  \n",
       "1       1  \n",
       "2       0  \n",
       "3       1  \n",
       "4       0  "
      ]
     },
     "execution_count": 18,
     "metadata": {},
     "output_type": "execute_result"
    }
   ],
   "source": [
    "data_df = pd.read_csv('titanic_data2.csv')\n",
    "data_df.head()"
   ]
  },
  {
   "cell_type": "code",
   "execution_count": 19,
   "metadata": {},
   "outputs": [
    {
     "data": {
      "text/plain": [
       "Pipeline(steps=[('preprocessor',\n",
       "                 ColumnTransformer(transformers=[('num', StandardScaler(),\n",
       "                                                  ['Age']),\n",
       "                                                 ('cat',\n",
       "                                                  OneHotEncoder(handle_unknown='ignore'),\n",
       "                                                  ['Pclass', 'Name', 'Sex',\n",
       "                                                   'Fare', 'Cabin', 'Embarked',\n",
       "                                                   'Family'])]))])"
      ]
     },
     "execution_count": 19,
     "metadata": {},
     "output_type": "execute_result"
    }
   ],
   "source": [
    "pipe = joblib.load(f'titanic_pipe2.pkl')\n",
    "pipe"
   ]
  },
  {
   "cell_type": "code",
   "execution_count": 20,
   "metadata": {},
   "outputs": [],
   "source": [
    "titanic_X = data_df.drop(['PassengerId','Survived'], axis=1)\n",
    "titanic_Y = np.array(data_df[['Survived']])\n",
    "\n",
    "x_train, x_test, y_train, y_test = \\\n",
    "   model_selection.train_test_split(titanic_X, titanic_Y, test_size=0.3, random_state=0)\n",
    "\n",
    "x_train = pipe.fit_transform(x_train)\n",
    "x_test = pipe.transform(x_test)"
   ]
  },
  {
   "cell_type": "code",
   "execution_count": 21,
   "metadata": {},
   "outputs": [],
   "source": [
    "# Stacking 모델은 모든 조합에 대해 for문을 돌렸을 때 가장 높은 Accuracy가 나온 모델 조합을 선택\n",
    "estimator = [\n",
    "    ('Logistic', LogisticRegression()),\n",
    "    ('KNN', KNeighborsClassifier(16)),\n",
    "    ('SVM', SVC(kernel='rbf', C=100, gamma=0.01)),\n",
    "    ('DecisionTree', DecisionTreeClassifier(random_state = 0, max_depth = 4)),\n",
    "    ('RandomForest', RandomForestClassifier(random_state = 0, n_estimators = 100, max_depth = 6)),\n",
    "    ('XGBoost', XGBClassifier(seed = 1, n_estimators = 200, max_depth = 2, verbosity=0)),\n",
    "    ('LightGBM', LGBMClassifier(random_state=0, n_estimators = 200, max_depth = 2))]"
   ]
  },
  {
   "cell_type": "code",
   "execution_count": 22,
   "metadata": {},
   "outputs": [],
   "source": [
    "stack = StackingTransformer(estimator, \n",
    "                            regression = False, \n",
    "                            metric = accuracy_score, \n",
    "                            n_folds = 5, stratified = True, shuffle = True, \n",
    "                            random_state = 0, verbose = 0)"
   ]
  },
  {
   "cell_type": "code",
   "execution_count": 23,
   "metadata": {},
   "outputs": [
    {
     "data": {
      "text/plain": [
       "0.8470149253731343"
      ]
     },
     "execution_count": 23,
     "metadata": {},
     "output_type": "execute_result"
    }
   ],
   "source": [
    "stack = stack.fit(x_train, y_train)\n",
    "\n",
    "S_train = stack.transform(x_train)\n",
    "S_test = stack.transform(x_test)\n",
    "\n",
    "model = RandomForestClassifier(random_state = 0, n_estimators = 100, max_depth = 6)\n",
    "model = model.fit(S_train, y_train)\n",
    "y_pred = model.predict(S_test)\n",
    "accuracy_score(y_test, y_pred)"
   ]
  },
  {
   "cell_type": "markdown",
   "metadata": {},
   "source": [
    "## Case 3: Drop Cabin\n",
    "선실 열이 제거된 데이터를 모델에 적용한 경우"
   ]
  },
  {
   "cell_type": "code",
   "execution_count": 24,
   "metadata": {},
   "outputs": [],
   "source": [
    "from sklearn.preprocessing import OneHotEncoder\n",
    "from sklearn.compose import ColumnTransformer\n",
    "from sklearn.pipeline import Pipeline\n",
    "\n",
    "data_df = pd.read_csv('titanic_data.csv')\n",
    "\n",
    "categorical_transformer = OneHotEncoder(categories='auto', handle_unknown='ignore')\n",
    "categorical_features = ['Pclass', 'Name', 'Sex', 'Age',\n",
    "                        'Fare', 'Embarked', 'Family']\n",
    "\n",
    "preprocessor = ColumnTransformer(\n",
    "    transformers=[\n",
    "        ('cat', categorical_transformer, categorical_features)])\n",
    "\n",
    "pipe = Pipeline(steps=[('preprocessor', preprocessor)])"
   ]
  },
  {
   "cell_type": "code",
   "execution_count": 25,
   "metadata": {},
   "outputs": [],
   "source": [
    "titanic_X = data_df.copy()\n",
    "\n",
    "titanic_X = data_df.drop(['PassengerId','Survived','Cabin'], axis=1)\n",
    "titanic_Y = np.array(data_df[['Survived']])\n",
    "\n",
    "x_train, x_test, y_train, y_test = \\\n",
    "   model_selection.train_test_split(titanic_X, titanic_Y, test_size=0.3, random_state=0)\n",
    "\n",
    "x_train = pipe.fit_transform(x_train)\n",
    "x_test = pipe.transform(x_test)"
   ]
  },
  {
   "cell_type": "code",
   "execution_count": 26,
   "metadata": {},
   "outputs": [],
   "source": [
    "# Stacking 모델은 모든 조합에 대해 for문을 돌렸을 때 가장 높은 Accuracy가 나온 모델 조합을 선택\n",
    "estimator = [\n",
    "    ('Logistic', LogisticRegression()),\n",
    "    ('DecisionTree', DecisionTreeClassifier(random_state = 0, max_depth = 4)),\n",
    "    ('RandomForest', RandomForestClassifier(random_state = 0, n_estimators = 100, max_depth = 6)),\n",
    "    ('LightGBM', LGBMClassifier(random_state=0, n_estimators = 200, max_depth = 2))]"
   ]
  },
  {
   "cell_type": "code",
   "execution_count": 27,
   "metadata": {},
   "outputs": [],
   "source": [
    "stack = StackingTransformer(estimator, \n",
    "                            regression = False, \n",
    "                            metric = accuracy_score, \n",
    "                            n_folds = 5, stratified = True, shuffle = True, \n",
    "                            random_state = 0, verbose = 0)"
   ]
  },
  {
   "cell_type": "code",
   "execution_count": 28,
   "metadata": {},
   "outputs": [
    {
     "data": {
      "text/plain": [
       "0.8507462686567164"
      ]
     },
     "execution_count": 28,
     "metadata": {},
     "output_type": "execute_result"
    }
   ],
   "source": [
    "stack = stack.fit(x_train, y_train)\n",
    "\n",
    "S_train = stack.transform(x_train)\n",
    "S_test = stack.transform(x_test)\n",
    "\n",
    "model = BernoulliNB(alpha=10)\n",
    "model = model.fit(S_train, y_train)\n",
    "y_pred = model.predict(S_test)\n",
    "accuracy_score(y_test, y_pred)"
   ]
  },
  {
   "cell_type": "code",
   "execution_count": null,
   "metadata": {},
   "outputs": [],
   "source": []
  }
 ],
 "metadata": {
  "interpreter": {
   "hash": "b0fa6594d8f4cbf19f97940f81e996739fb7646882a419484c72d19e05852a7e"
  },
  "kernelspec": {
   "display_name": "Python 3.9.10 64-bit",
   "language": "python",
   "name": "python3"
  },
  "language_info": {
   "codemirror_mode": {
    "name": "ipython",
    "version": 3
   },
   "file_extension": ".py",
   "mimetype": "text/x-python",
   "name": "python",
   "nbconvert_exporter": "python",
   "pygments_lexer": "ipython3",
   "version": "3.9.12"
  },
  "orig_nbformat": 4
 },
 "nbformat": 4,
 "nbformat_minor": 2
}
