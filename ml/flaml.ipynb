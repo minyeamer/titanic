{
 "cells": [
  {
   "cell_type": "markdown",
   "source": "# FLAML\n@ https://github.com/microsoft/FLAML",
   "metadata": {
    "cell_id": "ebafc0e4-ac4b-4490-b156-5b6bf76dff75",
    "deepnote_cell_type": "markdown",
    "deepnote_cell_height": 120.390625
   }
  },
  {
   "cell_type": "code",
   "source": "!pip install flaml",
   "metadata": {
    "cell_id": "2088881e010945c19bc411086fb40073",
    "tags": [],
    "deepnote_to_be_reexecuted": false,
    "source_hash": "391a0db0",
    "execution_start": 1650031236106,
    "execution_millis": 15518,
    "deepnote_cell_type": "code",
    "deepnote_cell_height": 594.484375
   },
   "outputs": [
    {
     "name": "stdout",
     "text": "Collecting flaml\n  Downloading FLAML-1.0.0-py3-none-any.whl (157 kB)\n\u001b[K     |████████████████████████████████| 157 kB 34.3 MB/s \n\u001b[?25hRequirement already satisfied: scikit-learn>=0.24 in /shared-libs/python3.7/py/lib/python3.7/site-packages (from flaml) (1.0.2)\nCollecting xgboost<=1.3.3,>=0.90\n  Downloading xgboost-1.3.3-py3-none-manylinux2010_x86_64.whl (157.5 MB)\n\u001b[K     |████████████████████████████████| 157.5 MB 122 kB/s \n\u001b[?25hRequirement already satisfied: NumPy>=1.16.2 in /shared-libs/python3.7/py/lib/python3.7/site-packages (from flaml) (1.21.5)\nRequirement already satisfied: scipy>=1.4.1 in /shared-libs/python3.7/py/lib/python3.7/site-packages (from flaml) (1.7.3)\nCollecting lightgbm>=2.3.1\n  Downloading lightgbm-3.3.2-py3-none-manylinux1_x86_64.whl (2.0 MB)\n\u001b[K     |████████████████████████████████| 2.0 MB 66.4 MB/s \n\u001b[?25hRequirement already satisfied: pandas>=1.1.4 in /shared-libs/python3.7/py/lib/python3.7/site-packages (from flaml) (1.2.5)\nRequirement already satisfied: threadpoolctl>=2.0.0 in /shared-libs/python3.7/py/lib/python3.7/site-packages (from scikit-learn>=0.24->flaml) (3.1.0)\nRequirement already satisfied: joblib>=0.11 in /shared-libs/python3.7/py/lib/python3.7/site-packages (from scikit-learn>=0.24->flaml) (1.1.0)\nRequirement already satisfied: wheel in /usr/local/lib/python3.7/site-packages (from lightgbm>=2.3.1->flaml) (0.37.0)\nRequirement already satisfied: pytz>=2017.3 in /shared-libs/python3.7/py/lib/python3.7/site-packages (from pandas>=1.1.4->flaml) (2022.1)\nRequirement already satisfied: python-dateutil>=2.7.3 in /shared-libs/python3.7/py-core/lib/python3.7/site-packages (from pandas>=1.1.4->flaml) (2.8.2)\nRequirement already satisfied: six>=1.5 in /shared-libs/python3.7/py-core/lib/python3.7/site-packages (from python-dateutil>=2.7.3->pandas>=1.1.4->flaml) (1.16.0)\nInstalling collected packages: xgboost, lightgbm, flaml\nSuccessfully installed flaml-1.0.0 lightgbm-3.3.2 xgboost-1.3.3\n\u001b[33mWARNING: You are using pip version 20.1.1; however, version 22.0.4 is available.\nYou should consider upgrading via the '/root/venv/bin/python -m pip install --upgrade pip' command.\u001b[0m\n",
     "output_type": "stream"
    }
   ],
   "execution_count": 2
  },
  {
   "cell_type": "code",
   "metadata": {
    "cell_id": "57703af24ce04bc6820605f317e3139a",
    "deepnote_to_be_reexecuted": false,
    "execution_millis": 814,
    "execution_start": 1650031254270,
    "source_hash": "431f3f0d",
    "tags": [],
    "deepnote_cell_type": "code",
    "deepnote_cell_height": 81
   },
   "source": "from flaml import AutoML",
   "execution_count": 3,
   "outputs": []
  },
  {
   "cell_type": "code",
   "metadata": {
    "cell_id": "5ae5db796e23450e81f07e68781d917f",
    "deepnote_to_be_reexecuted": false,
    "execution_millis": 1171,
    "execution_start": 1650031257532,
    "source_hash": "453470f",
    "tags": [],
    "deepnote_cell_type": "code",
    "deepnote_cell_height": 261
   },
   "source": "import pandas as pd\nimport numpy as np\nimport matplotlib.pyplot as plt\n\nfrom sklearn import model_selection\nfrom sklearn.metrics import accuracy_score\n\nimport joblib\n\nimport warnings\nwarnings.filterwarnings(\"ignore\")",
   "execution_count": 4,
   "outputs": []
  },
  {
   "cell_type": "markdown",
   "source": "## Load Data",
   "metadata": {
    "cell_id": "00003-c0db3354-e372-49b3-b837-643602f15296",
    "deepnote_cell_type": "markdown",
    "deepnote_cell_height": 70
   }
  },
  {
   "cell_type": "code",
   "metadata": {
    "cell_id": "b8ddc46b35c04ea4addbd511faa6d467",
    "deepnote_to_be_reexecuted": false,
    "execution_millis": 103,
    "execution_start": 1650031260220,
    "source_hash": "e7b0d7bf",
    "tags": [],
    "deepnote_cell_type": "code",
    "deepnote_cell_height": 382
   },
   "source": "data_df = pd.read_csv('titanic_data.csv')\npipe = joblib.load(f'titanic_pipe.pkl')\n\ndata_df.head()",
   "execution_count": 5,
   "outputs": [
    {
     "output_type": "execute_result",
     "execution_count": 5,
     "data": {
      "application/vnd.deepnote.dataframe.v3+json": {
       "column_count": 12,
       "row_count": 5,
       "columns": [
        {
         "name": "PassengerId",
         "dtype": "int64",
         "stats": {
          "unique_count": 5,
          "nan_count": 0,
          "min": "1",
          "max": "5",
          "histogram": [
           {
            "bin_start": 1,
            "bin_end": 1.4,
            "count": 1
           },
           {
            "bin_start": 1.4,
            "bin_end": 1.8,
            "count": 0
           },
           {
            "bin_start": 1.8,
            "bin_end": 2.2,
            "count": 1
           },
           {
            "bin_start": 2.2,
            "bin_end": 2.6,
            "count": 0
           },
           {
            "bin_start": 2.6,
            "bin_end": 3,
            "count": 0
           },
           {
            "bin_start": 3,
            "bin_end": 3.4000000000000004,
            "count": 1
           },
           {
            "bin_start": 3.4000000000000004,
            "bin_end": 3.8000000000000003,
            "count": 0
           },
           {
            "bin_start": 3.8000000000000003,
            "bin_end": 4.2,
            "count": 1
           },
           {
            "bin_start": 4.2,
            "bin_end": 4.6,
            "count": 0
           },
           {
            "bin_start": 4.6,
            "bin_end": 5,
            "count": 1
           }
          ]
         }
        },
        {
         "name": "Survived",
         "dtype": "int64",
         "stats": {
          "unique_count": 2,
          "nan_count": 0,
          "min": "0",
          "max": "1",
          "histogram": [
           {
            "bin_start": 0,
            "bin_end": 0.1,
            "count": 2
           },
           {
            "bin_start": 0.1,
            "bin_end": 0.2,
            "count": 0
           },
           {
            "bin_start": 0.2,
            "bin_end": 0.30000000000000004,
            "count": 0
           },
           {
            "bin_start": 0.30000000000000004,
            "bin_end": 0.4,
            "count": 0
           },
           {
            "bin_start": 0.4,
            "bin_end": 0.5,
            "count": 0
           },
           {
            "bin_start": 0.5,
            "bin_end": 0.6000000000000001,
            "count": 0
           },
           {
            "bin_start": 0.6000000000000001,
            "bin_end": 0.7000000000000001,
            "count": 0
           },
           {
            "bin_start": 0.7000000000000001,
            "bin_end": 0.8,
            "count": 0
           },
           {
            "bin_start": 0.8,
            "bin_end": 0.9,
            "count": 0
           },
           {
            "bin_start": 0.9,
            "bin_end": 1,
            "count": 3
           }
          ]
         }
        },
        {
         "name": "Pclass",
         "dtype": "int64",
         "stats": {
          "unique_count": 2,
          "nan_count": 0,
          "min": "1",
          "max": "3",
          "histogram": [
           {
            "bin_start": 1,
            "bin_end": 1.2,
            "count": 2
           },
           {
            "bin_start": 1.2,
            "bin_end": 1.4,
            "count": 0
           },
           {
            "bin_start": 1.4,
            "bin_end": 1.6,
            "count": 0
           },
           {
            "bin_start": 1.6,
            "bin_end": 1.8,
            "count": 0
           },
           {
            "bin_start": 1.8,
            "bin_end": 2,
            "count": 0
           },
           {
            "bin_start": 2,
            "bin_end": 2.2,
            "count": 0
           },
           {
            "bin_start": 2.2,
            "bin_end": 2.4000000000000004,
            "count": 0
           },
           {
            "bin_start": 2.4000000000000004,
            "bin_end": 2.6,
            "count": 0
           },
           {
            "bin_start": 2.6,
            "bin_end": 2.8,
            "count": 0
           },
           {
            "bin_start": 2.8,
            "bin_end": 3,
            "count": 3
           }
          ]
         }
        },
        {
         "name": "Name",
         "dtype": "int64",
         "stats": {
          "unique_count": 3,
          "nan_count": 0,
          "min": "1",
          "max": "3",
          "histogram": [
           {
            "bin_start": 1,
            "bin_end": 1.2,
            "count": 2
           },
           {
            "bin_start": 1.2,
            "bin_end": 1.4,
            "count": 0
           },
           {
            "bin_start": 1.4,
            "bin_end": 1.6,
            "count": 0
           },
           {
            "bin_start": 1.6,
            "bin_end": 1.8,
            "count": 0
           },
           {
            "bin_start": 1.8,
            "bin_end": 2,
            "count": 0
           },
           {
            "bin_start": 2,
            "bin_end": 2.2,
            "count": 1
           },
           {
            "bin_start": 2.2,
            "bin_end": 2.4000000000000004,
            "count": 0
           },
           {
            "bin_start": 2.4000000000000004,
            "bin_end": 2.6,
            "count": 0
           },
           {
            "bin_start": 2.6,
            "bin_end": 2.8,
            "count": 0
           },
           {
            "bin_start": 2.8,
            "bin_end": 3,
            "count": 2
           }
          ]
         }
        },
        {
         "name": "Sex",
         "dtype": "int64",
         "stats": {
          "unique_count": 2,
          "nan_count": 0,
          "min": "0",
          "max": "1",
          "histogram": [
           {
            "bin_start": 0,
            "bin_end": 0.1,
            "count": 2
           },
           {
            "bin_start": 0.1,
            "bin_end": 0.2,
            "count": 0
           },
           {
            "bin_start": 0.2,
            "bin_end": 0.30000000000000004,
            "count": 0
           },
           {
            "bin_start": 0.30000000000000004,
            "bin_end": 0.4,
            "count": 0
           },
           {
            "bin_start": 0.4,
            "bin_end": 0.5,
            "count": 0
           },
           {
            "bin_start": 0.5,
            "bin_end": 0.6000000000000001,
            "count": 0
           },
           {
            "bin_start": 0.6000000000000001,
            "bin_end": 0.7000000000000001,
            "count": 0
           },
           {
            "bin_start": 0.7000000000000001,
            "bin_end": 0.8,
            "count": 0
           },
           {
            "bin_start": 0.8,
            "bin_end": 0.9,
            "count": 0
           },
           {
            "bin_start": 0.9,
            "bin_end": 1,
            "count": 3
           }
          ]
         }
        },
        {
         "name": "Age",
         "dtype": "int64",
         "stats": {
          "unique_count": 4,
          "nan_count": 0,
          "min": "22",
          "max": "38",
          "histogram": [
           {
            "bin_start": 22,
            "bin_end": 23.6,
            "count": 1
           },
           {
            "bin_start": 23.6,
            "bin_end": 25.2,
            "count": 0
           },
           {
            "bin_start": 25.2,
            "bin_end": 26.8,
            "count": 1
           },
           {
            "bin_start": 26.8,
            "bin_end": 28.4,
            "count": 0
           },
           {
            "bin_start": 28.4,
            "bin_end": 30,
            "count": 0
           },
           {
            "bin_start": 30,
            "bin_end": 31.6,
            "count": 0
           },
           {
            "bin_start": 31.6,
            "bin_end": 33.2,
            "count": 0
           },
           {
            "bin_start": 33.2,
            "bin_end": 34.8,
            "count": 0
           },
           {
            "bin_start": 34.8,
            "bin_end": 36.4,
            "count": 2
           },
           {
            "bin_start": 36.4,
            "bin_end": 38,
            "count": 1
           }
          ]
         }
        },
        {
         "name": "SibSp",
         "dtype": "int64",
         "stats": {
          "unique_count": 2,
          "nan_count": 0,
          "min": "0",
          "max": "1",
          "histogram": [
           {
            "bin_start": 0,
            "bin_end": 0.1,
            "count": 2
           },
           {
            "bin_start": 0.1,
            "bin_end": 0.2,
            "count": 0
           },
           {
            "bin_start": 0.2,
            "bin_end": 0.30000000000000004,
            "count": 0
           },
           {
            "bin_start": 0.30000000000000004,
            "bin_end": 0.4,
            "count": 0
           },
           {
            "bin_start": 0.4,
            "bin_end": 0.5,
            "count": 0
           },
           {
            "bin_start": 0.5,
            "bin_end": 0.6000000000000001,
            "count": 0
           },
           {
            "bin_start": 0.6000000000000001,
            "bin_end": 0.7000000000000001,
            "count": 0
           },
           {
            "bin_start": 0.7000000000000001,
            "bin_end": 0.8,
            "count": 0
           },
           {
            "bin_start": 0.8,
            "bin_end": 0.9,
            "count": 0
           },
           {
            "bin_start": 0.9,
            "bin_end": 1,
            "count": 3
           }
          ]
         }
        },
        {
         "name": "Parch",
         "dtype": "int64",
         "stats": {
          "unique_count": 1,
          "nan_count": 0,
          "min": "0",
          "max": "0",
          "histogram": [
           {
            "bin_start": -0.5,
            "bin_end": -0.4,
            "count": 0
           },
           {
            "bin_start": -0.4,
            "bin_end": -0.3,
            "count": 0
           },
           {
            "bin_start": -0.3,
            "bin_end": -0.19999999999999996,
            "count": 0
           },
           {
            "bin_start": -0.19999999999999996,
            "bin_end": -0.09999999999999998,
            "count": 0
           },
           {
            "bin_start": -0.09999999999999998,
            "bin_end": 0,
            "count": 0
           },
           {
            "bin_start": 0,
            "bin_end": 0.10000000000000009,
            "count": 5
           },
           {
            "bin_start": 0.10000000000000009,
            "bin_end": 0.20000000000000007,
            "count": 0
           },
           {
            "bin_start": 0.20000000000000007,
            "bin_end": 0.30000000000000004,
            "count": 0
           },
           {
            "bin_start": 0.30000000000000004,
            "bin_end": 0.4,
            "count": 0
           },
           {
            "bin_start": 0.4,
            "bin_end": 0.5,
            "count": 0
           }
          ]
         }
        },
        {
         "name": "Fare",
         "dtype": "float64",
         "stats": {
          "unique_count": 5,
          "nan_count": 0,
          "min": "7.25",
          "max": "71.2833",
          "histogram": [
           {
            "bin_start": 7.25,
            "bin_end": 13.65333,
            "count": 3
           },
           {
            "bin_start": 13.65333,
            "bin_end": 20.05666,
            "count": 0
           },
           {
            "bin_start": 20.05666,
            "bin_end": 26.459989999999998,
            "count": 0
           },
           {
            "bin_start": 26.459989999999998,
            "bin_end": 32.86332,
            "count": 0
           },
           {
            "bin_start": 32.86332,
            "bin_end": 39.26665,
            "count": 0
           },
           {
            "bin_start": 39.26665,
            "bin_end": 45.669979999999995,
            "count": 0
           },
           {
            "bin_start": 45.669979999999995,
            "bin_end": 52.07331,
            "count": 0
           },
           {
            "bin_start": 52.07331,
            "bin_end": 58.476639999999996,
            "count": 1
           },
           {
            "bin_start": 58.476639999999996,
            "bin_end": 64.87996999999999,
            "count": 0
           },
           {
            "bin_start": 64.87996999999999,
            "bin_end": 71.2833,
            "count": 1
           }
          ]
         }
        },
        {
         "name": "Cabin",
         "dtype": "int64",
         "stats": {
          "unique_count": 3,
          "nan_count": 0,
          "min": "3",
          "max": "6",
          "histogram": [
           {
            "bin_start": 3,
            "bin_end": 3.3,
            "count": 2
           },
           {
            "bin_start": 3.3,
            "bin_end": 3.6,
            "count": 0
           },
           {
            "bin_start": 3.6,
            "bin_end": 3.9,
            "count": 0
           },
           {
            "bin_start": 3.9,
            "bin_end": 4.2,
            "count": 0
           },
           {
            "bin_start": 4.2,
            "bin_end": 4.5,
            "count": 0
           },
           {
            "bin_start": 4.5,
            "bin_end": 4.8,
            "count": 0
           },
           {
            "bin_start": 4.8,
            "bin_end": 5.1,
            "count": 1
           },
           {
            "bin_start": 5.1,
            "bin_end": 5.4,
            "count": 0
           },
           {
            "bin_start": 5.4,
            "bin_end": 5.699999999999999,
            "count": 0
           },
           {
            "bin_start": 5.699999999999999,
            "bin_end": 6,
            "count": 2
           }
          ]
         }
        },
        {
         "name": "Embarked",
         "dtype": "int64",
         "stats": {
          "unique_count": 2,
          "nan_count": 0,
          "min": "0",
          "max": "1",
          "histogram": [
           {
            "bin_start": 0,
            "bin_end": 0.1,
            "count": 4
           },
           {
            "bin_start": 0.1,
            "bin_end": 0.2,
            "count": 0
           },
           {
            "bin_start": 0.2,
            "bin_end": 0.30000000000000004,
            "count": 0
           },
           {
            "bin_start": 0.30000000000000004,
            "bin_end": 0.4,
            "count": 0
           },
           {
            "bin_start": 0.4,
            "bin_end": 0.5,
            "count": 0
           },
           {
            "bin_start": 0.5,
            "bin_end": 0.6000000000000001,
            "count": 0
           },
           {
            "bin_start": 0.6000000000000001,
            "bin_end": 0.7000000000000001,
            "count": 0
           },
           {
            "bin_start": 0.7000000000000001,
            "bin_end": 0.8,
            "count": 0
           },
           {
            "bin_start": 0.8,
            "bin_end": 0.9,
            "count": 0
           },
           {
            "bin_start": 0.9,
            "bin_end": 1,
            "count": 1
           }
          ]
         }
        },
        {
         "name": "Family",
         "dtype": "int64",
         "stats": {
          "unique_count": 2,
          "nan_count": 0,
          "min": "0",
          "max": "1",
          "histogram": [
           {
            "bin_start": 0,
            "bin_end": 0.1,
            "count": 2
           },
           {
            "bin_start": 0.1,
            "bin_end": 0.2,
            "count": 0
           },
           {
            "bin_start": 0.2,
            "bin_end": 0.30000000000000004,
            "count": 0
           },
           {
            "bin_start": 0.30000000000000004,
            "bin_end": 0.4,
            "count": 0
           },
           {
            "bin_start": 0.4,
            "bin_end": 0.5,
            "count": 0
           },
           {
            "bin_start": 0.5,
            "bin_end": 0.6000000000000001,
            "count": 0
           },
           {
            "bin_start": 0.6000000000000001,
            "bin_end": 0.7000000000000001,
            "count": 0
           },
           {
            "bin_start": 0.7000000000000001,
            "bin_end": 0.8,
            "count": 0
           },
           {
            "bin_start": 0.8,
            "bin_end": 0.9,
            "count": 0
           },
           {
            "bin_start": 0.9,
            "bin_end": 1,
            "count": 3
           }
          ]
         }
        },
        {
         "name": "_deepnote_index_column",
         "dtype": "int64"
        }
       ],
       "rows": [
        {
         "PassengerId": 1,
         "Survived": 0,
         "Pclass": 3,
         "Name": 1,
         "Sex": 0,
         "Age": 22,
         "SibSp": 1,
         "Parch": 0,
         "Fare": 7.25,
         "Cabin": 6,
         "Embarked": 0,
         "Family": 1,
         "_deepnote_index_column": 0
        },
        {
         "PassengerId": 2,
         "Survived": 1,
         "Pclass": 1,
         "Name": 3,
         "Sex": 1,
         "Age": 38,
         "SibSp": 1,
         "Parch": 0,
         "Fare": 71.2833,
         "Cabin": 3,
         "Embarked": 1,
         "Family": 1,
         "_deepnote_index_column": 1
        },
        {
         "PassengerId": 3,
         "Survived": 1,
         "Pclass": 3,
         "Name": 2,
         "Sex": 1,
         "Age": 26,
         "SibSp": 0,
         "Parch": 0,
         "Fare": 7.925,
         "Cabin": 6,
         "Embarked": 0,
         "Family": 0,
         "_deepnote_index_column": 2
        },
        {
         "PassengerId": 4,
         "Survived": 1,
         "Pclass": 1,
         "Name": 3,
         "Sex": 1,
         "Age": 35,
         "SibSp": 1,
         "Parch": 0,
         "Fare": 53.1,
         "Cabin": 3,
         "Embarked": 0,
         "Family": 1,
         "_deepnote_index_column": 3
        },
        {
         "PassengerId": 5,
         "Survived": 0,
         "Pclass": 3,
         "Name": 1,
         "Sex": 0,
         "Age": 35,
         "SibSp": 0,
         "Parch": 0,
         "Fare": 8.05,
         "Cabin": 5,
         "Embarked": 0,
         "Family": 0,
         "_deepnote_index_column": 4
        }
       ]
      },
      "text/plain": "   PassengerId  Survived  Pclass  Name  Sex  Age  SibSp  Parch     Fare  \\\n0            1         0       3     1    0   22      1      0   7.2500   \n1            2         1       1     3    1   38      1      0  71.2833   \n2            3         1       3     2    1   26      0      0   7.9250   \n3            4         1       1     3    1   35      1      0  53.1000   \n4            5         0       3     1    0   35      0      0   8.0500   \n\n   Cabin  Embarked  Family  \n0      6         0       1  \n1      3         1       1  \n2      6         0       0  \n3      3         0       1  \n4      5         0       0  ",
      "text/html": "<div>\n<style scoped>\n    .dataframe tbody tr th:only-of-type {\n        vertical-align: middle;\n    }\n\n    .dataframe tbody tr th {\n        vertical-align: top;\n    }\n\n    .dataframe thead th {\n        text-align: right;\n    }\n</style>\n<table border=\"1\" class=\"dataframe\">\n  <thead>\n    <tr style=\"text-align: right;\">\n      <th></th>\n      <th>PassengerId</th>\n      <th>Survived</th>\n      <th>Pclass</th>\n      <th>Name</th>\n      <th>Sex</th>\n      <th>Age</th>\n      <th>SibSp</th>\n      <th>Parch</th>\n      <th>Fare</th>\n      <th>Cabin</th>\n      <th>Embarked</th>\n      <th>Family</th>\n    </tr>\n  </thead>\n  <tbody>\n    <tr>\n      <th>0</th>\n      <td>1</td>\n      <td>0</td>\n      <td>3</td>\n      <td>1</td>\n      <td>0</td>\n      <td>22</td>\n      <td>1</td>\n      <td>0</td>\n      <td>7.2500</td>\n      <td>6</td>\n      <td>0</td>\n      <td>1</td>\n    </tr>\n    <tr>\n      <th>1</th>\n      <td>2</td>\n      <td>1</td>\n      <td>1</td>\n      <td>3</td>\n      <td>1</td>\n      <td>38</td>\n      <td>1</td>\n      <td>0</td>\n      <td>71.2833</td>\n      <td>3</td>\n      <td>1</td>\n      <td>1</td>\n    </tr>\n    <tr>\n      <th>2</th>\n      <td>3</td>\n      <td>1</td>\n      <td>3</td>\n      <td>2</td>\n      <td>1</td>\n      <td>26</td>\n      <td>0</td>\n      <td>0</td>\n      <td>7.9250</td>\n      <td>6</td>\n      <td>0</td>\n      <td>0</td>\n    </tr>\n    <tr>\n      <th>3</th>\n      <td>4</td>\n      <td>1</td>\n      <td>1</td>\n      <td>3</td>\n      <td>1</td>\n      <td>35</td>\n      <td>1</td>\n      <td>0</td>\n      <td>53.1000</td>\n      <td>3</td>\n      <td>0</td>\n      <td>1</td>\n    </tr>\n    <tr>\n      <th>4</th>\n      <td>5</td>\n      <td>0</td>\n      <td>3</td>\n      <td>1</td>\n      <td>0</td>\n      <td>35</td>\n      <td>0</td>\n      <td>0</td>\n      <td>8.0500</td>\n      <td>5</td>\n      <td>0</td>\n      <td>0</td>\n    </tr>\n  </tbody>\n</table>\n</div>"
     },
     "metadata": {}
    }
   ]
  },
  {
   "cell_type": "code",
   "metadata": {
    "cell_id": "c3dcb04f818c43ed8ad38009c435fdbe",
    "deepnote_to_be_reexecuted": false,
    "execution_millis": 0,
    "execution_start": 1650031265101,
    "source_hash": "4c4fa1ce",
    "tags": [],
    "deepnote_cell_type": "code",
    "deepnote_cell_height": 153
   },
   "source": "titanic_X = pipe.fit_transform(data_df)\ntitanic_Y = np.array(data_df[['Survived']])\n\nx_train, x_test, y_train, y_test = \\\n   model_selection.train_test_split(titanic_X, titanic_Y, test_size=0.3, random_state=0)",
   "execution_count": 6,
   "outputs": []
  },
  {
   "cell_type": "markdown",
   "source": "## Model Fitting",
   "metadata": {
    "cell_id": "00007-ce5fc9bb-1380-4682-86b2-2aaaeb84a7f1",
    "deepnote_cell_type": "markdown",
    "deepnote_cell_height": 70
   }
  },
  {
   "cell_type": "code",
   "metadata": {
    "cell_id": "20ffab5a26574c00859a7e02881404e5",
    "deepnote_to_be_reexecuted": false,
    "execution_millis": 60506,
    "execution_start": 1650031268406,
    "source_hash": "882311f2",
    "tags": [],
    "deepnote_cell_type": "code",
    "deepnote_cell_height": 719
   },
   "source": "automl = AutoML()\nautoml.fit(x_train, y_train, task=\"classification\")",
   "execution_count": 7,
   "outputs": [
    {
     "name": "stderr",
     "text": "[flaml.automl: 04-15 14:01:08] {2105} INFO - task = classification\n[flaml.automl: 04-15 14:01:08] {2107} INFO - Data split method: stratified\n[flaml.automl: 04-15 14:01:08] {2111} INFO - Evaluation method: holdout\n[flaml.automl: 04-15 14:01:08] {2188} INFO - Minimizing error metric: 1-roc_auc\n[flaml.automl: 04-15 14:01:08] {2281} INFO - List of ML learners in AutoML Run: ['lgbm', 'rf', 'xgboost', 'extra_tree', 'xgb_limitdepth', 'lrl1']\n[flaml.automl: 04-15 14:01:08] {2567} INFO - iteration 0, current learner lgbm\n[flaml.automl: 04-15 14:01:08] {2698} INFO - Estimated sufficient time budget=194s. Estimated necessary time budget=4s.\n[flaml.automl: 04-15 14:01:08] {2750} INFO -  at 0.1s,\testimator lgbm's best error=0.2205,\tbest estimator lgbm's best error=0.2205\n[flaml.automl: 04-15 14:01:08] {2567} INFO - iteration 1, current learner lgbm\n[flaml.automl: 04-15 14:01:08] {2750} INFO -  at 0.1s,\testimator lgbm's best error=0.1335,\tbest estimator lgbm's best error=0.1335\n[flaml.automl: 04-15 14:01:08] {2567} INFO - iteration 2, current learner lgbm\n[flaml.automl: 04-15 14:01:08] {2750} INFO -  at 0.1s,\testimator lgbm's best error=0.1335,\tbest estimator lgbm's best error=0.1335\n[flaml.automl: 04-15 14:01:08] {2567} INFO - iteration 3, current learner lgbm\n[flaml.automl: 04-15 14:01:08] {2750} INFO -  at 0.2s,\testimator lgbm's best error=0.1335,\tbest estimator lgbm's best error=0.1335\n[flaml.automl: 04-15 14:01:08] {2567} INFO - iteration 4, current learner xgboost\n[flaml.automl: 04-15 14:01:08] {2750} INFO -  at 0.3s,\testimator xgboost's best error=0.5000,\tbest estimator lgbm's best error=0.1335\n[flaml.automl: 04-15 14:01:08] {2567} INFO - iteration 5, current learner extra_tree\n[flaml.automl: 04-15 14:01:09] {2750} INFO -  at 0.6s,\testimator extra_tree's best error=0.1545,\tbest estimator lgbm's best error=0.1335\n[flaml.automl: 04-15 14:01:09] {2567} INFO - iteration 6, current learner rf\n[flaml.automl: 04-15 14:01:09] {2750} INFO -  at 0.9s,\testimator rf's best error=0.1655,\tbest estimator lgbm's best error=0.1335\n[flaml.automl: 04-15 14:01:09] {2567} INFO - iteration 7, current learner lgbm\n[flaml.automl: 04-15 14:01:09] {2750} INFO -  at 1.1s,\testimator lgbm's best error=0.1335,\tbest estimator lgbm's best error=0.1335\n[flaml.automl: 04-15 14:01:09] {2567} INFO - iteration 8, current learner lgbm\n[flaml.automl: 04-15 14:01:09] {2750} INFO -  at 1.1s,\testimator lgbm's best error=0.1335,\tbest estimator lgbm's best error=0.1335\n[flaml.automl: 04-15 14:01:09] {2567} INFO - iteration 9, current learner lgbm\n[flaml.automl: 04-15 14:01:09] {2750} INFO -  at 1.1s,\testimator lgbm's best error=0.1335,\tbest estimator lgbm's best error=0.1335\n[flaml.automl: 04-15 14:01:09] {2567} INFO - iteration 10, current learner lgbm\n[flaml.automl: 04-15 14:01:09] {2750} INFO -  at 1.1s,\testimator lgbm's best error=0.1335,\tbest estimator lgbm's best error=0.1335\n[flaml.automl: 04-15 14:01:09] {2567} INFO - iteration 11, current learner rf\n[flaml.automl: 04-15 14:01:09] {2750} INFO -  at 1.5s,\testimator rf's best error=0.1645,\tbest estimator lgbm's best error=0.1335\n[flaml.automl: 04-15 14:01:09] {2567} INFO - iteration 12, current learner xgboost\n[flaml.automl: 04-15 14:01:09] {2750} INFO -  at 1.5s,\testimator xgboost's best error=0.5000,\tbest estimator lgbm's best error=0.1335\n[flaml.automl: 04-15 14:01:09] {2567} INFO - iteration 13, current learner xgboost\n[flaml.automl: 04-15 14:01:09] {2750} INFO -  at 1.5s,\testimator xgboost's best error=0.5000,\tbest estimator lgbm's best error=0.1335\n[flaml.automl: 04-15 14:01:09] {2567} INFO - iteration 14, current learner xgboost\n[flaml.automl: 04-15 14:01:09] {2750} INFO -  at 1.5s,\testimator xgboost's best error=0.5000,\tbest estimator lgbm's best error=0.1335\n[flaml.automl: 04-15 14:01:09] {2567} INFO - iteration 15, current learner xgboost\n[flaml.automl: 04-15 14:01:09] {2750} INFO -  at 1.6s,\testimator xgboost's best error=0.5000,\tbest estimator lgbm's best error=0.1335\n[flaml.automl: 04-15 14:01:09] {2567} INFO - iteration 16, current learner lgbm\n[flaml.automl: 04-15 14:01:09] {2750} INFO -  at 1.6s,\testimator lgbm's best error=0.1305,\tbest estimator lgbm's best error=0.1305\n[flaml.automl: 04-15 14:01:09] {2567} INFO - iteration 17, current learner extra_tree\n[flaml.automl: 04-15 14:01:10] {2750} INFO -  at 1.9s,\testimator extra_tree's best error=0.1545,\tbest estimator lgbm's best error=0.1305\n[flaml.automl: 04-15 14:01:10] {2567} INFO - iteration 18, current learner lgbm\n[flaml.automl: 04-15 14:01:10] {2750} INFO -  at 1.9s,\testimator lgbm's best error=0.1305,\tbest estimator lgbm's best error=0.1305\n[flaml.automl: 04-15 14:01:10] {2567} INFO - iteration 19, current learner xgboost\n[flaml.automl: 04-15 14:01:10] {2750} INFO -  at 1.9s,\testimator xgboost's best error=0.5000,\tbest estimator lgbm's best error=0.1305\n[flaml.automl: 04-15 14:01:10] {2567} INFO - iteration 20, current learner xgboost\n[flaml.automl: 04-15 14:01:10] {2750} INFO -  at 2.0s,\testimator xgboost's best error=0.5000,\tbest estimator lgbm's best error=0.1305\n[flaml.automl: 04-15 14:01:10] {2567} INFO - iteration 21, current learner xgboost\n[flaml.automl: 04-15 14:01:10] {2750} INFO -  at 2.0s,\testimator xgboost's best error=0.5000,\tbest estimator lgbm's best error=0.1305\n[flaml.automl: 04-15 14:01:10] {2567} INFO - iteration 22, current learner lgbm\n[flaml.automl: 04-15 14:01:10] {2750} INFO -  at 2.1s,\testimator lgbm's best error=0.1305,\tbest estimator lgbm's best error=0.1305\n[flaml.automl: 04-15 14:01:10] {2567} INFO - iteration 23, current learner lgbm\n[flaml.automl: 04-15 14:01:10] {2750} INFO -  at 2.1s,\testimator lgbm's best error=0.1305,\tbest estimator lgbm's best error=0.1305\n[flaml.automl: 04-15 14:01:10] {2567} INFO - iteration 24, current learner extra_tree\n[flaml.automl: 04-15 14:01:10] {2750} INFO -  at 2.4s,\testimator extra_tree's best error=0.1545,\tbest estimator lgbm's best error=0.1305\n[flaml.automl: 04-15 14:01:10] {2567} INFO - iteration 25, current learner extra_tree\n[flaml.automl: 04-15 14:01:11] {2750} INFO -  at 2.8s,\testimator extra_tree's best error=0.1545,\tbest estimator lgbm's best error=0.1305\n[flaml.automl: 04-15 14:01:11] {2567} INFO - iteration 26, current learner lgbm\n[flaml.automl: 04-15 14:01:11] {2750} INFO -  at 2.8s,\testimator lgbm's best error=0.1295,\tbest estimator lgbm's best error=0.1295\n[flaml.automl: 04-15 14:01:11] {2567} INFO - iteration 27, current learner lgbm\n[flaml.automl: 04-15 14:01:11] {2750} INFO -  at 2.8s,\testimator lgbm's best error=0.1295,\tbest estimator lgbm's best error=0.1295\n[flaml.automl: 04-15 14:01:11] {2567} INFO - iteration 28, current learner lgbm\n[flaml.automl: 04-15 14:01:11] {2750} INFO -  at 2.8s,\testimator lgbm's best error=0.1295,\tbest estimator lgbm's best error=0.1295\n[flaml.automl: 04-15 14:01:11] {2567} INFO - iteration 29, current learner lgbm\n[flaml.automl: 04-15 14:01:11] {2750} INFO -  at 2.9s,\testimator lgbm's best error=0.1295,\tbest estimator lgbm's best error=0.1295\n[flaml.automl: 04-15 14:01:11] {2567} INFO - iteration 30, current learner lgbm\n[flaml.automl: 04-15 14:01:11] {2750} INFO -  at 3.0s,\testimator lgbm's best error=0.1195,\tbest estimator lgbm's best error=0.1195\n[flaml.automl: 04-15 14:01:11] {2567} INFO - iteration 31, current learner lgbm\n[flaml.automl: 04-15 14:01:11] {2750} INFO -  at 3.0s,\testimator lgbm's best error=0.1195,\tbest estimator lgbm's best error=0.1195\n[flaml.automl: 04-15 14:01:11] {2567} INFO - iteration 32, current learner lgbm\n[flaml.automl: 04-15 14:01:11] {2750} INFO -  at 3.0s,\testimator lgbm's best error=0.1195,\tbest estimator lgbm's best error=0.1195\n[flaml.automl: 04-15 14:01:11] {2567} INFO - iteration 33, current learner xgboost\n[flaml.automl: 04-15 14:01:11] {2750} INFO -  at 3.1s,\testimator xgboost's best error=0.5000,\tbest estimator lgbm's best error=0.1195\n[flaml.automl: 04-15 14:01:11] {2567} INFO - iteration 34, current learner lgbm\n[flaml.automl: 04-15 14:01:11] {2750} INFO -  at 3.1s,\testimator lgbm's best error=0.1195,\tbest estimator lgbm's best error=0.1195\n[flaml.automl: 04-15 14:01:11] {2567} INFO - iteration 35, current learner lgbm\n[flaml.automl: 04-15 14:01:11] {2750} INFO -  at 3.1s,\testimator lgbm's best error=0.1195,\tbest estimator lgbm's best error=0.1195\n[flaml.automl: 04-15 14:01:11] {2567} INFO - iteration 36, current learner extra_tree\n[flaml.automl: 04-15 14:01:11] {2750} INFO -  at 3.4s,\testimator extra_tree's best error=0.1005,\tbest estimator extra_tree's best error=0.1005\n[flaml.automl: 04-15 14:01:11] {2567} INFO - iteration 37, current learner xgboost\n[flaml.automl: 04-15 14:01:11] {2750} INFO -  at 3.4s,\testimator xgboost's best error=0.5000,\tbest estimator extra_tree's best error=0.1005\n[flaml.automl: 04-15 14:01:11] {2567} INFO - iteration 38, current learner xgboost\n[flaml.automl: 04-15 14:01:11] {2750} INFO -  at 3.4s,\testimator xgboost's best error=0.5000,\tbest estimator extra_tree's best error=0.1005\n[flaml.automl: 04-15 14:01:11] {2567} INFO - iteration 39, current learner lgbm\n[flaml.automl: 04-15 14:01:11] {2750} INFO -  at 3.5s,\testimator lgbm's best error=0.1195,\tbest estimator extra_tree's best error=0.1005\n[flaml.automl: 04-15 14:01:11] {2567} INFO - iteration 40, current learner xgboost\n[flaml.automl: 04-15 14:01:11] {2750} INFO -  at 3.5s,\testimator xgboost's best error=0.5000,\tbest estimator extra_tree's best error=0.1005\n[flaml.automl: 04-15 14:01:11] {2567} INFO - iteration 41, current learner extra_tree\n[flaml.automl: 04-15 14:01:12] {2750} INFO -  at 3.9s,\testimator extra_tree's best error=0.1005,\tbest estimator extra_tree's best error=0.1005\n[flaml.automl: 04-15 14:01:12] {2567} INFO - iteration 42, current learner lgbm\n[flaml.automl: 04-15 14:01:12] {2750} INFO -  at 3.9s,\testimator lgbm's best error=0.1195,\tbest estimator extra_tree's best error=0.1005\n[flaml.automl: 04-15 14:01:12] {2567} INFO - iteration 43, current learner xgboost\n[flaml.automl: 04-15 14:01:12] {2750} INFO -  at 3.9s,\testimator xgboost's best error=0.5000,\tbest estimator extra_tree's best error=0.1005\n[flaml.automl: 04-15 14:01:12] {2567} INFO - iteration 44, current learner extra_tree\n[flaml.automl: 04-15 14:01:12] {2750} INFO -  at 4.3s,\testimator extra_tree's best error=0.1005,\tbest estimator extra_tree's best error=0.1005\n[flaml.automl: 04-15 14:01:12] {2567} INFO - iteration 45, current learner xgboost\n[flaml.automl: 04-15 14:01:12] {2750} INFO -  at 4.3s,\testimator xgboost's best error=0.5000,\tbest estimator extra_tree's best error=0.1005\n[flaml.automl: 04-15 14:01:12] {2567} INFO - iteration 46, current learner lgbm\n[flaml.automl: 04-15 14:01:12] {2750} INFO -  at 4.3s,\testimator lgbm's best error=0.1115,\tbest estimator extra_tree's best error=0.1005\n[flaml.automl: 04-15 14:01:12] {2567} INFO - iteration 47, current learner xgboost\n[flaml.automl: 04-15 14:01:12] {2750} INFO -  at 4.3s,\testimator xgboost's best error=0.5000,\tbest estimator extra_tree's best error=0.1005\n[flaml.automl: 04-15 14:01:12] {2567} INFO - iteration 48, current learner lgbm\n[flaml.automl: 04-15 14:01:12] {2750} INFO -  at 4.4s,\testimator lgbm's best error=0.1115,\tbest estimator extra_tree's best error=0.1005\n[flaml.automl: 04-15 14:01:12] {2567} INFO - iteration 49, current learner lgbm\n[flaml.automl: 04-15 14:01:12] {2750} INFO -  at 4.4s,\testimator lgbm's best error=0.1115,\tbest estimator extra_tree's best error=0.1005\n[flaml.automl: 04-15 14:01:12] {2567} INFO - iteration 50, current learner extra_tree\n[flaml.automl: 04-15 14:01:13] {2750} INFO -  at 4.8s,\testimator extra_tree's best error=0.1005,\tbest estimator extra_tree's best error=0.1005\n[flaml.automl: 04-15 14:01:13] {2567} INFO - iteration 51, current learner lgbm\n[flaml.automl: 04-15 14:01:13] {2750} INFO -  at 4.8s,\testimator lgbm's best error=0.1115,\tbest estimator extra_tree's best error=0.1005\n[flaml.automl: 04-15 14:01:13] {2567} INFO - iteration 52, current learner lgbm\n[flaml.automl: 04-15 14:01:13] {2750} INFO -  at 4.8s,\testimator lgbm's best error=0.1115,\tbest estimator extra_tree's best error=0.1005\n[flaml.automl: 04-15 14:01:13] {2567} INFO - iteration 53, current learner lgbm\n[flaml.automl: 04-15 14:01:13] {2750} INFO -  at 4.8s,\testimator lgbm's best error=0.1115,\tbest estimator extra_tree's best error=0.1005\n[flaml.automl: 04-15 14:01:13] {2567} INFO - iteration 54, current learner lgbm\n[flaml.automl: 04-15 14:01:13] {2750} INFO -  at 4.9s,\testimator lgbm's best error=0.1075,\tbest estimator extra_tree's best error=0.1005\n[flaml.automl: 04-15 14:01:13] {2567} INFO - iteration 55, current learner xgboost\n[flaml.automl: 04-15 14:01:13] {2750} INFO -  at 4.9s,\testimator xgboost's best error=0.5000,\tbest estimator extra_tree's best error=0.1005\n[flaml.automl: 04-15 14:01:13] {2567} INFO - iteration 56, current learner lgbm\n[flaml.automl: 04-15 14:01:13] {2750} INFO -  at 4.9s,\testimator lgbm's best error=0.1075,\tbest estimator extra_tree's best error=0.1005\n[flaml.automl: 04-15 14:01:13] {2567} INFO - iteration 57, current learner lgbm\n[flaml.automl: 04-15 14:01:13] {2750} INFO -  at 5.0s,\testimator lgbm's best error=0.1075,\tbest estimator extra_tree's best error=0.1005\n[flaml.automl: 04-15 14:01:13] {2567} INFO - iteration 58, current learner xgboost\n[flaml.automl: 04-15 14:01:13] {2750} INFO -  at 5.0s,\testimator xgboost's best error=0.5000,\tbest estimator extra_tree's best error=0.1005\n[flaml.automl: 04-15 14:01:13] {2567} INFO - iteration 59, current learner lgbm\n[flaml.automl: 04-15 14:01:13] {2750} INFO -  at 5.0s,\testimator lgbm's best error=0.1075,\tbest estimator extra_tree's best error=0.1005\n[flaml.automl: 04-15 14:01:13] {2567} INFO - iteration 60, current learner xgboost\n[flaml.automl: 04-15 14:01:13] {2750} INFO -  at 5.1s,\testimator xgboost's best error=0.5000,\tbest estimator extra_tree's best error=0.1005\n[flaml.automl: 04-15 14:01:13] {2567} INFO - iteration 61, current learner lgbm\n[flaml.automl: 04-15 14:01:13] {2750} INFO -  at 5.1s,\testimator lgbm's best error=0.1075,\tbest estimator extra_tree's best error=0.1005\n[flaml.automl: 04-15 14:01:13] {2567} INFO - iteration 62, current learner xgboost\n[flaml.automl: 04-15 14:01:13] {2750} INFO -  at 5.2s,\testimator xgboost's best error=0.5000,\tbest estimator extra_tree's best error=0.1005\n[flaml.automl: 04-15 14:01:13] {2567} INFO - iteration 63, current learner xgboost\n[flaml.automl: 04-15 14:01:13] {2750} INFO -  at 5.2s,\testimator xgboost's best error=0.5000,\tbest estimator extra_tree's best error=0.1005\n[flaml.automl: 04-15 14:01:13] {2567} INFO - iteration 64, current learner lgbm\n[flaml.automl: 04-15 14:01:13] {2750} INFO -  at 5.4s,\testimator lgbm's best error=0.1075,\tbest estimator extra_tree's best error=0.1005\n[flaml.automl: 04-15 14:01:13] {2567} INFO - iteration 65, current learner xgboost\n[flaml.automl: 04-15 14:01:13] {2750} INFO -  at 5.5s,\testimator xgboost's best error=0.5000,\tbest estimator extra_tree's best error=0.1005\n[flaml.automl: 04-15 14:01:13] {2567} INFO - iteration 66, current learner extra_tree\n[flaml.automl: 04-15 14:01:14] {2750} INFO -  at 5.8s,\testimator extra_tree's best error=0.1005,\tbest estimator extra_tree's best error=0.1005\n[flaml.automl: 04-15 14:01:14] {2567} INFO - iteration 67, current learner xgboost\n[flaml.automl: 04-15 14:01:14] {2750} INFO -  at 5.8s,\testimator xgboost's best error=0.5000,\tbest estimator extra_tree's best error=0.1005\n[flaml.automl: 04-15 14:01:14] {2567} INFO - iteration 68, current learner lgbm\n[flaml.automl: 04-15 14:01:14] {2750} INFO -  at 5.8s,\testimator lgbm's best error=0.1075,\tbest estimator extra_tree's best error=0.1005\n[flaml.automl: 04-15 14:01:14] {2567} INFO - iteration 69, current learner xgboost\n[flaml.automl: 04-15 14:01:14] {2750} INFO -  at 5.9s,\testimator xgboost's best error=0.5000,\tbest estimator extra_tree's best error=0.1005\n[flaml.automl: 04-15 14:01:14] {2567} INFO - iteration 70, current learner xgb_limitdepth\n[flaml.automl: 04-15 14:01:14] {2750} INFO -  at 5.9s,\testimator xgb_limitdepth's best error=0.1585,\tbest estimator extra_tree's best error=0.1005\n[flaml.automl: 04-15 14:01:14] {2567} INFO - iteration 71, current learner xgb_limitdepth\n[flaml.automl: 04-15 14:01:14] {2750} INFO -  at 6.0s,\testimator xgb_limitdepth's best error=0.1400,\tbest estimator extra_tree's best error=0.1005\n[flaml.automl: 04-15 14:01:14] {2567} INFO - iteration 72, current learner xgb_limitdepth\n[flaml.automl: 04-15 14:01:14] {2750} INFO -  at 6.0s,\testimator xgb_limitdepth's best error=0.1400,\tbest estimator extra_tree's best error=0.1005\n[flaml.automl: 04-15 14:01:14] {2567} INFO - iteration 73, current learner xgb_limitdepth\n[flaml.automl: 04-15 14:01:14] {2750} INFO -  at 6.1s,\testimator xgb_limitdepth's best error=0.1400,\tbest estimator extra_tree's best error=0.1005\n[flaml.automl: 04-15 14:01:14] {2567} INFO - iteration 74, current learner extra_tree\n[flaml.automl: 04-15 14:01:14] {2750} INFO -  at 6.5s,\testimator extra_tree's best error=0.1005,\tbest estimator extra_tree's best error=0.1005\n[flaml.automl: 04-15 14:01:14] {2567} INFO - iteration 75, current learner xgb_limitdepth\n[flaml.automl: 04-15 14:01:14] {2750} INFO -  at 6.5s,\testimator xgb_limitdepth's best error=0.1400,\tbest estimator extra_tree's best error=0.1005\n[flaml.automl: 04-15 14:01:14] {2567} INFO - iteration 76, current learner lgbm\n[flaml.automl: 04-15 14:01:14] {2750} INFO -  at 6.5s,\testimator lgbm's best error=0.1075,\tbest estimator extra_tree's best error=0.1005\n[flaml.automl: 04-15 14:01:14] {2567} INFO - iteration 77, current learner lgbm\n[flaml.automl: 04-15 14:01:14] {2750} INFO -  at 6.6s,\testimator lgbm's best error=0.1075,\tbest estimator extra_tree's best error=0.1005\n[flaml.automl: 04-15 14:01:14] {2567} INFO - iteration 78, current learner xgb_limitdepth\n[flaml.automl: 04-15 14:01:14] {2750} INFO -  at 6.6s,\testimator xgb_limitdepth's best error=0.1400,\tbest estimator extra_tree's best error=0.1005\n[flaml.automl: 04-15 14:01:15] {2567} INFO - iteration 79, current learner xgboost\n[flaml.automl: 04-15 14:01:15] {2750} INFO -  at 6.7s,\testimator xgboost's best error=0.5000,\tbest estimator extra_tree's best error=0.1005\n[flaml.automl: 04-15 14:01:15] {2567} INFO - iteration 80, current learner lgbm\n[flaml.automl: 04-15 14:01:15] {2750} INFO -  at 6.7s,\testimator lgbm's best error=0.1075,\tbest estimator extra_tree's best error=0.1005\n[flaml.automl: 04-15 14:01:15] {2567} INFO - iteration 81, current learner xgb_limitdepth\n[flaml.automl: 04-15 14:01:15] {2750} INFO -  at 6.7s,\testimator xgb_limitdepth's best error=0.1200,\tbest estimator extra_tree's best error=0.1005\n[flaml.automl: 04-15 14:01:15] {2567} INFO - iteration 82, current learner extra_tree\n[flaml.automl: 04-15 14:01:15] {2750} INFO -  at 7.1s,\testimator extra_tree's best error=0.1005,\tbest estimator extra_tree's best error=0.1005\n[flaml.automl: 04-15 14:01:15] {2567} INFO - iteration 83, current learner xgb_limitdepth\n[flaml.automl: 04-15 14:01:15] {2750} INFO -  at 7.1s,\testimator xgb_limitdepth's best error=0.1185,\tbest estimator extra_tree's best error=0.1005\n[flaml.automl: 04-15 14:01:15] {2567} INFO - iteration 84, current learner xgb_limitdepth\n[flaml.automl: 04-15 14:01:15] {2750} INFO -  at 7.2s,\testimator xgb_limitdepth's best error=0.1185,\tbest estimator extra_tree's best error=0.1005\n[flaml.automl: 04-15 14:01:15] {2567} INFO - iteration 85, current learner xgb_limitdepth\n[flaml.automl: 04-15 14:01:15] {2750} INFO -  at 7.2s,\testimator xgb_limitdepth's best error=0.1175,\tbest estimator extra_tree's best error=0.1005\n[flaml.automl: 04-15 14:01:15] {2567} INFO - iteration 86, current learner xgboost\n[flaml.automl: 04-15 14:01:15] {2750} INFO -  at 7.3s,\testimator xgboost's best error=0.5000,\tbest estimator extra_tree's best error=0.1005\n[flaml.automl: 04-15 14:01:15] {2567} INFO - iteration 87, current learner extra_tree\n[flaml.automl: 04-15 14:01:15] {2750} INFO -  at 7.6s,\testimator extra_tree's best error=0.1005,\tbest estimator extra_tree's best error=0.1005\n[flaml.automl: 04-15 14:01:15] {2567} INFO - iteration 88, current learner xgboost\n[flaml.automl: 04-15 14:01:16] {2750} INFO -  at 7.6s,\testimator xgboost's best error=0.5000,\tbest estimator extra_tree's best error=0.1005\n[flaml.automl: 04-15 14:01:16] {2567} INFO - iteration 89, current learner lgbm\n[flaml.automl: 04-15 14:01:16] {2750} INFO -  at 7.6s,\testimator lgbm's best error=0.1075,\tbest estimator extra_tree's best error=0.1005\n[flaml.automl: 04-15 14:01:16] {2567} INFO - iteration 90, current learner xgb_limitdepth\n[flaml.automl: 04-15 14:01:16] {2750} INFO -  at 7.7s,\testimator xgb_limitdepth's best error=0.1175,\tbest estimator extra_tree's best error=0.1005\n[flaml.automl: 04-15 14:01:16] {2567} INFO - iteration 91, current learner xgboost\n[flaml.automl: 04-15 14:01:16] {2750} INFO -  at 7.8s,\testimator xgboost's best error=0.5000,\tbest estimator extra_tree's best error=0.1005\n[flaml.automl: 04-15 14:01:16] {2567} INFO - iteration 92, current learner xgb_limitdepth\n[flaml.automl: 04-15 14:01:16] {2750} INFO -  at 7.8s,\testimator xgb_limitdepth's best error=0.1175,\tbest estimator extra_tree's best error=0.1005\n[flaml.automl: 04-15 14:01:16] {2567} INFO - iteration 93, current learner xgboost\n[flaml.automl: 04-15 14:01:16] {2750} INFO -  at 7.9s,\testimator xgboost's best error=0.5000,\tbest estimator extra_tree's best error=0.1005\n[flaml.automl: 04-15 14:01:16] {2567} INFO - iteration 94, current learner xgboost\n[flaml.automl: 04-15 14:01:16] {2750} INFO -  at 7.9s,\testimator xgboost's best error=0.5000,\tbest estimator extra_tree's best error=0.1005\n[flaml.automl: 04-15 14:01:16] {2567} INFO - iteration 95, current learner lgbm\n[flaml.automl: 04-15 14:01:16] {2750} INFO -  at 7.9s,\testimator lgbm's best error=0.1075,\tbest estimator extra_tree's best error=0.1005\n[flaml.automl: 04-15 14:01:16] {2567} INFO - iteration 96, current learner xgb_limitdepth\n[flaml.automl: 04-15 14:01:16] {2750} INFO -  at 8.0s,\testimator xgb_limitdepth's best error=0.1175,\tbest estimator extra_tree's best error=0.1005\n[flaml.automl: 04-15 14:01:16] {2567} INFO - iteration 97, current learner xgboost\n[flaml.automl: 04-15 14:01:16] {2750} INFO -  at 8.0s,\testimator xgboost's best error=0.5000,\tbest estimator extra_tree's best error=0.1005\n[flaml.automl: 04-15 14:01:16] {2567} INFO - iteration 98, current learner xgboost\n[flaml.automl: 04-15 14:01:16] {2750} INFO -  at 8.1s,\testimator xgboost's best error=0.5000,\tbest estimator extra_tree's best error=0.1005\n[flaml.automl: 04-15 14:01:16] {2567} INFO - iteration 99, current learner xgboost\n[flaml.automl: 04-15 14:01:16] {2750} INFO -  at 8.1s,\testimator xgboost's best error=0.5000,\tbest estimator extra_tree's best error=0.1005\n[flaml.automl: 04-15 14:01:16] {2567} INFO - iteration 100, current learner lgbm\n[flaml.automl: 04-15 14:01:16] {2750} INFO -  at 8.2s,\testimator lgbm's best error=0.1075,\tbest estimator extra_tree's best error=0.1005\n[flaml.automl: 04-15 14:01:16] {2567} INFO - iteration 101, current learner extra_tree\n[flaml.automl: 04-15 14:01:16] {2750} INFO -  at 8.6s,\testimator extra_tree's best error=0.1005,\tbest estimator extra_tree's best error=0.1005\n[flaml.automl: 04-15 14:01:16] {2567} INFO - iteration 102, current learner xgboost\n[flaml.automl: 04-15 14:01:17] {2750} INFO -  at 8.6s,\testimator xgboost's best error=0.5000,\tbest estimator extra_tree's best error=0.1005\n[flaml.automl: 04-15 14:01:17] {2567} INFO - iteration 103, current learner lgbm\n[flaml.automl: 04-15 14:01:17] {2750} INFO -  at 8.6s,\testimator lgbm's best error=0.1075,\tbest estimator extra_tree's best error=0.1005\n[flaml.automl: 04-15 14:01:17] {2567} INFO - iteration 104, current learner xgboost\n[flaml.automl: 04-15 14:01:17] {2750} INFO -  at 8.6s,\testimator xgboost's best error=0.5000,\tbest estimator extra_tree's best error=0.1005\n[flaml.automl: 04-15 14:01:17] {2567} INFO - iteration 105, current learner lgbm\n[flaml.automl: 04-15 14:01:17] {2750} INFO -  at 8.7s,\testimator lgbm's best error=0.1075,\tbest estimator extra_tree's best error=0.1005\n[flaml.automl: 04-15 14:01:17] {2567} INFO - iteration 106, current learner xgboost\n[flaml.automl: 04-15 14:01:17] {2750} INFO -  at 8.8s,\testimator xgboost's best error=0.5000,\tbest estimator extra_tree's best error=0.1005\n[flaml.automl: 04-15 14:01:17] {2567} INFO - iteration 107, current learner extra_tree\n[flaml.automl: 04-15 14:01:17] {2750} INFO -  at 9.1s,\testimator extra_tree's best error=0.1005,\tbest estimator extra_tree's best error=0.1005\n[flaml.automl: 04-15 14:01:17] {2567} INFO - iteration 108, current learner rf\n[flaml.automl: 04-15 14:01:17] {2750} INFO -  at 9.4s,\testimator rf's best error=0.1280,\tbest estimator extra_tree's best error=0.1005\n[flaml.automl: 04-15 14:01:17] {2567} INFO - iteration 109, current learner extra_tree\n[flaml.automl: 04-15 14:01:18] {2750} INFO -  at 9.8s,\testimator extra_tree's best error=0.1005,\tbest estimator extra_tree's best error=0.1005\n[flaml.automl: 04-15 14:01:18] {2567} INFO - iteration 110, current learner rf\n[flaml.automl: 04-15 14:01:18] {2750} INFO -  at 10.2s,\testimator rf's best error=0.1260,\tbest estimator extra_tree's best error=0.1005\n[flaml.automl: 04-15 14:01:18] {2567} INFO - iteration 111, current learner lgbm\n[flaml.automl: 04-15 14:01:18] {2750} INFO -  at 10.2s,\testimator lgbm's best error=0.1075,\tbest estimator extra_tree's best error=0.1005\n[flaml.automl: 04-15 14:01:18] {2567} INFO - iteration 112, current learner xgb_limitdepth\n[flaml.automl: 04-15 14:01:18] {2750} INFO -  at 10.3s,\testimator xgb_limitdepth's best error=0.1175,\tbest estimator extra_tree's best error=0.1005\n[flaml.automl: 04-15 14:01:18] {2567} INFO - iteration 113, current learner xgboost\n[flaml.automl: 04-15 14:01:18] {2750} INFO -  at 10.3s,\testimator xgboost's best error=0.5000,\tbest estimator extra_tree's best error=0.1005\n[flaml.automl: 04-15 14:01:18] {2567} INFO - iteration 114, current learner xgb_limitdepth\n[flaml.automl: 04-15 14:01:18] {2750} INFO -  at 10.4s,\testimator xgb_limitdepth's best error=0.1175,\tbest estimator extra_tree's best error=0.1005\n[flaml.automl: 04-15 14:01:18] {2567} INFO - iteration 115, current learner lgbm\n[flaml.automl: 04-15 14:01:18] {2750} INFO -  at 10.4s,\testimator lgbm's best error=0.1075,\tbest estimator extra_tree's best error=0.1005\n[flaml.automl: 04-15 14:01:18] {2567} INFO - iteration 116, current learner lgbm\n[flaml.automl: 04-15 14:01:18] {2750} INFO -  at 10.5s,\testimator lgbm's best error=0.1075,\tbest estimator extra_tree's best error=0.1005\n[flaml.automl: 04-15 14:01:18] {2567} INFO - iteration 117, current learner extra_tree\n[flaml.automl: 04-15 14:01:19] {2750} INFO -  at 10.8s,\testimator extra_tree's best error=0.1005,\tbest estimator extra_tree's best error=0.1005\n[flaml.automl: 04-15 14:01:19] {2567} INFO - iteration 118, current learner xgboost\n[flaml.automl: 04-15 14:01:19] {2750} INFO -  at 10.8s,\testimator xgboost's best error=0.5000,\tbest estimator extra_tree's best error=0.1005\n[flaml.automl: 04-15 14:01:19] {2567} INFO - iteration 119, current learner lgbm\n[flaml.automl: 04-15 14:01:19] {2750} INFO -  at 10.8s,\testimator lgbm's best error=0.1075,\tbest estimator extra_tree's best error=0.1005\n[flaml.automl: 04-15 14:01:19] {2567} INFO - iteration 120, current learner extra_tree\n[flaml.automl: 04-15 14:01:19] {2750} INFO -  at 11.2s,\testimator extra_tree's best error=0.1005,\tbest estimator extra_tree's best error=0.1005\n[flaml.automl: 04-15 14:01:19] {2567} INFO - iteration 121, current learner xgboost\n[flaml.automl: 04-15 14:01:19] {2750} INFO -  at 11.4s,\testimator xgboost's best error=0.5000,\tbest estimator extra_tree's best error=0.1005\n[flaml.automl: 04-15 14:01:19] {2567} INFO - iteration 122, current learner extra_tree\n[flaml.automl: 04-15 14:01:20] {2750} INFO -  at 11.7s,\testimator extra_tree's best error=0.1005,\tbest estimator extra_tree's best error=0.1005\n[flaml.automl: 04-15 14:01:20] {2567} INFO - iteration 123, current learner xgboost\n[flaml.automl: 04-15 14:01:20] {2750} INFO -  at 11.7s,\testimator xgboost's best error=0.5000,\tbest estimator extra_tree's best error=0.1005\n[flaml.automl: 04-15 14:01:20] {2567} INFO - iteration 124, current learner lgbm\n[flaml.automl: 04-15 14:01:20] {2750} INFO -  at 11.7s,\testimator lgbm's best error=0.1075,\tbest estimator extra_tree's best error=0.1005\n[flaml.automl: 04-15 14:01:20] {2567} INFO - iteration 125, current learner lgbm\n[flaml.automl: 04-15 14:01:20] {2750} INFO -  at 11.7s,\testimator lgbm's best error=0.1075,\tbest estimator extra_tree's best error=0.1005\n[flaml.automl: 04-15 14:01:20] {2567} INFO - iteration 126, current learner lgbm\n[flaml.automl: 04-15 14:01:20] {2750} INFO -  at 11.8s,\testimator lgbm's best error=0.1075,\tbest estimator extra_tree's best error=0.1005\n[flaml.automl: 04-15 14:01:20] {2567} INFO - iteration 127, current learner lgbm\n[flaml.automl: 04-15 14:01:20] {2750} INFO -  at 11.8s,\testimator lgbm's best error=0.1075,\tbest estimator extra_tree's best error=0.1005\n[flaml.automl: 04-15 14:01:20] {2567} INFO - iteration 128, current learner lgbm\n[flaml.automl: 04-15 14:01:20] {2750} INFO -  at 11.8s,\testimator lgbm's best error=0.1075,\tbest estimator extra_tree's best error=0.1005\n[flaml.automl: 04-15 14:01:20] {2567} INFO - iteration 129, current learner extra_tree\n[flaml.automl: 04-15 14:01:20] {2750} INFO -  at 12.2s,\testimator extra_tree's best error=0.1005,\tbest estimator extra_tree's best error=0.1005\n[flaml.automl: 04-15 14:01:20] {2567} INFO - iteration 130, current learner xgboost\n[flaml.automl: 04-15 14:01:20] {2750} INFO -  at 12.2s,\testimator xgboost's best error=0.5000,\tbest estimator extra_tree's best error=0.1005\n[flaml.automl: 04-15 14:01:20] {2567} INFO - iteration 131, current learner xgboost\n[flaml.automl: 04-15 14:01:20] {2750} INFO -  at 12.2s,\testimator xgboost's best error=0.5000,\tbest estimator extra_tree's best error=0.1005\n[flaml.automl: 04-15 14:01:20] {2567} INFO - iteration 132, current learner extra_tree\n[flaml.automl: 04-15 14:01:20] {2750} INFO -  at 12.6s,\testimator extra_tree's best error=0.1005,\tbest estimator extra_tree's best error=0.1005\n[flaml.automl: 04-15 14:01:20] {2567} INFO - iteration 133, current learner lgbm\n[flaml.automl: 04-15 14:01:20] {2750} INFO -  at 12.6s,\testimator lgbm's best error=0.1075,\tbest estimator extra_tree's best error=0.1005\n[flaml.automl: 04-15 14:01:20] {2567} INFO - iteration 134, current learner lgbm\n[flaml.automl: 04-15 14:01:20] {2750} INFO -  at 12.6s,\testimator lgbm's best error=0.1075,\tbest estimator extra_tree's best error=0.1005\n[flaml.automl: 04-15 14:01:20] {2567} INFO - iteration 135, current learner xgboost\n[flaml.automl: 04-15 14:01:20] {2750} INFO -  at 12.6s,\testimator xgboost's best error=0.5000,\tbest estimator extra_tree's best error=0.1005\n[flaml.automl: 04-15 14:01:20] {2567} INFO - iteration 136, current learner xgb_limitdepth\n[flaml.automl: 04-15 14:01:21] {2750} INFO -  at 12.7s,\testimator xgb_limitdepth's best error=0.1175,\tbest estimator extra_tree's best error=0.1005\n[flaml.automl: 04-15 14:01:21] {2567} INFO - iteration 137, current learner xgboost\n[flaml.automl: 04-15 14:01:21] {2750} INFO -  at 12.7s,\testimator xgboost's best error=0.5000,\tbest estimator extra_tree's best error=0.1005\n[flaml.automl: 04-15 14:01:21] {2567} INFO - iteration 138, current learner lgbm\n[flaml.automl: 04-15 14:01:21] {2750} INFO -  at 12.8s,\testimator lgbm's best error=0.1075,\tbest estimator extra_tree's best error=0.1005\n[flaml.automl: 04-15 14:01:21] {2567} INFO - iteration 139, current learner extra_tree\n[flaml.automl: 04-15 14:01:21] {2750} INFO -  at 13.1s,\testimator extra_tree's best error=0.1005,\tbest estimator extra_tree's best error=0.1005\n[flaml.automl: 04-15 14:01:21] {2567} INFO - iteration 140, current learner lgbm\n[flaml.automl: 04-15 14:01:21] {2750} INFO -  at 13.1s,\testimator lgbm's best error=0.1075,\tbest estimator extra_tree's best error=0.1005\n[flaml.automl: 04-15 14:01:21] {2567} INFO - iteration 141, current learner extra_tree\n[flaml.automl: 04-15 14:01:21] {2750} INFO -  at 13.4s,\testimator extra_tree's best error=0.1005,\tbest estimator extra_tree's best error=0.1005\n[flaml.automl: 04-15 14:01:21] {2567} INFO - iteration 142, current learner rf\n[flaml.automl: 04-15 14:01:22] {2750} INFO -  at 13.7s,\testimator rf's best error=0.1260,\tbest estimator extra_tree's best error=0.1005\n[flaml.automl: 04-15 14:01:22] {2567} INFO - iteration 143, current learner extra_tree\n[flaml.automl: 04-15 14:01:22] {2750} INFO -  at 14.1s,\testimator extra_tree's best error=0.1005,\tbest estimator extra_tree's best error=0.1005\n[flaml.automl: 04-15 14:01:22] {2567} INFO - iteration 144, current learner xgboost\n[flaml.automl: 04-15 14:01:22] {2750} INFO -  at 14.1s,\testimator xgboost's best error=0.5000,\tbest estimator extra_tree's best error=0.1005\n[flaml.automl: 04-15 14:01:22] {2567} INFO - iteration 145, current learner xgboost\n[flaml.automl: 04-15 14:01:22] {2750} INFO -  at 14.1s,\testimator xgboost's best error=0.5000,\tbest estimator extra_tree's best error=0.1005\n[flaml.automl: 04-15 14:01:22] {2567} INFO - iteration 146, current learner lgbm\n[flaml.automl: 04-15 14:01:22] {2750} INFO -  at 14.2s,\testimator lgbm's best error=0.1075,\tbest estimator extra_tree's best error=0.1005\n[flaml.automl: 04-15 14:01:22] {2567} INFO - iteration 147, current learner lgbm\n[flaml.automl: 04-15 14:01:22] {2750} INFO -  at 14.2s,\testimator lgbm's best error=0.1075,\tbest estimator extra_tree's best error=0.1005\n[flaml.automl: 04-15 14:01:22] {2567} INFO - iteration 148, current learner lgbm\n[flaml.automl: 04-15 14:01:22] {2750} INFO -  at 14.2s,\testimator lgbm's best error=0.1075,\tbest estimator extra_tree's best error=0.1005\n[flaml.automl: 04-15 14:01:22] {2567} INFO - iteration 149, current learner lgbm\n[flaml.automl: 04-15 14:01:22] {2750} INFO -  at 14.3s,\testimator lgbm's best error=0.1075,\tbest estimator extra_tree's best error=0.1005\n[flaml.automl: 04-15 14:01:22] {2567} INFO - iteration 150, current learner lgbm\n[flaml.automl: 04-15 14:01:22] {2750} INFO -  at 14.4s,\testimator lgbm's best error=0.1075,\tbest estimator extra_tree's best error=0.1005\n[flaml.automl: 04-15 14:01:22] {2567} INFO - iteration 151, current learner lgbm\n[flaml.automl: 04-15 14:01:22] {2750} INFO -  at 14.4s,\testimator lgbm's best error=0.1075,\tbest estimator extra_tree's best error=0.1005\n[flaml.automl: 04-15 14:01:22] {2567} INFO - iteration 152, current learner xgboost\n[flaml.automl: 04-15 14:01:22] {2750} INFO -  at 14.5s,\testimator xgboost's best error=0.5000,\tbest estimator extra_tree's best error=0.1005\n[flaml.automl: 04-15 14:01:22] {2567} INFO - iteration 153, current learner xgboost\n[flaml.automl: 04-15 14:01:22] {2750} INFO -  at 14.6s,\testimator xgboost's best error=0.5000,\tbest estimator extra_tree's best error=0.1005\n[flaml.automl: 04-15 14:01:22] {2567} INFO - iteration 154, current learner lgbm\n[flaml.automl: 04-15 14:01:22] {2750} INFO -  at 14.6s,\testimator lgbm's best error=0.1075,\tbest estimator extra_tree's best error=0.1005\n[flaml.automl: 04-15 14:01:23] {2567} INFO - iteration 155, current learner lgbm\n[flaml.automl: 04-15 14:01:23] {2750} INFO -  at 14.7s,\testimator lgbm's best error=0.1075,\tbest estimator extra_tree's best error=0.1005\n[flaml.automl: 04-15 14:01:23] {2567} INFO - iteration 156, current learner xgb_limitdepth\n[flaml.automl: 04-15 14:01:23] {2750} INFO -  at 14.8s,\testimator xgb_limitdepth's best error=0.1175,\tbest estimator extra_tree's best error=0.1005\n[flaml.automl: 04-15 14:01:23] {2567} INFO - iteration 157, current learner xgboost\n[flaml.automl: 04-15 14:01:23] {2750} INFO -  at 14.9s,\testimator xgboost's best error=0.5000,\tbest estimator extra_tree's best error=0.1005\n[flaml.automl: 04-15 14:01:23] {2567} INFO - iteration 158, current learner lgbm\n[flaml.automl: 04-15 14:01:23] {2750} INFO -  at 14.9s,\testimator lgbm's best error=0.1075,\tbest estimator extra_tree's best error=0.1005\n[flaml.automl: 04-15 14:01:23] {2567} INFO - iteration 159, current learner lgbm\n[flaml.automl: 04-15 14:01:23] {2750} INFO -  at 14.9s,\testimator lgbm's best error=0.1075,\tbest estimator extra_tree's best error=0.1005\n[flaml.automl: 04-15 14:01:23] {2567} INFO - iteration 160, current learner xgboost\n[flaml.automl: 04-15 14:01:23] {2750} INFO -  at 15.0s,\testimator xgboost's best error=0.5000,\tbest estimator extra_tree's best error=0.1005\n[flaml.automl: 04-15 14:01:23] {2567} INFO - iteration 161, current learner lgbm\n[flaml.automl: 04-15 14:01:23] {2750} INFO -  at 15.0s,\testimator lgbm's best error=0.1075,\tbest estimator extra_tree's best error=0.1005\n[flaml.automl: 04-15 14:01:23] {2567} INFO - iteration 162, current learner xgboost\n[flaml.automl: 04-15 14:01:23] {2750} INFO -  at 15.1s,\testimator xgboost's best error=0.5000,\tbest estimator extra_tree's best error=0.1005\n[flaml.automl: 04-15 14:01:23] {2567} INFO - iteration 163, current learner xgb_limitdepth\n[flaml.automl: 04-15 14:01:23] {2750} INFO -  at 15.1s,\testimator xgb_limitdepth's best error=0.1175,\tbest estimator extra_tree's best error=0.1005\n[flaml.automl: 04-15 14:01:23] {2567} INFO - iteration 164, current learner extra_tree\n[flaml.automl: 04-15 14:01:23] {2750} INFO -  at 15.5s,\testimator extra_tree's best error=0.1005,\tbest estimator extra_tree's best error=0.1005\n[flaml.automl: 04-15 14:01:23] {2567} INFO - iteration 165, current learner lgbm\n[flaml.automl: 04-15 14:01:23] {2750} INFO -  at 15.6s,\testimator lgbm's best error=0.1075,\tbest estimator extra_tree's best error=0.1005\n[flaml.automl: 04-15 14:01:23] {2567} INFO - iteration 166, current learner xgboost\n[flaml.automl: 04-15 14:01:23] {2750} INFO -  at 15.6s,\testimator xgboost's best error=0.5000,\tbest estimator extra_tree's best error=0.1005\n[flaml.automl: 04-15 14:01:23] {2567} INFO - iteration 167, current learner xgboost\n[flaml.automl: 04-15 14:01:23] {2750} INFO -  at 15.6s,\testimator xgboost's best error=0.5000,\tbest estimator extra_tree's best error=0.1005\n[flaml.automl: 04-15 14:01:23] {2567} INFO - iteration 168, current learner extra_tree\n[flaml.automl: 04-15 14:01:24] {2750} INFO -  at 15.9s,\testimator extra_tree's best error=0.1005,\tbest estimator extra_tree's best error=0.1005\n[flaml.automl: 04-15 14:01:24] {2567} INFO - iteration 169, current learner lgbm\n[flaml.automl: 04-15 14:01:24] {2750} INFO -  at 15.9s,\testimator lgbm's best error=0.1075,\tbest estimator extra_tree's best error=0.1005\n[flaml.automl: 04-15 14:01:24] {2567} INFO - iteration 170, current learner lgbm\n[flaml.automl: 04-15 14:01:24] {2750} INFO -  at 15.9s,\testimator lgbm's best error=0.1075,\tbest estimator extra_tree's best error=0.1005\n[flaml.automl: 04-15 14:01:24] {2567} INFO - iteration 171, current learner lgbm\n[flaml.automl: 04-15 14:01:24] {2750} INFO -  at 15.9s,\testimator lgbm's best error=0.1075,\tbest estimator extra_tree's best error=0.1005\n[flaml.automl: 04-15 14:01:24] {2567} INFO - iteration 172, current learner xgboost\n[flaml.automl: 04-15 14:01:24] {2750} INFO -  at 16.0s,\testimator xgboost's best error=0.5000,\tbest estimator extra_tree's best error=0.1005\n[flaml.automl: 04-15 14:01:24] {2567} INFO - iteration 173, current learner xgboost\n[flaml.automl: 04-15 14:01:24] {2750} INFO -  at 16.0s,\testimator xgboost's best error=0.5000,\tbest estimator extra_tree's best error=0.1005\n[flaml.automl: 04-15 14:01:24] {2567} INFO - iteration 174, current learner xgboost\n[flaml.automl: 04-15 14:01:24] {2750} INFO -  at 16.0s,\testimator xgboost's best error=0.5000,\tbest estimator extra_tree's best error=0.1005\n[flaml.automl: 04-15 14:01:24] {2567} INFO - iteration 175, current learner lrl1\n[flaml.automl: 04-15 14:01:24] {2750} INFO -  at 16.1s,\testimator lrl1's best error=0.1520,\tbest estimator extra_tree's best error=0.1005\n[flaml.automl: 04-15 14:01:24] {2567} INFO - iteration 176, current learner lrl1\n[flaml.automl: 04-15 14:01:24] {2750} INFO -  at 16.2s,\testimator lrl1's best error=0.1440,\tbest estimator extra_tree's best error=0.1005\n[flaml.automl: 04-15 14:01:24] {2567} INFO - iteration 177, current learner lrl1\n[flaml.automl: 04-15 14:01:24] {2750} INFO -  at 16.3s,\testimator lrl1's best error=0.1350,\tbest estimator extra_tree's best error=0.1005\n[flaml.automl: 04-15 14:01:24] {2567} INFO - iteration 178, current learner lrl1\n[flaml.automl: 04-15 14:01:24] {2750} INFO -  at 16.4s,\testimator lrl1's best error=0.1350,\tbest estimator extra_tree's best error=0.1005\n[flaml.automl: 04-15 14:01:24] {2567} INFO - iteration 179, current learner xgboost\n[flaml.automl: 04-15 14:01:24] {2750} INFO -  at 16.5s,\testimator xgboost's best error=0.5000,\tbest estimator extra_tree's best error=0.1005\n[flaml.automl: 04-15 14:01:24] {2567} INFO - iteration 180, current learner xgb_limitdepth\n[flaml.automl: 04-15 14:01:24] {2750} INFO -  at 16.5s,\testimator xgb_limitdepth's best error=0.1175,\tbest estimator extra_tree's best error=0.1005\n[flaml.automl: 04-15 14:01:24] {2567} INFO - iteration 181, current learner lrl1\n[flaml.automl: 04-15 14:01:25] {2750} INFO -  at 16.6s,\testimator lrl1's best error=0.1350,\tbest estimator extra_tree's best error=0.1005\n[flaml.automl: 04-15 14:01:25] {2567} INFO - iteration 182, current learner lrl1\n[flaml.automl: 04-15 14:01:25] {2750} INFO -  at 16.7s,\testimator lrl1's best error=0.1350,\tbest estimator extra_tree's best error=0.1005\n[flaml.automl: 04-15 14:01:25] {2567} INFO - iteration 183, current learner xgboost\n[flaml.automl: 04-15 14:01:25] {2750} INFO -  at 16.7s,\testimator xgboost's best error=0.5000,\tbest estimator extra_tree's best error=0.1005\n[flaml.automl: 04-15 14:01:25] {2567} INFO - iteration 184, current learner lgbm\n[flaml.automl: 04-15 14:01:25] {2750} INFO -  at 16.8s,\testimator lgbm's best error=0.1075,\tbest estimator extra_tree's best error=0.1005\n[flaml.automl: 04-15 14:01:25] {2567} INFO - iteration 185, current learner xgboost\n[flaml.automl: 04-15 14:01:25] {2750} INFO -  at 16.8s,\testimator xgboost's best error=0.5000,\tbest estimator extra_tree's best error=0.1005\n[flaml.automl: 04-15 14:01:25] {2567} INFO - iteration 186, current learner extra_tree\n[flaml.automl: 04-15 14:01:25] {2750} INFO -  at 17.1s,\testimator extra_tree's best error=0.1005,\tbest estimator extra_tree's best error=0.1005\n[flaml.automl: 04-15 14:01:25] {2567} INFO - iteration 187, current learner rf\n[flaml.automl: 04-15 14:01:25] {2750} INFO -  at 17.5s,\testimator rf's best error=0.1260,\tbest estimator extra_tree's best error=0.1005\n[flaml.automl: 04-15 14:01:25] {2567} INFO - iteration 188, current learner lrl1\n[flaml.automl: 04-15 14:01:26] {2750} INFO -  at 17.6s,\testimator lrl1's best error=0.1350,\tbest estimator extra_tree's best error=0.1005\n[flaml.automl: 04-15 14:01:26] {2567} INFO - iteration 189, current learner lgbm\n[flaml.automl: 04-15 14:01:26] {2750} INFO -  at 17.6s,\testimator lgbm's best error=0.1075,\tbest estimator extra_tree's best error=0.1005\n[flaml.automl: 04-15 14:01:26] {2567} INFO - iteration 190, current learner xgboost\n[flaml.automl: 04-15 14:01:26] {2750} INFO -  at 17.6s,\testimator xgboost's best error=0.5000,\tbest estimator extra_tree's best error=0.1005\n[flaml.automl: 04-15 14:01:26] {2567} INFO - iteration 191, current learner lrl1\n[flaml.automl: 04-15 14:01:26] {2750} INFO -  at 17.7s,\testimator lrl1's best error=0.1350,\tbest estimator extra_tree's best error=0.1005\n[flaml.automl: 04-15 14:01:26] {2567} INFO - iteration 192, current learner lgbm\n[flaml.automl: 04-15 14:01:26] {2750} INFO -  at 17.7s,\testimator lgbm's best error=0.1075,\tbest estimator extra_tree's best error=0.1005\n[flaml.automl: 04-15 14:01:26] {2567} INFO - iteration 193, current learner extra_tree\n[flaml.automl: 04-15 14:01:26] {2750} INFO -  at 18.1s,\testimator extra_tree's best error=0.1005,\tbest estimator extra_tree's best error=0.1005\n[flaml.automl: 04-15 14:01:26] {2567} INFO - iteration 194, current learner extra_tree\n[flaml.automl: 04-15 14:01:26] {2750} INFO -  at 18.4s,\testimator extra_tree's best error=0.1005,\tbest estimator extra_tree's best error=0.1005\n[flaml.automl: 04-15 14:01:26] {2567} INFO - iteration 195, current learner lrl1\n[flaml.automl: 04-15 14:01:26] {2750} INFO -  at 18.5s,\testimator lrl1's best error=0.1350,\tbest estimator extra_tree's best error=0.1005\n[flaml.automl: 04-15 14:01:26] {2567} INFO - iteration 196, current learner xgboost\n[flaml.automl: 04-15 14:01:26] {2750} INFO -  at 18.5s,\testimator xgboost's best error=0.5000,\tbest estimator extra_tree's best error=0.1005\n[flaml.automl: 04-15 14:01:26] {2567} INFO - iteration 197, current learner xgboost\n[flaml.automl: 04-15 14:01:26] {2750} INFO -  at 18.6s,\testimator xgboost's best error=0.5000,\tbest estimator extra_tree's best error=0.1005\n[flaml.automl: 04-15 14:01:26] {2567} INFO - iteration 198, current learner xgb_limitdepth\n[flaml.automl: 04-15 14:01:26] {2750} INFO -  at 18.6s,\testimator xgb_limitdepth's best error=0.1175,\tbest estimator extra_tree's best error=0.1005\n[flaml.automl: 04-15 14:01:26] {2567} INFO - iteration 199, current learner lrl1\n[flaml.automl: 04-15 14:01:27] {2750} INFO -  at 18.7s,\testimator lrl1's best error=0.1350,\tbest estimator extra_tree's best error=0.1005\n[flaml.automl: 04-15 14:01:27] {2567} INFO - iteration 200, current learner lrl1\n[flaml.automl: 04-15 14:01:27] {2750} INFO -  at 18.8s,\testimator lrl1's best error=0.1350,\tbest estimator extra_tree's best error=0.1005\n[flaml.automl: 04-15 14:01:27] {2567} INFO - iteration 201, current learner lrl1\n[flaml.automl: 04-15 14:01:27] {2750} INFO -  at 18.9s,\testimator lrl1's best error=0.1350,\tbest estimator extra_tree's best error=0.1005\n[flaml.automl: 04-15 14:01:27] {2567} INFO - iteration 202, current learner rf\n[flaml.automl: 04-15 14:01:27] {2750} INFO -  at 19.2s,\testimator rf's best error=0.1260,\tbest estimator extra_tree's best error=0.1005\n[flaml.automl: 04-15 14:01:27] {2567} INFO - iteration 203, current learner xgboost\n[flaml.automl: 04-15 14:01:27] {2750} INFO -  at 19.2s,\testimator xgboost's best error=0.5000,\tbest estimator extra_tree's best error=0.1005\n[flaml.automl: 04-15 14:01:27] {2567} INFO - iteration 204, current learner extra_tree\n[flaml.automl: 04-15 14:01:27] {2750} INFO -  at 19.5s,\testimator extra_tree's best error=0.1005,\tbest estimator extra_tree's best error=0.1005\n[flaml.automl: 04-15 14:01:27] {2567} INFO - iteration 205, current learner lrl1\n[flaml.automl: 04-15 14:01:28] {2750} INFO -  at 19.7s,\testimator lrl1's best error=0.1350,\tbest estimator extra_tree's best error=0.1005\n[flaml.automl: 04-15 14:01:28] {2567} INFO - iteration 206, current learner lrl1\n[flaml.automl: 04-15 14:01:28] {2750} INFO -  at 19.8s,\testimator lrl1's best error=0.1350,\tbest estimator extra_tree's best error=0.1005\n[flaml.automl: 04-15 14:01:28] {2567} INFO - iteration 207, current learner extra_tree\n[flaml.automl: 04-15 14:01:28] {2750} INFO -  at 20.2s,\testimator extra_tree's best error=0.1005,\tbest estimator extra_tree's best error=0.1005\n[flaml.automl: 04-15 14:01:28] {2567} INFO - iteration 208, current learner lrl1\n[flaml.automl: 04-15 14:01:28] {2750} INFO -  at 20.3s,\testimator lrl1's best error=0.1350,\tbest estimator extra_tree's best error=0.1005\n[flaml.automl: 04-15 14:01:28] {2567} INFO - iteration 209, current learner extra_tree\n[flaml.automl: 04-15 14:01:29] {2750} INFO -  at 20.7s,\testimator extra_tree's best error=0.1005,\tbest estimator extra_tree's best error=0.1005\n[flaml.automl: 04-15 14:01:29] {2567} INFO - iteration 210, current learner xgboost\n[flaml.automl: 04-15 14:01:29] {2750} INFO -  at 20.7s,\testimator xgboost's best error=0.5000,\tbest estimator extra_tree's best error=0.1005\n[flaml.automl: 04-15 14:01:29] {2567} INFO - iteration 211, current learner xgboost\n[flaml.automl: 04-15 14:01:29] {2750} INFO -  at 20.8s,\testimator xgboost's best error=0.5000,\tbest estimator extra_tree's best error=0.1005\n[flaml.automl: 04-15 14:01:29] {2567} INFO - iteration 212, current learner extra_tree\n[flaml.automl: 04-15 14:01:29] {2750} INFO -  at 21.1s,\testimator extra_tree's best error=0.1005,\tbest estimator extra_tree's best error=0.1005\n[flaml.automl: 04-15 14:01:29] {2567} INFO - iteration 213, current learner xgboost\n[flaml.automl: 04-15 14:01:29] {2750} INFO -  at 21.1s,\testimator xgboost's best error=0.5000,\tbest estimator extra_tree's best error=0.1005\n[flaml.automl: 04-15 14:01:29] {2567} INFO - iteration 214, current learner lrl1\n[flaml.automl: 04-15 14:01:29] {2750} INFO -  at 21.2s,\testimator lrl1's best error=0.1350,\tbest estimator extra_tree's best error=0.1005\n[flaml.automl: 04-15 14:01:29] {2567} INFO - iteration 215, current learner lrl1\n[flaml.automl: 04-15 14:01:29] {2750} INFO -  at 21.3s,\testimator lrl1's best error=0.1350,\tbest estimator extra_tree's best error=0.1005\n[flaml.automl: 04-15 14:01:29] {2567} INFO - iteration 216, current learner xgboost\n[flaml.automl: 04-15 14:01:29] {2750} INFO -  at 21.3s,\testimator xgboost's best error=0.5000,\tbest estimator extra_tree's best error=0.1005\n[flaml.automl: 04-15 14:01:29] {2567} INFO - iteration 217, current learner lrl1\n[flaml.automl: 04-15 14:01:29] {2750} INFO -  at 21.4s,\testimator lrl1's best error=0.1350,\tbest estimator extra_tree's best error=0.1005\n[flaml.automl: 04-15 14:01:29] {2567} INFO - iteration 218, current learner xgboost\n[flaml.automl: 04-15 14:01:29] {2750} INFO -  at 21.5s,\testimator xgboost's best error=0.5000,\tbest estimator extra_tree's best error=0.1005\n[flaml.automl: 04-15 14:01:29] {2567} INFO - iteration 219, current learner xgboost\n[flaml.automl: 04-15 14:01:29] {2750} INFO -  at 21.6s,\testimator xgboost's best error=0.5000,\tbest estimator extra_tree's best error=0.1005\n[flaml.automl: 04-15 14:01:29] {2567} INFO - iteration 220, current learner xgboost\n[flaml.automl: 04-15 14:01:30] {2750} INFO -  at 21.6s,\testimator xgboost's best error=0.5000,\tbest estimator extra_tree's best error=0.1005\n[flaml.automl: 04-15 14:01:30] {2567} INFO - iteration 221, current learner xgboost\n[flaml.automl: 04-15 14:01:30] {2750} INFO -  at 21.7s,\testimator xgboost's best error=0.5000,\tbest estimator extra_tree's best error=0.1005\n[flaml.automl: 04-15 14:01:30] {2567} INFO - iteration 222, current learner rf\n[flaml.automl: 04-15 14:01:30] {2750} INFO -  at 22.1s,\testimator rf's best error=0.1260,\tbest estimator extra_tree's best error=0.1005\n[flaml.automl: 04-15 14:01:30] {2567} INFO - iteration 223, current learner lrl1\n[flaml.automl: 04-15 14:01:30] {2750} INFO -  at 22.2s,\testimator lrl1's best error=0.1350,\tbest estimator extra_tree's best error=0.1005\n[flaml.automl: 04-15 14:01:30] {2567} INFO - iteration 224, current learner xgb_limitdepth\n[flaml.automl: 04-15 14:01:30] {2750} INFO -  at 22.3s,\testimator xgb_limitdepth's best error=0.1175,\tbest estimator extra_tree's best error=0.1005\n[flaml.automl: 04-15 14:01:30] {2567} INFO - iteration 225, current learner rf\n[flaml.automl: 04-15 14:01:30] {2750} INFO -  at 22.6s,\testimator rf's best error=0.1260,\tbest estimator extra_tree's best error=0.1005\n[flaml.automl: 04-15 14:01:30] {2567} INFO - iteration 226, current learner xgboost\n[flaml.automl: 04-15 14:01:30] {2750} INFO -  at 22.6s,\testimator xgboost's best error=0.5000,\tbest estimator extra_tree's best error=0.1005\n[flaml.automl: 04-15 14:01:30] {2567} INFO - iteration 227, current learner xgboost\n[flaml.automl: 04-15 14:01:31] {2750} INFO -  at 22.6s,\testimator xgboost's best error=0.5000,\tbest estimator extra_tree's best error=0.1005\n[flaml.automl: 04-15 14:01:31] {2567} INFO - iteration 228, current learner xgboost\n[flaml.automl: 04-15 14:01:31] {2750} INFO -  at 22.6s,\testimator xgboost's best error=0.5000,\tbest estimator extra_tree's best error=0.1005\n[flaml.automl: 04-15 14:01:31] {2567} INFO - iteration 229, current learner xgb_limitdepth\n[flaml.automl: 04-15 14:01:31] {2750} INFO -  at 22.7s,\testimator xgb_limitdepth's best error=0.1175,\tbest estimator extra_tree's best error=0.1005\n[flaml.automl: 04-15 14:01:31] {2567} INFO - iteration 230, current learner xgboost\n[flaml.automl: 04-15 14:01:31] {2750} INFO -  at 22.7s,\testimator xgboost's best error=0.5000,\tbest estimator extra_tree's best error=0.1005\n[flaml.automl: 04-15 14:01:31] {2567} INFO - iteration 231, current learner lrl1\n[flaml.automl: 04-15 14:01:31] {2750} INFO -  at 22.8s,\testimator lrl1's best error=0.1330,\tbest estimator extra_tree's best error=0.1005\n[flaml.automl: 04-15 14:01:31] {2567} INFO - iteration 232, current learner xgboost\n[flaml.automl: 04-15 14:01:31] {2750} INFO -  at 22.8s,\testimator xgboost's best error=0.5000,\tbest estimator extra_tree's best error=0.1005\n[flaml.automl: 04-15 14:01:31] {2567} INFO - iteration 233, current learner xgb_limitdepth\n[flaml.automl: 04-15 14:01:31] {2750} INFO -  at 22.8s,\testimator xgb_limitdepth's best error=0.1175,\tbest estimator extra_tree's best error=0.1005\n[flaml.automl: 04-15 14:01:31] {2567} INFO - iteration 234, current learner extra_tree\n[flaml.automl: 04-15 14:01:31] {2750} INFO -  at 23.3s,\testimator extra_tree's best error=0.1005,\tbest estimator extra_tree's best error=0.1005\n[flaml.automl: 04-15 14:01:31] {2567} INFO - iteration 235, current learner xgb_limitdepth\n[flaml.automl: 04-15 14:01:31] {2750} INFO -  at 23.3s,\testimator xgb_limitdepth's best error=0.1175,\tbest estimator extra_tree's best error=0.1005\n[flaml.automl: 04-15 14:01:31] {2567} INFO - iteration 236, current learner xgboost\n[flaml.automl: 04-15 14:01:31] {2750} INFO -  at 23.3s,\testimator xgboost's best error=0.5000,\tbest estimator extra_tree's best error=0.1005\n[flaml.automl: 04-15 14:01:31] {2567} INFO - iteration 237, current learner xgboost\n[flaml.automl: 04-15 14:01:31] {2750} INFO -  at 23.4s,\testimator xgboost's best error=0.5000,\tbest estimator extra_tree's best error=0.1005\n[flaml.automl: 04-15 14:01:31] {2567} INFO - iteration 238, current learner extra_tree\n[flaml.automl: 04-15 14:01:32] {2750} INFO -  at 23.7s,\testimator extra_tree's best error=0.1005,\tbest estimator extra_tree's best error=0.1005\n[flaml.automl: 04-15 14:01:32] {2567} INFO - iteration 239, current learner xgboost\n[flaml.automl: 04-15 14:01:32] {2750} INFO -  at 23.7s,\testimator xgboost's best error=0.5000,\tbest estimator extra_tree's best error=0.1005\n[flaml.automl: 04-15 14:01:32] {2567} INFO - iteration 240, current learner xgboost\n[flaml.automl: 04-15 14:01:32] {2750} INFO -  at 23.7s,\testimator xgboost's best error=0.5000,\tbest estimator extra_tree's best error=0.1005\n[flaml.automl: 04-15 14:01:32] {2567} INFO - iteration 241, current learner xgboost\n[flaml.automl: 04-15 14:01:32] {2750} INFO -  at 23.7s,\testimator xgboost's best error=0.5000,\tbest estimator extra_tree's best error=0.1005\n[flaml.automl: 04-15 14:01:32] {2567} INFO - iteration 242, current learner rf\n[flaml.automl: 04-15 14:01:32] {2750} INFO -  at 24.2s,\testimator rf's best error=0.1260,\tbest estimator extra_tree's best error=0.1005\n[flaml.automl: 04-15 14:01:32] {2567} INFO - iteration 243, current learner xgboost\n[flaml.automl: 04-15 14:01:32] {2750} INFO -  at 24.2s,\testimator xgboost's best error=0.5000,\tbest estimator extra_tree's best error=0.1005\n[flaml.automl: 04-15 14:01:32] {2567} INFO - iteration 244, current learner xgboost\n[flaml.automl: 04-15 14:01:32] {2750} INFO -  at 24.3s,\testimator xgboost's best error=0.5000,\tbest estimator extra_tree's best error=0.1005\n[flaml.automl: 04-15 14:01:32] {2567} INFO - iteration 245, current learner extra_tree\n[flaml.automl: 04-15 14:01:33] {2750} INFO -  at 24.7s,\testimator extra_tree's best error=0.1005,\tbest estimator extra_tree's best error=0.1005\n[flaml.automl: 04-15 14:01:33] {2567} INFO - iteration 246, current learner xgboost\n[flaml.automl: 04-15 14:01:33] {2750} INFO -  at 24.7s,\testimator xgboost's best error=0.5000,\tbest estimator extra_tree's best error=0.1005\n[flaml.automl: 04-15 14:01:33] {2567} INFO - iteration 247, current learner xgb_limitdepth\n[flaml.automl: 04-15 14:01:33] {2750} INFO -  at 24.7s,\testimator xgb_limitdepth's best error=0.1175,\tbest estimator extra_tree's best error=0.1005\n[flaml.automl: 04-15 14:01:33] {2567} INFO - iteration 248, current learner xgboost\n[flaml.automl: 04-15 14:01:33] {2750} INFO -  at 24.8s,\testimator xgboost's best error=0.5000,\tbest estimator extra_tree's best error=0.1005\n[flaml.automl: 04-15 14:01:33] {2567} INFO - iteration 249, current learner xgboost\n[flaml.automl: 04-15 14:01:33] {2750} INFO -  at 24.8s,\testimator xgboost's best error=0.5000,\tbest estimator extra_tree's best error=0.1005\n[flaml.automl: 04-15 14:01:33] {2567} INFO - iteration 250, current learner extra_tree\n[flaml.automl: 04-15 14:01:33] {2750} INFO -  at 25.1s,\testimator extra_tree's best error=0.1005,\tbest estimator extra_tree's best error=0.1005\n[flaml.automl: 04-15 14:01:33] {2567} INFO - iteration 251, current learner xgboost\n[flaml.automl: 04-15 14:01:33] {2750} INFO -  at 25.1s,\testimator xgboost's best error=0.5000,\tbest estimator extra_tree's best error=0.1005\n[flaml.automl: 04-15 14:01:33] {2567} INFO - iteration 252, current learner xgboost\n[flaml.automl: 04-15 14:01:33] {2750} INFO -  at 25.1s,\testimator xgboost's best error=0.5000,\tbest estimator extra_tree's best error=0.1005\n[flaml.automl: 04-15 14:01:33] {2567} INFO - iteration 253, current learner xgboost\n[flaml.automl: 04-15 14:01:33] {2750} INFO -  at 25.1s,\testimator xgboost's best error=0.5000,\tbest estimator extra_tree's best error=0.1005\n[flaml.automl: 04-15 14:01:33] {2567} INFO - iteration 254, current learner extra_tree\n[flaml.automl: 04-15 14:01:33] {2750} INFO -  at 25.6s,\testimator extra_tree's best error=0.1005,\tbest estimator extra_tree's best error=0.1005\n[flaml.automl: 04-15 14:01:33] {2567} INFO - iteration 255, current learner xgb_limitdepth\n[flaml.automl: 04-15 14:01:33] {2750} INFO -  at 25.6s,\testimator xgb_limitdepth's best error=0.1175,\tbest estimator extra_tree's best error=0.1005\n[flaml.automl: 04-15 14:01:34] {2567} INFO - iteration 256, current learner rf\n[flaml.automl: 04-15 14:01:34] {2750} INFO -  at 26.0s,\testimator rf's best error=0.1260,\tbest estimator extra_tree's best error=0.1005\n[flaml.automl: 04-15 14:01:34] {2567} INFO - iteration 257, current learner lrl1\n[flaml.automl: 04-15 14:01:34] {2750} INFO -  at 26.1s,\testimator lrl1's best error=0.1330,\tbest estimator extra_tree's best error=0.1005\n[flaml.automl: 04-15 14:01:34] {2567} INFO - iteration 258, current learner xgboost\n[flaml.automl: 04-15 14:01:34] {2750} INFO -  at 26.1s,\testimator xgboost's best error=0.5000,\tbest estimator extra_tree's best error=0.1005\n[flaml.automl: 04-15 14:01:34] {2567} INFO - iteration 259, current learner lrl1\n[flaml.automl: 04-15 14:01:34] {2750} INFO -  at 26.3s,\testimator lrl1's best error=0.1330,\tbest estimator extra_tree's best error=0.1005\n[flaml.automl: 04-15 14:01:34] {2567} INFO - iteration 260, current learner xgboost\n[flaml.automl: 04-15 14:01:34] {2750} INFO -  at 26.3s,\testimator xgboost's best error=0.5000,\tbest estimator extra_tree's best error=0.1005\n[flaml.automl: 04-15 14:01:34] {2567} INFO - iteration 261, current learner extra_tree\n[flaml.automl: 04-15 14:01:35] {2750} INFO -  at 26.6s,\testimator extra_tree's best error=0.1005,\tbest estimator extra_tree's best error=0.1005\n[flaml.automl: 04-15 14:01:35] {2567} INFO - iteration 262, current learner xgboost\n[flaml.automl: 04-15 14:01:35] {2750} INFO -  at 26.7s,\testimator xgboost's best error=0.5000,\tbest estimator extra_tree's best error=0.1005\n[flaml.automl: 04-15 14:01:35] {2567} INFO - iteration 263, current learner xgboost\n[flaml.automl: 04-15 14:01:35] {2750} INFO -  at 26.7s,\testimator xgboost's best error=0.5000,\tbest estimator extra_tree's best error=0.1005\n[flaml.automl: 04-15 14:01:35] {2567} INFO - iteration 264, current learner xgboost\n[flaml.automl: 04-15 14:01:35] {2750} INFO -  at 26.7s,\testimator xgboost's best error=0.5000,\tbest estimator extra_tree's best error=0.1005\n[flaml.automl: 04-15 14:01:35] {2567} INFO - iteration 265, current learner xgboost\n[flaml.automl: 04-15 14:01:35] {2750} INFO -  at 26.7s,\testimator xgboost's best error=0.5000,\tbest estimator extra_tree's best error=0.1005\n[flaml.automl: 04-15 14:01:35] {2567} INFO - iteration 266, current learner extra_tree\n[flaml.automl: 04-15 14:01:35] {2750} INFO -  at 27.1s,\testimator extra_tree's best error=0.1005,\tbest estimator extra_tree's best error=0.1005\n[flaml.automl: 04-15 14:01:35] {2567} INFO - iteration 267, current learner extra_tree\n[flaml.automl: 04-15 14:01:35] {2750} INFO -  at 27.4s,\testimator extra_tree's best error=0.1005,\tbest estimator extra_tree's best error=0.1005\n[flaml.automl: 04-15 14:01:35] {2567} INFO - iteration 268, current learner extra_tree\n[flaml.automl: 04-15 14:01:36] {2750} INFO -  at 27.7s,\testimator extra_tree's best error=0.1005,\tbest estimator extra_tree's best error=0.1005\n[flaml.automl: 04-15 14:01:36] {2567} INFO - iteration 269, current learner extra_tree\n[flaml.automl: 04-15 14:01:36] {2750} INFO -  at 28.2s,\testimator extra_tree's best error=0.1005,\tbest estimator extra_tree's best error=0.1005\n[flaml.automl: 04-15 14:01:36] {2567} INFO - iteration 270, current learner xgb_limitdepth\n[flaml.automl: 04-15 14:01:36] {2750} INFO -  at 28.2s,\testimator xgb_limitdepth's best error=0.1175,\tbest estimator extra_tree's best error=0.1005\n[flaml.automl: 04-15 14:01:36] {2567} INFO - iteration 271, current learner xgboost\n[flaml.automl: 04-15 14:01:36] {2750} INFO -  at 28.3s,\testimator xgboost's best error=0.5000,\tbest estimator extra_tree's best error=0.1005\n[flaml.automl: 04-15 14:01:36] {2567} INFO - iteration 272, current learner extra_tree\n[flaml.automl: 04-15 14:01:37] {2750} INFO -  at 28.6s,\testimator extra_tree's best error=0.1005,\tbest estimator extra_tree's best error=0.1005\n[flaml.automl: 04-15 14:01:37] {2567} INFO - iteration 273, current learner xgboost\n[flaml.automl: 04-15 14:01:37] {2750} INFO -  at 28.6s,\testimator xgboost's best error=0.5000,\tbest estimator extra_tree's best error=0.1005\n[flaml.automl: 04-15 14:01:37] {2567} INFO - iteration 274, current learner xgboost\n[flaml.automl: 04-15 14:01:37] {2750} INFO -  at 28.6s,\testimator xgboost's best error=0.5000,\tbest estimator extra_tree's best error=0.1005\n[flaml.automl: 04-15 14:01:37] {2567} INFO - iteration 275, current learner xgboost\n[flaml.automl: 04-15 14:01:37] {2750} INFO -  at 28.7s,\testimator xgboost's best error=0.5000,\tbest estimator extra_tree's best error=0.1005\n[flaml.automl: 04-15 14:01:37] {2567} INFO - iteration 276, current learner xgboost\n[flaml.automl: 04-15 14:01:37] {2750} INFO -  at 28.7s,\testimator xgboost's best error=0.5000,\tbest estimator extra_tree's best error=0.1005\n[flaml.automl: 04-15 14:01:37] {2567} INFO - iteration 277, current learner xgboost\n[flaml.automl: 04-15 14:01:37] {2750} INFO -  at 28.8s,\testimator xgboost's best error=0.5000,\tbest estimator extra_tree's best error=0.1005\n[flaml.automl: 04-15 14:01:37] {2567} INFO - iteration 278, current learner xgboost\n[flaml.automl: 04-15 14:01:37] {2750} INFO -  at 28.9s,\testimator xgboost's best error=0.5000,\tbest estimator extra_tree's best error=0.1005\n[flaml.automl: 04-15 14:01:37] {2567} INFO - iteration 279, current learner xgboost\n[flaml.automl: 04-15 14:01:37] {2750} INFO -  at 28.9s,\testimator xgboost's best error=0.5000,\tbest estimator extra_tree's best error=0.1005\n[flaml.automl: 04-15 14:01:37] {2567} INFO - iteration 280, current learner lrl1\n[flaml.automl: 04-15 14:01:37] {2750} INFO -  at 29.0s,\testimator lrl1's best error=0.1330,\tbest estimator extra_tree's best error=0.1005\n[flaml.automl: 04-15 14:01:37] {2567} INFO - iteration 281, current learner extra_tree\n[flaml.automl: 04-15 14:01:37] {2750} INFO -  at 29.4s,\testimator extra_tree's best error=0.1005,\tbest estimator extra_tree's best error=0.1005\n[flaml.automl: 04-15 14:01:37] {2567} INFO - iteration 282, current learner xgboost\n[flaml.automl: 04-15 14:01:37] {2750} INFO -  at 29.4s,\testimator xgboost's best error=0.5000,\tbest estimator extra_tree's best error=0.1005\n[flaml.automl: 04-15 14:01:37] {2567} INFO - iteration 283, current learner xgboost\n[flaml.automl: 04-15 14:01:37] {2750} INFO -  at 29.5s,\testimator xgboost's best error=0.5000,\tbest estimator extra_tree's best error=0.1005\n[flaml.automl: 04-15 14:01:37] {2567} INFO - iteration 284, current learner xgboost\n[flaml.automl: 04-15 14:01:37] {2750} INFO -  at 29.5s,\testimator xgboost's best error=0.5000,\tbest estimator extra_tree's best error=0.1005\n[flaml.automl: 04-15 14:01:37] {2567} INFO - iteration 285, current learner extra_tree\n[flaml.automl: 04-15 14:01:38] {2750} INFO -  at 29.8s,\testimator extra_tree's best error=0.1005,\tbest estimator extra_tree's best error=0.1005\n[flaml.automl: 04-15 14:01:38] {2567} INFO - iteration 286, current learner xgb_limitdepth\n[flaml.automl: 04-15 14:01:38] {2750} INFO -  at 29.8s,\testimator xgb_limitdepth's best error=0.1160,\tbest estimator extra_tree's best error=0.1005\n[flaml.automl: 04-15 14:01:38] {2567} INFO - iteration 287, current learner xgb_limitdepth\n[flaml.automl: 04-15 14:01:38] {2750} INFO -  at 29.9s,\testimator xgb_limitdepth's best error=0.1160,\tbest estimator extra_tree's best error=0.1005\n[flaml.automl: 04-15 14:01:38] {2567} INFO - iteration 288, current learner extra_tree\n[flaml.automl: 04-15 14:01:38] {2750} INFO -  at 30.2s,\testimator extra_tree's best error=0.1000,\tbest estimator extra_tree's best error=0.1000\n[flaml.automl: 04-15 14:01:38] {2567} INFO - iteration 289, current learner xgboost\n[flaml.automl: 04-15 14:01:38] {2750} INFO -  at 30.2s,\testimator xgboost's best error=0.5000,\tbest estimator extra_tree's best error=0.1000\n[flaml.automl: 04-15 14:01:38] {2567} INFO - iteration 290, current learner xgboost\n[flaml.automl: 04-15 14:01:38] {2750} INFO -  at 30.2s,\testimator xgboost's best error=0.5000,\tbest estimator extra_tree's best error=0.1000\n[flaml.automl: 04-15 14:01:38] {2567} INFO - iteration 291, current learner xgb_limitdepth\n[flaml.automl: 04-15 14:01:38] {2750} INFO -  at 30.3s,\testimator xgb_limitdepth's best error=0.1160,\tbest estimator extra_tree's best error=0.1000\n[flaml.automl: 04-15 14:01:38] {2567} INFO - iteration 292, current learner xgboost\n[flaml.automl: 04-15 14:01:38] {2750} INFO -  at 30.3s,\testimator xgboost's best error=0.5000,\tbest estimator extra_tree's best error=0.1000\n[flaml.automl: 04-15 14:01:38] {2567} INFO - iteration 293, current learner extra_tree\n[flaml.automl: 04-15 14:01:39] {2750} INFO -  at 30.7s,\testimator extra_tree's best error=0.1000,\tbest estimator extra_tree's best error=0.1000\n[flaml.automl: 04-15 14:01:39] {2567} INFO - iteration 294, current learner xgboost\n[flaml.automl: 04-15 14:01:39] {2750} INFO -  at 30.7s,\testimator xgboost's best error=0.5000,\tbest estimator extra_tree's best error=0.1000\n[flaml.automl: 04-15 14:01:39] {2567} INFO - iteration 295, current learner extra_tree\n[flaml.automl: 04-15 14:01:39] {2750} INFO -  at 31.1s,\testimator extra_tree's best error=0.1000,\tbest estimator extra_tree's best error=0.1000\n[flaml.automl: 04-15 14:01:39] {2567} INFO - iteration 296, current learner xgboost\n[flaml.automl: 04-15 14:01:39] {2750} INFO -  at 31.1s,\testimator xgboost's best error=0.5000,\tbest estimator extra_tree's best error=0.1000\n[flaml.automl: 04-15 14:01:39] {2567} INFO - iteration 297, current learner extra_tree\n[flaml.automl: 04-15 14:01:39] {2750} INFO -  at 31.4s,\testimator extra_tree's best error=0.1000,\tbest estimator extra_tree's best error=0.1000\n[flaml.automl: 04-15 14:01:39] {2567} INFO - iteration 298, current learner xgboost\n[flaml.automl: 04-15 14:01:39] {2750} INFO -  at 31.4s,\testimator xgboost's best error=0.5000,\tbest estimator extra_tree's best error=0.1000\n[flaml.automl: 04-15 14:01:39] {2567} INFO - iteration 299, current learner xgboost\n[flaml.automl: 04-15 14:01:39] {2750} INFO -  at 31.4s,\testimator xgboost's best error=0.5000,\tbest estimator extra_tree's best error=0.1000\n[flaml.automl: 04-15 14:01:39] {2567} INFO - iteration 300, current learner xgboost\n[flaml.automl: 04-15 14:01:39] {2750} INFO -  at 31.4s,\testimator xgboost's best error=0.5000,\tbest estimator extra_tree's best error=0.1000\n[flaml.automl: 04-15 14:01:39] {2567} INFO - iteration 301, current learner xgboost\n[flaml.automl: 04-15 14:01:39] {2750} INFO -  at 31.5s,\testimator xgboost's best error=0.5000,\tbest estimator extra_tree's best error=0.1000\n[flaml.automl: 04-15 14:01:39] {2567} INFO - iteration 302, current learner xgboost\n[flaml.automl: 04-15 14:01:39] {2750} INFO -  at 31.6s,\testimator xgboost's best error=0.5000,\tbest estimator extra_tree's best error=0.1000\n[flaml.automl: 04-15 14:01:39] {2567} INFO - iteration 303, current learner xgboost\n[flaml.automl: 04-15 14:01:39] {2750} INFO -  at 31.6s,\testimator xgboost's best error=0.5000,\tbest estimator extra_tree's best error=0.1000\n[flaml.automl: 04-15 14:01:39] {2567} INFO - iteration 304, current learner lrl1\n[flaml.automl: 04-15 14:01:40] {2750} INFO -  at 31.7s,\testimator lrl1's best error=0.1330,\tbest estimator extra_tree's best error=0.1000\n[flaml.automl: 04-15 14:01:40] {2567} INFO - iteration 305, current learner xgboost\n[flaml.automl: 04-15 14:01:40] {2750} INFO -  at 31.7s,\testimator xgboost's best error=0.5000,\tbest estimator extra_tree's best error=0.1000\n[flaml.automl: 04-15 14:01:40] {2567} INFO - iteration 306, current learner xgb_limitdepth\n[flaml.automl: 04-15 14:01:40] {2750} INFO -  at 31.8s,\testimator xgb_limitdepth's best error=0.1140,\tbest estimator extra_tree's best error=0.1000\n[flaml.automl: 04-15 14:01:40] {2567} INFO - iteration 307, current learner xgb_limitdepth\n[flaml.automl: 04-15 14:01:40] {2750} INFO -  at 31.9s,\testimator xgb_limitdepth's best error=0.1140,\tbest estimator extra_tree's best error=0.1000\n[flaml.automl: 04-15 14:01:40] {2567} INFO - iteration 308, current learner xgb_limitdepth\n[flaml.automl: 04-15 14:01:40] {2750} INFO -  at 32.1s,\testimator xgb_limitdepth's best error=0.1090,\tbest estimator extra_tree's best error=0.1000\n[flaml.automl: 04-15 14:01:40] {2567} INFO - iteration 309, current learner xgb_limitdepth\n[flaml.automl: 04-15 14:01:40] {2750} INFO -  at 32.2s,\testimator xgb_limitdepth's best error=0.1090,\tbest estimator extra_tree's best error=0.1000\n[flaml.automl: 04-15 14:01:40] {2567} INFO - iteration 310, current learner xgboost\n[flaml.automl: 04-15 14:01:40] {2750} INFO -  at 32.2s,\testimator xgboost's best error=0.5000,\tbest estimator extra_tree's best error=0.1000\n[flaml.automl: 04-15 14:01:40] {2567} INFO - iteration 311, current learner xgb_limitdepth\n[flaml.automl: 04-15 14:01:40] {2750} INFO -  at 32.4s,\testimator xgb_limitdepth's best error=0.1090,\tbest estimator extra_tree's best error=0.1000\n[flaml.automl: 04-15 14:01:40] {2567} INFO - iteration 312, current learner xgb_limitdepth\n[flaml.automl: 04-15 14:01:41] {2750} INFO -  at 32.6s,\testimator xgb_limitdepth's best error=0.1065,\tbest estimator extra_tree's best error=0.1000\n[flaml.automl: 04-15 14:01:41] {2567} INFO - iteration 313, current learner xgboost\n[flaml.automl: 04-15 14:01:41] {2750} INFO -  at 32.7s,\testimator xgboost's best error=0.5000,\tbest estimator extra_tree's best error=0.1000\n[flaml.automl: 04-15 14:01:41] {2567} INFO - iteration 314, current learner xgb_limitdepth\n[flaml.automl: 04-15 14:01:41] {2750} INFO -  at 32.8s,\testimator xgb_limitdepth's best error=0.1065,\tbest estimator extra_tree's best error=0.1000\n[flaml.automl: 04-15 14:01:41] {2567} INFO - iteration 315, current learner xgboost\n[flaml.automl: 04-15 14:01:41] {2750} INFO -  at 32.8s,\testimator xgboost's best error=0.5000,\tbest estimator extra_tree's best error=0.1000\n[flaml.automl: 04-15 14:01:41] {2567} INFO - iteration 316, current learner xgb_limitdepth\n[flaml.automl: 04-15 14:01:41] {2750} INFO -  at 33.1s,\testimator xgb_limitdepth's best error=0.1065,\tbest estimator extra_tree's best error=0.1000\n[flaml.automl: 04-15 14:01:41] {2567} INFO - iteration 317, current learner xgb_limitdepth\n[flaml.automl: 04-15 14:01:41] {2750} INFO -  at 33.3s,\testimator xgb_limitdepth's best error=0.1065,\tbest estimator extra_tree's best error=0.1000\n[flaml.automl: 04-15 14:01:41] {2567} INFO - iteration 318, current learner xgboost\n[flaml.automl: 04-15 14:01:41] {2750} INFO -  at 33.4s,\testimator xgboost's best error=0.5000,\tbest estimator extra_tree's best error=0.1000\n[flaml.automl: 04-15 14:01:41] {2567} INFO - iteration 319, current learner xgboost\n[flaml.automl: 04-15 14:01:41] {2750} INFO -  at 33.4s,\testimator xgboost's best error=0.5000,\tbest estimator extra_tree's best error=0.1000\n[flaml.automl: 04-15 14:01:41] {2567} INFO - iteration 320, current learner xgboost\n[flaml.automl: 04-15 14:01:41] {2750} INFO -  at 33.4s,\testimator xgboost's best error=0.5000,\tbest estimator extra_tree's best error=0.1000\n[flaml.automl: 04-15 14:01:41] {2567} INFO - iteration 321, current learner extra_tree\n[flaml.automl: 04-15 14:01:42] {2750} INFO -  at 33.8s,\testimator extra_tree's best error=0.1000,\tbest estimator extra_tree's best error=0.1000\n[flaml.automl: 04-15 14:01:42] {2567} INFO - iteration 322, current learner xgb_limitdepth\n[flaml.automl: 04-15 14:01:42] {2750} INFO -  at 34.2s,\testimator xgb_limitdepth's best error=0.1065,\tbest estimator extra_tree's best error=0.1000\n[flaml.automl: 04-15 14:01:42] {2567} INFO - iteration 323, current learner xgboost\n[flaml.automl: 04-15 14:01:42] {2750} INFO -  at 34.2s,\testimator xgboost's best error=0.5000,\tbest estimator extra_tree's best error=0.1000\n[flaml.automl: 04-15 14:01:42] {2567} INFO - iteration 324, current learner xgboost\n[flaml.automl: 04-15 14:01:42] {2750} INFO -  at 34.2s,\testimator xgboost's best error=0.5000,\tbest estimator extra_tree's best error=0.1000\n[flaml.automl: 04-15 14:01:42] {2567} INFO - iteration 325, current learner xgb_limitdepth\n[flaml.automl: 04-15 14:01:42] {2750} INFO -  at 34.4s,\testimator xgb_limitdepth's best error=0.1065,\tbest estimator extra_tree's best error=0.1000\n[flaml.automl: 04-15 14:01:42] {2567} INFO - iteration 326, current learner xgboost\n[flaml.automl: 04-15 14:01:42] {2750} INFO -  at 34.4s,\testimator xgboost's best error=0.5000,\tbest estimator extra_tree's best error=0.1000\n[flaml.automl: 04-15 14:01:42] {2567} INFO - iteration 327, current learner extra_tree\n[flaml.automl: 04-15 14:01:43] {2750} INFO -  at 34.7s,\testimator extra_tree's best error=0.1000,\tbest estimator extra_tree's best error=0.1000\n[flaml.automl: 04-15 14:01:43] {2567} INFO - iteration 328, current learner xgboost\n[flaml.automl: 04-15 14:01:43] {2750} INFO -  at 34.7s,\testimator xgboost's best error=0.5000,\tbest estimator extra_tree's best error=0.1000\n[flaml.automl: 04-15 14:01:43] {2567} INFO - iteration 329, current learner xgboost\n[flaml.automl: 04-15 14:01:43] {2750} INFO -  at 34.7s,\testimator xgboost's best error=0.5000,\tbest estimator extra_tree's best error=0.1000\n[flaml.automl: 04-15 14:01:43] {2567} INFO - iteration 330, current learner extra_tree\n[flaml.automl: 04-15 14:01:43] {2750} INFO -  at 35.2s,\testimator extra_tree's best error=0.1000,\tbest estimator extra_tree's best error=0.1000\n[flaml.automl: 04-15 14:01:43] {2567} INFO - iteration 331, current learner extra_tree\n[flaml.automl: 04-15 14:01:43] {2750} INFO -  at 35.5s,\testimator extra_tree's best error=0.1000,\tbest estimator extra_tree's best error=0.1000\n[flaml.automl: 04-15 14:01:43] {2567} INFO - iteration 332, current learner xgboost\n[flaml.automl: 04-15 14:01:43] {2750} INFO -  at 35.5s,\testimator xgboost's best error=0.5000,\tbest estimator extra_tree's best error=0.1000\n[flaml.automl: 04-15 14:01:43] {2567} INFO - iteration 333, current learner extra_tree\n[flaml.automl: 04-15 14:01:44] {2750} INFO -  at 35.9s,\testimator extra_tree's best error=0.1000,\tbest estimator extra_tree's best error=0.1000\n[flaml.automl: 04-15 14:01:44] {2567} INFO - iteration 334, current learner extra_tree\n[flaml.automl: 04-15 14:01:44] {2750} INFO -  at 36.2s,\testimator extra_tree's best error=0.0960,\tbest estimator extra_tree's best error=0.0960\n[flaml.automl: 04-15 14:01:44] {2567} INFO - iteration 335, current learner extra_tree\n[flaml.automl: 04-15 14:01:45] {2750} INFO -  at 36.7s,\testimator extra_tree's best error=0.0960,\tbest estimator extra_tree's best error=0.0960\n[flaml.automl: 04-15 14:01:45] {2567} INFO - iteration 336, current learner xgboost\n[flaml.automl: 04-15 14:01:45] {2750} INFO -  at 36.7s,\testimator xgboost's best error=0.5000,\tbest estimator extra_tree's best error=0.0960\n[flaml.automl: 04-15 14:01:45] {2567} INFO - iteration 337, current learner extra_tree\n[flaml.automl: 04-15 14:01:45] {2750} INFO -  at 37.0s,\testimator extra_tree's best error=0.0960,\tbest estimator extra_tree's best error=0.0960\n[flaml.automl: 04-15 14:01:45] {2567} INFO - iteration 338, current learner xgboost\n[flaml.automl: 04-15 14:01:45] {2750} INFO -  at 37.0s,\testimator xgboost's best error=0.5000,\tbest estimator extra_tree's best error=0.0960\n[flaml.automl: 04-15 14:01:45] {2567} INFO - iteration 339, current learner extra_tree\n[flaml.automl: 04-15 14:01:45] {2750} INFO -  at 37.3s,\testimator extra_tree's best error=0.0960,\tbest estimator extra_tree's best error=0.0960\n[flaml.automl: 04-15 14:01:45] {2567} INFO - iteration 340, current learner extra_tree\n[flaml.automl: 04-15 14:01:46] {2750} INFO -  at 37.6s,\testimator extra_tree's best error=0.0960,\tbest estimator extra_tree's best error=0.0960\n[flaml.automl: 04-15 14:01:46] {2567} INFO - iteration 341, current learner xgboost\n[flaml.automl: 04-15 14:01:46] {2750} INFO -  at 37.6s,\testimator xgboost's best error=0.5000,\tbest estimator extra_tree's best error=0.0960\n[flaml.automl: 04-15 14:01:46] {2567} INFO - iteration 342, current learner extra_tree\n[flaml.automl: 04-15 14:01:46] {2750} INFO -  at 38.1s,\testimator extra_tree's best error=0.0960,\tbest estimator extra_tree's best error=0.0960\n[flaml.automl: 04-15 14:01:46] {2567} INFO - iteration 343, current learner xgb_limitdepth\n[flaml.automl: 04-15 14:01:46] {2750} INFO -  at 38.2s,\testimator xgb_limitdepth's best error=0.1065,\tbest estimator extra_tree's best error=0.0960\n[flaml.automl: 04-15 14:01:46] {2567} INFO - iteration 344, current learner extra_tree\n[flaml.automl: 04-15 14:01:47] {2750} INFO -  at 38.6s,\testimator extra_tree's best error=0.0960,\tbest estimator extra_tree's best error=0.0960\n[flaml.automl: 04-15 14:01:47] {2567} INFO - iteration 345, current learner extra_tree\n[flaml.automl: 04-15 14:01:47] {2750} INFO -  at 38.9s,\testimator extra_tree's best error=0.0960,\tbest estimator extra_tree's best error=0.0960\n[flaml.automl: 04-15 14:01:47] {2567} INFO - iteration 346, current learner xgb_limitdepth\n[flaml.automl: 04-15 14:01:47] {2750} INFO -  at 39.1s,\testimator xgb_limitdepth's best error=0.1065,\tbest estimator extra_tree's best error=0.0960\n[flaml.automl: 04-15 14:01:47] {2567} INFO - iteration 347, current learner xgb_limitdepth\n[flaml.automl: 04-15 14:01:47] {2750} INFO -  at 39.4s,\testimator xgb_limitdepth's best error=0.1065,\tbest estimator extra_tree's best error=0.0960\n[flaml.automl: 04-15 14:01:47] {2567} INFO - iteration 348, current learner extra_tree\n[flaml.automl: 04-15 14:01:48] {2750} INFO -  at 39.7s,\testimator extra_tree's best error=0.0960,\tbest estimator extra_tree's best error=0.0960\n[flaml.automl: 04-15 14:01:48] {2567} INFO - iteration 349, current learner extra_tree\n[flaml.automl: 04-15 14:01:48] {2750} INFO -  at 40.1s,\testimator extra_tree's best error=0.0960,\tbest estimator extra_tree's best error=0.0960\n[flaml.automl: 04-15 14:01:48] {2567} INFO - iteration 350, current learner xgboost\n[flaml.automl: 04-15 14:01:48] {2750} INFO -  at 40.1s,\testimator xgboost's best error=0.5000,\tbest estimator extra_tree's best error=0.0960\n[flaml.automl: 04-15 14:01:48] {2567} INFO - iteration 351, current learner extra_tree\n[flaml.automl: 04-15 14:01:48] {2750} INFO -  at 40.6s,\testimator extra_tree's best error=0.0960,\tbest estimator extra_tree's best error=0.0960\n[flaml.automl: 04-15 14:01:48] {2567} INFO - iteration 352, current learner extra_tree\n[flaml.automl: 04-15 14:01:49] {2750} INFO -  at 40.9s,\testimator extra_tree's best error=0.0960,\tbest estimator extra_tree's best error=0.0960\n[flaml.automl: 04-15 14:01:49] {2567} INFO - iteration 353, current learner extra_tree\n[flaml.automl: 04-15 14:01:49] {2750} INFO -  at 41.3s,\testimator extra_tree's best error=0.0960,\tbest estimator extra_tree's best error=0.0960\n[flaml.automl: 04-15 14:01:49] {2567} INFO - iteration 354, current learner extra_tree\n[flaml.automl: 04-15 14:01:50] {2750} INFO -  at 41.6s,\testimator extra_tree's best error=0.0960,\tbest estimator extra_tree's best error=0.0960\n[flaml.automl: 04-15 14:01:50] {2567} INFO - iteration 355, current learner xgboost\n[flaml.automl: 04-15 14:01:50] {2750} INFO -  at 41.6s,\testimator xgboost's best error=0.5000,\tbest estimator extra_tree's best error=0.0960\n[flaml.automl: 04-15 14:01:50] {2567} INFO - iteration 356, current learner extra_tree\n[flaml.automl: 04-15 14:01:50] {2750} INFO -  at 41.9s,\testimator extra_tree's best error=0.0960,\tbest estimator extra_tree's best error=0.0960\n[flaml.automl: 04-15 14:01:50] {2567} INFO - iteration 357, current learner extra_tree\n[flaml.automl: 04-15 14:01:50] {2750} INFO -  at 42.4s,\testimator extra_tree's best error=0.0960,\tbest estimator extra_tree's best error=0.0960\n[flaml.automl: 04-15 14:01:50] {2567} INFO - iteration 358, current learner xgboost\n[flaml.automl: 04-15 14:01:50] {2750} INFO -  at 42.4s,\testimator xgboost's best error=0.5000,\tbest estimator extra_tree's best error=0.0960\n[flaml.automl: 04-15 14:01:50] {2567} INFO - iteration 359, current learner xgboost\n[flaml.automl: 04-15 14:01:50] {2750} INFO -  at 42.4s,\testimator xgboost's best error=0.5000,\tbest estimator extra_tree's best error=0.0960\n[flaml.automl: 04-15 14:01:50] {2567} INFO - iteration 360, current learner extra_tree\n[flaml.automl: 04-15 14:01:51] {2750} INFO -  at 42.8s,\testimator extra_tree's best error=0.0960,\tbest estimator extra_tree's best error=0.0960\n[flaml.automl: 04-15 14:01:51] {2567} INFO - iteration 361, current learner xgboost\n[flaml.automl: 04-15 14:01:51] {2750} INFO -  at 42.8s,\testimator xgboost's best error=0.5000,\tbest estimator extra_tree's best error=0.0960\n[flaml.automl: 04-15 14:01:51] {2567} INFO - iteration 362, current learner extra_tree\n[flaml.automl: 04-15 14:01:51] {2750} INFO -  at 43.1s,\testimator extra_tree's best error=0.0960,\tbest estimator extra_tree's best error=0.0960\n[flaml.automl: 04-15 14:01:51] {2567} INFO - iteration 363, current learner extra_tree\n[flaml.automl: 04-15 14:01:51] {2750} INFO -  at 43.4s,\testimator extra_tree's best error=0.0960,\tbest estimator extra_tree's best error=0.0960\n[flaml.automl: 04-15 14:01:51] {2567} INFO - iteration 364, current learner extra_tree\n[flaml.automl: 04-15 14:01:52] {2750} INFO -  at 43.9s,\testimator extra_tree's best error=0.0960,\tbest estimator extra_tree's best error=0.0960\n[flaml.automl: 04-15 14:01:52] {2567} INFO - iteration 365, current learner lrl1\n[flaml.automl: 04-15 14:01:52] {2750} INFO -  at 44.0s,\testimator lrl1's best error=0.1330,\tbest estimator extra_tree's best error=0.0960\n[flaml.automl: 04-15 14:01:52] {2567} INFO - iteration 366, current learner xgboost\n[flaml.automl: 04-15 14:01:52] {2750} INFO -  at 44.0s,\testimator xgboost's best error=0.5000,\tbest estimator extra_tree's best error=0.0960\n[flaml.automl: 04-15 14:01:52] {2567} INFO - iteration 367, current learner xgboost\n[flaml.automl: 04-15 14:01:52] {2750} INFO -  at 44.0s,\testimator xgboost's best error=0.5000,\tbest estimator extra_tree's best error=0.0960\n[flaml.automl: 04-15 14:01:52] {2567} INFO - iteration 368, current learner xgb_limitdepth\n[flaml.automl: 04-15 14:01:52] {2750} INFO -  at 44.5s,\testimator xgb_limitdepth's best error=0.1065,\tbest estimator extra_tree's best error=0.0960\n[flaml.automl: 04-15 14:01:52] {2567} INFO - iteration 369, current learner extra_tree\n[flaml.automl: 04-15 14:01:53] {2750} INFO -  at 44.8s,\testimator extra_tree's best error=0.0960,\tbest estimator extra_tree's best error=0.0960\n[flaml.automl: 04-15 14:01:53] {2567} INFO - iteration 370, current learner lrl1\n[flaml.automl: 04-15 14:01:53] {2750} INFO -  at 44.9s,\testimator lrl1's best error=0.1330,\tbest estimator extra_tree's best error=0.0960\n[flaml.automl: 04-15 14:01:53] {2567} INFO - iteration 371, current learner extra_tree\n[flaml.automl: 04-15 14:01:53] {2750} INFO -  at 45.4s,\testimator extra_tree's best error=0.0960,\tbest estimator extra_tree's best error=0.0960\n[flaml.automl: 04-15 14:01:53] {2567} INFO - iteration 372, current learner lrl1\n[flaml.automl: 04-15 14:01:53] {2750} INFO -  at 45.5s,\testimator lrl1's best error=0.1330,\tbest estimator extra_tree's best error=0.0960\n[flaml.automl: 04-15 14:01:53] {2567} INFO - iteration 373, current learner extra_tree\n[flaml.automl: 04-15 14:01:54] {2750} INFO -  at 45.9s,\testimator extra_tree's best error=0.0960,\tbest estimator extra_tree's best error=0.0960\n[flaml.automl: 04-15 14:01:54] {2567} INFO - iteration 374, current learner extra_tree\n[flaml.automl: 04-15 14:01:54] {2750} INFO -  at 46.2s,\testimator extra_tree's best error=0.0960,\tbest estimator extra_tree's best error=0.0960\n[flaml.automl: 04-15 14:01:54] {2567} INFO - iteration 375, current learner xgboost\n[flaml.automl: 04-15 14:01:54] {2750} INFO -  at 46.2s,\testimator xgboost's best error=0.5000,\tbest estimator extra_tree's best error=0.0960\n[flaml.automl: 04-15 14:01:54] {2567} INFO - iteration 376, current learner xgboost\n[flaml.automl: 04-15 14:01:54] {2750} INFO -  at 46.3s,\testimator xgboost's best error=0.5000,\tbest estimator extra_tree's best error=0.0960\n[flaml.automl: 04-15 14:01:54] {2567} INFO - iteration 377, current learner rf\n[flaml.automl: 04-15 14:01:54] {2750} INFO -  at 46.6s,\testimator rf's best error=0.1260,\tbest estimator extra_tree's best error=0.0960\n[flaml.automl: 04-15 14:01:54] {2567} INFO - iteration 378, current learner xgboost\n[flaml.automl: 04-15 14:01:54] {2750} INFO -  at 46.6s,\testimator xgboost's best error=0.5000,\tbest estimator extra_tree's best error=0.0960\n[flaml.automl: 04-15 14:01:54] {2567} INFO - iteration 379, current learner extra_tree\n[flaml.automl: 04-15 14:01:55] {2750} INFO -  at 46.9s,\testimator extra_tree's best error=0.0960,\tbest estimator extra_tree's best error=0.0960\n[flaml.automl: 04-15 14:01:55] {2567} INFO - iteration 380, current learner xgboost\n[flaml.automl: 04-15 14:01:55] {2750} INFO -  at 46.9s,\testimator xgboost's best error=0.5000,\tbest estimator extra_tree's best error=0.0960\n[flaml.automl: 04-15 14:01:55] {2567} INFO - iteration 381, current learner xgboost\n[flaml.automl: 04-15 14:01:55] {2750} INFO -  at 46.9s,\testimator xgboost's best error=0.5000,\tbest estimator extra_tree's best error=0.0960\n[flaml.automl: 04-15 14:01:55] {2567} INFO - iteration 382, current learner xgb_limitdepth\n[flaml.automl: 04-15 14:01:55] {2750} INFO -  at 47.2s,\testimator xgb_limitdepth's best error=0.1065,\tbest estimator extra_tree's best error=0.0960\n[flaml.automl: 04-15 14:01:55] {2567} INFO - iteration 383, current learner extra_tree\n[flaml.automl: 04-15 14:01:56] {2750} INFO -  at 47.7s,\testimator extra_tree's best error=0.0960,\tbest estimator extra_tree's best error=0.0960\n[flaml.automl: 04-15 14:01:56] {2567} INFO - iteration 384, current learner extra_tree\n[flaml.automl: 04-15 14:01:56] {2750} INFO -  at 48.1s,\testimator extra_tree's best error=0.0960,\tbest estimator extra_tree's best error=0.0960\n[flaml.automl: 04-15 14:01:56] {2567} INFO - iteration 385, current learner xgboost\n[flaml.automl: 04-15 14:01:56] {2750} INFO -  at 48.1s,\testimator xgboost's best error=0.5000,\tbest estimator extra_tree's best error=0.0960\n[flaml.automl: 04-15 14:01:56] {2567} INFO - iteration 386, current learner xgboost\n[flaml.automl: 04-15 14:01:56] {2750} INFO -  at 48.1s,\testimator xgboost's best error=0.5000,\tbest estimator extra_tree's best error=0.0960\n[flaml.automl: 04-15 14:01:56] {2567} INFO - iteration 387, current learner extra_tree\n[flaml.automl: 04-15 14:01:56] {2750} INFO -  at 48.4s,\testimator extra_tree's best error=0.0960,\tbest estimator extra_tree's best error=0.0960\n[flaml.automl: 04-15 14:01:56] {2567} INFO - iteration 388, current learner lrl1\n[flaml.automl: 04-15 14:01:56] {2750} INFO -  at 48.5s,\testimator lrl1's best error=0.1330,\tbest estimator extra_tree's best error=0.0960\n[flaml.automl: 04-15 14:01:56] {2567} INFO - iteration 389, current learner xgboost\n[flaml.automl: 04-15 14:01:56] {2750} INFO -  at 48.6s,\testimator xgboost's best error=0.5000,\tbest estimator extra_tree's best error=0.0960\n[flaml.automl: 04-15 14:01:56] {2567} INFO - iteration 390, current learner xgboost\n[flaml.automl: 04-15 14:01:56] {2750} INFO -  at 48.6s,\testimator xgboost's best error=0.5000,\tbest estimator extra_tree's best error=0.0960\n[flaml.automl: 04-15 14:01:56] {2567} INFO - iteration 391, current learner xgboost\n[flaml.automl: 04-15 14:01:56] {2750} INFO -  at 48.6s,\testimator xgboost's best error=0.5000,\tbest estimator extra_tree's best error=0.0960\n[flaml.automl: 04-15 14:01:56] {2567} INFO - iteration 392, current learner extra_tree\n[flaml.automl: 04-15 14:01:57] {2750} INFO -  at 49.0s,\testimator extra_tree's best error=0.0960,\tbest estimator extra_tree's best error=0.0960\n[flaml.automl: 04-15 14:01:57] {2567} INFO - iteration 393, current learner xgboost\n[flaml.automl: 04-15 14:01:57] {2750} INFO -  at 49.0s,\testimator xgboost's best error=0.5000,\tbest estimator extra_tree's best error=0.0960\n[flaml.automl: 04-15 14:01:57] {2567} INFO - iteration 394, current learner xgboost\n[flaml.automl: 04-15 14:01:57] {2750} INFO -  at 49.0s,\testimator xgboost's best error=0.5000,\tbest estimator extra_tree's best error=0.0960\n[flaml.automl: 04-15 14:01:57] {2567} INFO - iteration 395, current learner xgboost\n[flaml.automl: 04-15 14:01:57] {2750} INFO -  at 49.1s,\testimator xgboost's best error=0.5000,\tbest estimator extra_tree's best error=0.0960\n[flaml.automl: 04-15 14:01:57] {2567} INFO - iteration 396, current learner xgboost\n[flaml.automl: 04-15 14:01:57] {2750} INFO -  at 49.1s,\testimator xgboost's best error=0.5000,\tbest estimator extra_tree's best error=0.0960\n[flaml.automl: 04-15 14:01:57] {2567} INFO - iteration 397, current learner extra_tree\n[flaml.automl: 04-15 14:01:57] {2750} INFO -  at 49.4s,\testimator extra_tree's best error=0.0960,\tbest estimator extra_tree's best error=0.0960\n[flaml.automl: 04-15 14:01:57] {2567} INFO - iteration 398, current learner xgboost\n[flaml.automl: 04-15 14:01:57] {2750} INFO -  at 49.4s,\testimator xgboost's best error=0.5000,\tbest estimator extra_tree's best error=0.0960\n[flaml.automl: 04-15 14:01:57] {2567} INFO - iteration 399, current learner rf\n[flaml.automl: 04-15 14:01:58] {2750} INFO -  at 49.8s,\testimator rf's best error=0.1260,\tbest estimator extra_tree's best error=0.0960\n[flaml.automl: 04-15 14:01:58] {2567} INFO - iteration 400, current learner extra_tree\n[flaml.automl: 04-15 14:01:58] {2750} INFO -  at 50.2s,\testimator extra_tree's best error=0.0960,\tbest estimator extra_tree's best error=0.0960\n[flaml.automl: 04-15 14:01:58] {2567} INFO - iteration 401, current learner xgb_limitdepth\n[flaml.automl: 04-15 14:01:58] {2750} INFO -  at 50.3s,\testimator xgb_limitdepth's best error=0.1065,\tbest estimator extra_tree's best error=0.0960\n[flaml.automl: 04-15 14:01:58] {2567} INFO - iteration 402, current learner xgboost\n[flaml.automl: 04-15 14:01:58] {2750} INFO -  at 50.4s,\testimator xgboost's best error=0.5000,\tbest estimator extra_tree's best error=0.0960\n[flaml.automl: 04-15 14:01:58] {2567} INFO - iteration 403, current learner extra_tree\n[flaml.automl: 04-15 14:01:59] {2750} INFO -  at 50.7s,\testimator extra_tree's best error=0.0960,\tbest estimator extra_tree's best error=0.0960\n[flaml.automl: 04-15 14:01:59] {2567} INFO - iteration 404, current learner xgboost\n[flaml.automl: 04-15 14:01:59] {2750} INFO -  at 50.7s,\testimator xgboost's best error=0.5000,\tbest estimator extra_tree's best error=0.0960\n[flaml.automl: 04-15 14:01:59] {2567} INFO - iteration 405, current learner extra_tree\n[flaml.automl: 04-15 14:01:59] {2750} INFO -  at 51.1s,\testimator extra_tree's best error=0.0960,\tbest estimator extra_tree's best error=0.0960\n[flaml.automl: 04-15 14:01:59] {2567} INFO - iteration 406, current learner xgb_limitdepth\n[flaml.automl: 04-15 14:01:59] {2750} INFO -  at 51.3s,\testimator xgb_limitdepth's best error=0.1065,\tbest estimator extra_tree's best error=0.0960\n[flaml.automl: 04-15 14:01:59] {2567} INFO - iteration 407, current learner extra_tree\n[flaml.automl: 04-15 14:01:59] {2750} INFO -  at 51.6s,\testimator extra_tree's best error=0.0960,\tbest estimator extra_tree's best error=0.0960\n[flaml.automl: 04-15 14:01:59] {2567} INFO - iteration 408, current learner xgboost\n[flaml.automl: 04-15 14:01:59] {2750} INFO -  at 51.6s,\testimator xgboost's best error=0.5000,\tbest estimator extra_tree's best error=0.0960\n[flaml.automl: 04-15 14:02:00] {2567} INFO - iteration 409, current learner extra_tree\n[flaml.automl: 04-15 14:02:00] {2750} INFO -  at 52.0s,\testimator extra_tree's best error=0.0960,\tbest estimator extra_tree's best error=0.0960\n[flaml.automl: 04-15 14:02:00] {2567} INFO - iteration 410, current learner xgboost\n[flaml.automl: 04-15 14:02:00] {2750} INFO -  at 52.0s,\testimator xgboost's best error=0.5000,\tbest estimator extra_tree's best error=0.0960\n[flaml.automl: 04-15 14:02:00] {2567} INFO - iteration 411, current learner xgb_limitdepth\n[flaml.automl: 04-15 14:02:01] {2750} INFO -  at 52.6s,\testimator xgb_limitdepth's best error=0.1065,\tbest estimator extra_tree's best error=0.0960\n[flaml.automl: 04-15 14:02:01] {2567} INFO - iteration 412, current learner xgboost\n[flaml.automl: 04-15 14:02:01] {2750} INFO -  at 52.6s,\testimator xgboost's best error=0.5000,\tbest estimator extra_tree's best error=0.0960\n[flaml.automl: 04-15 14:02:01] {2567} INFO - iteration 413, current learner xgboost\n[flaml.automl: 04-15 14:02:01] {2750} INFO -  at 52.7s,\testimator xgboost's best error=0.5000,\tbest estimator extra_tree's best error=0.0960\n[flaml.automl: 04-15 14:02:01] {2567} INFO - iteration 414, current learner xgboost\n[flaml.automl: 04-15 14:02:01] {2750} INFO -  at 52.7s,\testimator xgboost's best error=0.5000,\tbest estimator extra_tree's best error=0.0960\n[flaml.automl: 04-15 14:02:01] {2567} INFO - iteration 415, current learner xgboost\n[flaml.automl: 04-15 14:02:01] {2750} INFO -  at 52.7s,\testimator xgboost's best error=0.5000,\tbest estimator extra_tree's best error=0.0960\n[flaml.automl: 04-15 14:02:01] {2567} INFO - iteration 416, current learner xgboost\n[flaml.automl: 04-15 14:02:01] {2750} INFO -  at 52.8s,\testimator xgboost's best error=0.5000,\tbest estimator extra_tree's best error=0.0960\n[flaml.automl: 04-15 14:02:01] {2567} INFO - iteration 417, current learner extra_tree\n[flaml.automl: 04-15 14:02:01] {2750} INFO -  at 53.1s,\testimator extra_tree's best error=0.0960,\tbest estimator extra_tree's best error=0.0960\n[flaml.automl: 04-15 14:02:01] {2567} INFO - iteration 418, current learner extra_tree\n[flaml.automl: 04-15 14:02:01] {2750} INFO -  at 53.4s,\testimator extra_tree's best error=0.0960,\tbest estimator extra_tree's best error=0.0960\n[flaml.automl: 04-15 14:02:01] {2567} INFO - iteration 419, current learner extra_tree\n[flaml.automl: 04-15 14:02:02] {2750} INFO -  at 53.7s,\testimator extra_tree's best error=0.0960,\tbest estimator extra_tree's best error=0.0960\n[flaml.automl: 04-15 14:02:02] {2567} INFO - iteration 420, current learner extra_tree\n[flaml.automl: 04-15 14:02:02] {2750} INFO -  at 54.0s,\testimator extra_tree's best error=0.0960,\tbest estimator extra_tree's best error=0.0960\n[flaml.automl: 04-15 14:02:02] {2567} INFO - iteration 421, current learner xgboost\n[flaml.automl: 04-15 14:02:02] {2750} INFO -  at 54.0s,\testimator xgboost's best error=0.5000,\tbest estimator extra_tree's best error=0.0960\n[flaml.automl: 04-15 14:02:02] {2567} INFO - iteration 422, current learner xgb_limitdepth\n[flaml.automl: 04-15 14:02:03] {2750} INFO -  at 54.7s,\testimator xgb_limitdepth's best error=0.1065,\tbest estimator extra_tree's best error=0.0960\n[flaml.automl: 04-15 14:02:03] {2567} INFO - iteration 423, current learner xgboost\n[flaml.automl: 04-15 14:02:03] {2750} INFO -  at 54.7s,\testimator xgboost's best error=0.5000,\tbest estimator extra_tree's best error=0.0960\n[flaml.automl: 04-15 14:02:03] {2567} INFO - iteration 424, current learner extra_tree\n[flaml.automl: 04-15 14:02:03] {2750} INFO -  at 55.1s,\testimator extra_tree's best error=0.0960,\tbest estimator extra_tree's best error=0.0960\n[flaml.automl: 04-15 14:02:03] {2567} INFO - iteration 425, current learner extra_tree\n[flaml.automl: 04-15 14:02:03] {2750} INFO -  at 55.4s,\testimator extra_tree's best error=0.0960,\tbest estimator extra_tree's best error=0.0960\n[flaml.automl: 04-15 14:02:03] {2567} INFO - iteration 426, current learner xgboost\n[flaml.automl: 04-15 14:02:03] {2750} INFO -  at 55.5s,\testimator xgboost's best error=0.5000,\tbest estimator extra_tree's best error=0.0960\n[flaml.automl: 04-15 14:02:03] {2567} INFO - iteration 427, current learner xgboost\n[flaml.automl: 04-15 14:02:03] {2750} INFO -  at 55.5s,\testimator xgboost's best error=0.5000,\tbest estimator extra_tree's best error=0.0960\n[flaml.automl: 04-15 14:02:03] {2567} INFO - iteration 428, current learner rf\n[flaml.automl: 04-15 14:02:04] {2750} INFO -  at 55.8s,\testimator rf's best error=0.1260,\tbest estimator extra_tree's best error=0.0960\n[flaml.automl: 04-15 14:02:04] {2567} INFO - iteration 429, current learner xgboost\n[flaml.automl: 04-15 14:02:04] {2750} INFO -  at 55.8s,\testimator xgboost's best error=0.5000,\tbest estimator extra_tree's best error=0.0960\n[flaml.automl: 04-15 14:02:04] {2567} INFO - iteration 430, current learner xgboost\n[flaml.automl: 04-15 14:02:04] {2750} INFO -  at 55.8s,\testimator xgboost's best error=0.5000,\tbest estimator extra_tree's best error=0.0960\n[flaml.automl: 04-15 14:02:04] {2567} INFO - iteration 431, current learner xgboost\n[flaml.automl: 04-15 14:02:04] {2750} INFO -  at 55.8s,\testimator xgboost's best error=0.5000,\tbest estimator extra_tree's best error=0.0960\n[flaml.automl: 04-15 14:02:04] {2567} INFO - iteration 432, current learner rf\n[flaml.automl: 04-15 14:02:04] {2750} INFO -  at 56.3s,\testimator rf's best error=0.1260,\tbest estimator extra_tree's best error=0.0960\n[flaml.automl: 04-15 14:02:04] {2567} INFO - iteration 433, current learner extra_tree\n[flaml.automl: 04-15 14:02:05] {2750} INFO -  at 56.7s,\testimator extra_tree's best error=0.0960,\tbest estimator extra_tree's best error=0.0960\n[flaml.automl: 04-15 14:02:05] {2567} INFO - iteration 434, current learner xgboost\n[flaml.automl: 04-15 14:02:05] {2750} INFO -  at 56.7s,\testimator xgboost's best error=0.5000,\tbest estimator extra_tree's best error=0.0960\n[flaml.automl: 04-15 14:02:05] {2567} INFO - iteration 435, current learner extra_tree\n[flaml.automl: 04-15 14:02:05] {2750} INFO -  at 57.1s,\testimator extra_tree's best error=0.0960,\tbest estimator extra_tree's best error=0.0960\n[flaml.automl: 04-15 14:02:05] {2567} INFO - iteration 436, current learner xgboost\n[flaml.automl: 04-15 14:02:05] {2750} INFO -  at 57.1s,\testimator xgboost's best error=0.5000,\tbest estimator extra_tree's best error=0.0960\n[flaml.automl: 04-15 14:02:05] {2567} INFO - iteration 437, current learner xgboost\n[flaml.automl: 04-15 14:02:05] {2750} INFO -  at 57.2s,\testimator xgboost's best error=0.5000,\tbest estimator extra_tree's best error=0.0960\n[flaml.automl: 04-15 14:02:05] {2567} INFO - iteration 438, current learner xgboost\n[flaml.automl: 04-15 14:02:05] {2750} INFO -  at 57.2s,\testimator xgboost's best error=0.5000,\tbest estimator extra_tree's best error=0.0960\n[flaml.automl: 04-15 14:02:05] {2567} INFO - iteration 439, current learner xgboost\n[flaml.automl: 04-15 14:02:05] {2750} INFO -  at 57.2s,\testimator xgboost's best error=0.5000,\tbest estimator extra_tree's best error=0.0960\n[flaml.automl: 04-15 14:02:05] {2567} INFO - iteration 440, current learner extra_tree\n[flaml.automl: 04-15 14:02:05] {2750} INFO -  at 57.5s,\testimator extra_tree's best error=0.0960,\tbest estimator extra_tree's best error=0.0960\n[flaml.automl: 04-15 14:02:05] {2567} INFO - iteration 441, current learner xgboost\n[flaml.automl: 04-15 14:02:05] {2750} INFO -  at 57.5s,\testimator xgboost's best error=0.5000,\tbest estimator extra_tree's best error=0.0960\n[flaml.automl: 04-15 14:02:05] {2567} INFO - iteration 442, current learner xgb_limitdepth\n[flaml.automl: 04-15 14:02:05] {2750} INFO -  at 57.6s,\testimator xgb_limitdepth's best error=0.1065,\tbest estimator extra_tree's best error=0.0960\n[flaml.automl: 04-15 14:02:05] {2567} INFO - iteration 443, current learner xgboost\n[flaml.automl: 04-15 14:02:06] {2750} INFO -  at 57.6s,\testimator xgboost's best error=0.5000,\tbest estimator extra_tree's best error=0.0960\n[flaml.automl: 04-15 14:02:06] {2567} INFO - iteration 444, current learner extra_tree\n[flaml.automl: 04-15 14:02:06] {2750} INFO -  at 58.1s,\testimator extra_tree's best error=0.0960,\tbest estimator extra_tree's best error=0.0960\n[flaml.automl: 04-15 14:02:06] {2567} INFO - iteration 445, current learner xgboost\n[flaml.automl: 04-15 14:02:06] {2750} INFO -  at 58.1s,\testimator xgboost's best error=0.5000,\tbest estimator extra_tree's best error=0.0960\n[flaml.automl: 04-15 14:02:06] {2567} INFO - iteration 446, current learner extra_tree\n[flaml.automl: 04-15 14:02:06] {2750} INFO -  at 58.4s,\testimator extra_tree's best error=0.0960,\tbest estimator extra_tree's best error=0.0960\n[flaml.automl: 04-15 14:02:06] {2567} INFO - iteration 447, current learner rf\n[flaml.automl: 04-15 14:02:07] {2750} INFO -  at 58.8s,\testimator rf's best error=0.1260,\tbest estimator extra_tree's best error=0.0960\n[flaml.automl: 04-15 14:02:07] {2567} INFO - iteration 448, current learner xgboost\n[flaml.automl: 04-15 14:02:07] {2750} INFO -  at 58.8s,\testimator xgboost's best error=0.5000,\tbest estimator extra_tree's best error=0.0960\n[flaml.automl: 04-15 14:02:07] {2567} INFO - iteration 449, current learner rf\n[flaml.automl: 04-15 14:02:07] {2750} INFO -  at 59.3s,\testimator rf's best error=0.1260,\tbest estimator extra_tree's best error=0.0960\n[flaml.automl: 04-15 14:02:07] {2567} INFO - iteration 450, current learner xgb_limitdepth\n[flaml.automl: 04-15 14:02:07] {2750} INFO -  at 59.6s,\testimator xgb_limitdepth's best error=0.1040,\tbest estimator extra_tree's best error=0.0960\n[flaml.automl: 04-15 14:02:07] {2567} INFO - iteration 451, current learner xgb_limitdepth\n[flaml.automl: 04-15 14:02:08] {2750} INFO -  at 59.8s,\testimator xgb_limitdepth's best error=0.1040,\tbest estimator extra_tree's best error=0.0960\n[flaml.automl: 04-15 14:02:08] {2567} INFO - iteration 452, current learner xgboost\n[flaml.automl: 04-15 14:02:08] {2750} INFO -  at 59.8s,\testimator xgboost's best error=0.5000,\tbest estimator extra_tree's best error=0.0960\n[flaml.automl: 04-15 14:02:08] {2567} INFO - iteration 453, current learner xgboost\n[flaml.automl: 04-15 14:02:08] {2750} INFO -  at 59.8s,\testimator xgboost's best error=0.5000,\tbest estimator extra_tree's best error=0.0960\n[flaml.automl: 04-15 14:02:08] {2567} INFO - iteration 454, current learner xgboost\n[flaml.automl: 04-15 14:02:08] {2750} INFO -  at 59.9s,\testimator xgboost's best error=0.5000,\tbest estimator extra_tree's best error=0.0960\n[flaml.automl: 04-15 14:02:08] {2567} INFO - iteration 455, current learner lrl1\n[flaml.automl: 04-15 14:02:08] {2750} INFO -  at 60.0s,\testimator lrl1's best error=0.1330,\tbest estimator extra_tree's best error=0.0960\n[flaml.automl: 04-15 14:02:08] {2567} INFO - iteration 456, current learner lgbm\n[flaml.automl: 04-15 14:02:08] {2750} INFO -  at 60.0s,\testimator lgbm's best error=0.1075,\tbest estimator extra_tree's best error=0.0960\n[flaml.automl: 04-15 14:02:08] {2976} INFO - retrain extra_tree for 0.2s\n[flaml.automl: 04-15 14:02:08] {2981} INFO - retrained model: ExtraTreesClassifier(max_features=0.32511577892048515, max_leaf_nodes=14,\n                     n_estimators=4, n_jobs=-1)\n[flaml.automl: 04-15 14:02:08] {2310} INFO - fit succeeded\n[flaml.automl: 04-15 14:02:08] {2312} INFO - Time taken to find the best model: 36.23868775367737\n",
     "output_type": "stream"
    }
   ]
  },
  {
   "cell_type": "code",
   "metadata": {
    "cell_id": "10f6c8fba3204f22b10d5567c98d1563",
    "deepnote_to_be_reexecuted": false,
    "execution_millis": 69,
    "execution_start": 1650031400131,
    "source_hash": "1b4b7473",
    "tags": [],
    "deepnote_cell_type": "code",
    "deepnote_cell_height": 111.6875
   },
   "source": "print('Accuracy Score: ', accuracy_score(automl.predict(x_test), y_test))",
   "execution_count": 8,
   "outputs": [
    {
     "name": "stdout",
     "text": "Accuracy Score:  0.8208955223880597\n",
     "output_type": "stream"
    }
   ]
  },
  {
   "cell_type": "code",
   "metadata": {
    "cell_id": "ef41d925007642fd880a98981689ee40",
    "tags": [],
    "deepnote_to_be_reexecuted": true,
    "source_hash": "b623e53d",
    "owner_user_id": "489e2c2d-857d-475d-918c-9678be707f33",
    "deepnote_cell_type": "code",
    "deepnote_cell_height": 81
   },
   "source": "",
   "execution_count": null,
   "outputs": []
  },
  {
   "cell_type": "markdown",
   "source": "<a style='text-decoration:none;line-height:16px;display:flex;color:#5B5B62;padding:10px;justify-content:end;' href='https://deepnote.com?utm_source=created-in-deepnote-cell&projectId=250b4b06-da8a-4228-b639-3bdc3d16f362' target=\"_blank\">\n<img alt='Created in deepnote.com' style='display:inline;max-height:16px;margin:0px;margin-right:7.5px;' src='data:image/svg+xml;base64,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' > </img>\nCreated in <span style='font-weight:600;margin-left:4px;'>Deepnote</span></a>",
   "metadata": {
    "tags": [],
    "created_in_deepnote_cell": true,
    "deepnote_cell_type": "markdown"
   }
  }
 ],
 "nbformat": 4,
 "nbformat_minor": 2,
 "metadata": {
  "deepnote": {
   "is_reactive": false
  },
  "deepnote_execution_queue": [],
  "deepnote_notebook_id": "c08f280d-be92-479f-bcef-6cb0f3a2c24e",
  "interpreter": {
   "hash": "b0fa6594d8f4cbf19f97940f81e996739fb7646882a419484c72d19e05852a7e"
  },
  "kernelspec": {
   "display_name": "Python 3.9.10 64-bit",
   "language": "python",
   "name": "python3"
  },
  "language_info": {
   "codemirror_mode": {
    "name": "ipython",
    "version": 3
   },
   "file_extension": ".py",
   "mimetype": "text/x-python",
   "name": "python",
   "nbconvert_exporter": "python",
   "pygments_lexer": "ipython3",
   "version": "3.9.10"
  },
  "orig_nbformat": 2
 }
}