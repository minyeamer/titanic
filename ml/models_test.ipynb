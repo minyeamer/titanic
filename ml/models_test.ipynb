{
 "cells": [
  {
   "cell_type": "markdown",
   "metadata": {},
   "source": [
    "# Models"
   ]
  },
  {
   "cell_type": "code",
   "execution_count": 3,
   "metadata": {},
   "outputs": [],
   "source": [
    "import pandas as pd\n",
    "import numpy as np\n",
    "import matplotlib.pyplot as plt\n",
    "\n",
    "from sklearn import model_selection\n",
    "from sklearn.preprocessing import StandardScaler, OneHotEncoder\n",
    "from sklearn.compose import ColumnTransformer\n",
    "from sklearn.pipeline import Pipeline\n",
    "from sklearn.metrics import accuracy_score\n",
    "\n",
    "import joblib\n",
    "\n",
    "import warnings\n",
    "warnings.filterwarnings(\"ignore\")"
   ]
  },
  {
   "cell_type": "markdown",
   "metadata": {},
   "source": [
    "## Load Data"
   ]
  },
  {
   "cell_type": "code",
   "execution_count": 24,
   "metadata": {},
   "outputs": [
    {
     "data": {
      "text/html": [
       "<div>\n",
       "<style scoped>\n",
       "    .dataframe tbody tr th:only-of-type {\n",
       "        vertical-align: middle;\n",
       "    }\n",
       "\n",
       "    .dataframe tbody tr th {\n",
       "        vertical-align: top;\n",
       "    }\n",
       "\n",
       "    .dataframe thead th {\n",
       "        text-align: right;\n",
       "    }\n",
       "</style>\n",
       "<table border=\"1\" class=\"dataframe\">\n",
       "  <thead>\n",
       "    <tr style=\"text-align: right;\">\n",
       "      <th></th>\n",
       "      <th>PassengerId</th>\n",
       "      <th>Survived</th>\n",
       "      <th>Pclass</th>\n",
       "      <th>Name</th>\n",
       "      <th>Sex</th>\n",
       "      <th>Age</th>\n",
       "      <th>Fare</th>\n",
       "      <th>Cabin</th>\n",
       "      <th>Embarked</th>\n",
       "      <th>Family</th>\n",
       "    </tr>\n",
       "  </thead>\n",
       "  <tbody>\n",
       "    <tr>\n",
       "      <th>0</th>\n",
       "      <td>1</td>\n",
       "      <td>0</td>\n",
       "      <td>3</td>\n",
       "      <td>1</td>\n",
       "      <td>0</td>\n",
       "      <td>1</td>\n",
       "      <td>0</td>\n",
       "      <td>6</td>\n",
       "      <td>0</td>\n",
       "      <td>1</td>\n",
       "    </tr>\n",
       "    <tr>\n",
       "      <th>1</th>\n",
       "      <td>2</td>\n",
       "      <td>1</td>\n",
       "      <td>1</td>\n",
       "      <td>3</td>\n",
       "      <td>1</td>\n",
       "      <td>2</td>\n",
       "      <td>4</td>\n",
       "      <td>3</td>\n",
       "      <td>1</td>\n",
       "      <td>1</td>\n",
       "    </tr>\n",
       "    <tr>\n",
       "      <th>2</th>\n",
       "      <td>3</td>\n",
       "      <td>1</td>\n",
       "      <td>3</td>\n",
       "      <td>2</td>\n",
       "      <td>1</td>\n",
       "      <td>1</td>\n",
       "      <td>1</td>\n",
       "      <td>6</td>\n",
       "      <td>0</td>\n",
       "      <td>0</td>\n",
       "    </tr>\n",
       "    <tr>\n",
       "      <th>3</th>\n",
       "      <td>4</td>\n",
       "      <td>1</td>\n",
       "      <td>1</td>\n",
       "      <td>3</td>\n",
       "      <td>1</td>\n",
       "      <td>2</td>\n",
       "      <td>4</td>\n",
       "      <td>3</td>\n",
       "      <td>0</td>\n",
       "      <td>1</td>\n",
       "    </tr>\n",
       "    <tr>\n",
       "      <th>4</th>\n",
       "      <td>5</td>\n",
       "      <td>0</td>\n",
       "      <td>3</td>\n",
       "      <td>1</td>\n",
       "      <td>0</td>\n",
       "      <td>2</td>\n",
       "      <td>1</td>\n",
       "      <td>6</td>\n",
       "      <td>0</td>\n",
       "      <td>0</td>\n",
       "    </tr>\n",
       "  </tbody>\n",
       "</table>\n",
       "</div>"
      ],
      "text/plain": [
       "   PassengerId  Survived  Pclass  Name  Sex  Age  Fare  Cabin  Embarked  \\\n",
       "0            1         0       3     1    0    1     0      6         0   \n",
       "1            2         1       1     3    1    2     4      3         1   \n",
       "2            3         1       3     2    1    1     1      6         0   \n",
       "3            4         1       1     3    1    2     4      3         0   \n",
       "4            5         0       3     1    0    2     1      6         0   \n",
       "\n",
       "   Family  \n",
       "0       1  \n",
       "1       1  \n",
       "2       0  \n",
       "3       1  \n",
       "4       0  "
      ]
     },
     "execution_count": 24,
     "metadata": {},
     "output_type": "execute_result"
    }
   ],
   "source": [
    "data_df = pd.read_csv('titanic_data.csv')\n",
    "pipe = joblib.load(f'titanic_pipe.pkl')\n",
    "pipe.fit(data_df)\n",
    "\n",
    "data_df.head()"
   ]
  },
  {
   "cell_type": "code",
   "execution_count": 25,
   "metadata": {},
   "outputs": [
    {
     "data": {
      "text/plain": [
       "Pipeline(steps=[('preprocessor',\n",
       "                 ColumnTransformer(transformers=[('cat',\n",
       "                                                  OneHotEncoder(handle_unknown='ignore'),\n",
       "                                                  ['Pclass', 'Name', 'Sex',\n",
       "                                                   'Age', 'Fare', 'Cabin',\n",
       "                                                   'Embarked', 'Family'])]))])"
      ]
     },
     "execution_count": 25,
     "metadata": {},
     "output_type": "execute_result"
    }
   ],
   "source": [
    "pipe"
   ]
  },
  {
   "cell_type": "code",
   "execution_count": 26,
   "metadata": {},
   "outputs": [],
   "source": [
    "titanic_X = data_df.copy()\n",
    "\n",
    "del titanic_X['PassengerId']\n",
    "del titanic_X['Survived']\n",
    "\n",
    "titanic_Y = np.array(data_df[['Survived']])\n",
    "\n",
    "x_train, x_test, y_train, y_test = \\\n",
    "   model_selection.train_test_split(titanic_X, titanic_Y, test_size=0.3, random_state=0)\n",
    "\n",
    "x_train = pipe.transform(x_train)\n",
    "x_test = pipe.transform(x_test)"
   ]
  },
  {
   "cell_type": "markdown",
   "metadata": {},
   "source": [
    "## Model Fitting"
   ]
  },
  {
   "cell_type": "code",
   "execution_count": 27,
   "metadata": {},
   "outputs": [],
   "source": [
    "from sklearn import linear_model # LogisticRegression()\n",
    "from sklearn import neighbors # KNeighborsClassifier()\n",
    "from sklearn.svm import SVC # SVC(gamma='auto')\n",
    "from sklearn import tree # DecisionTreeClassifier()\n",
    "from sklearn import ensemble # RandomForestClassifier()\n",
    "from sklearn import naive_bayes # BernoulliNB()\n",
    "from sklearn import cluster # KMeans(random_state=0)\n",
    "from sklearn import decomposition # PCA(n_components=1)\n",
    "from sklearn.discriminant_analysis import LinearDiscriminantAnalysis\n",
    "from xgboost import XGBClassifier\n",
    "from lightgbm.sklearn import LGBMClassifier\n",
    "from sklearn.model_selection import cross_val_score"
   ]
  },
  {
   "cell_type": "code",
   "execution_count": 42,
   "metadata": {},
   "outputs": [],
   "source": [
    "models = [\n",
    "    ('Logistic', linear_model.LogisticRegression()),\n",
    "    ('KNN', neighbors.KNeighborsClassifier(16)),\n",
    "    ('SVM', SVC(kernel='rbf', C=100, gamma=0.01)),\n",
    "    ('DecisionTree', tree.DecisionTreeClassifier(random_state = 0, max_depth = 4)),\n",
    "    ('RandomForest', ensemble.RandomForestClassifier(random_state = 0, n_estimators = 100, max_depth = 6)),\n",
    "    ('NaiveBayes', naive_bayes.BernoulliNB(alpha=10)),\n",
    "    ('XGBoost', XGBClassifier(seed = 0, n_estimators = 200, max_depth = 3, verbosity=0)),\n",
    "    ('LightGBM', LGBMClassifier(random_state=0, n_estimators = 200, max_depth = 2))]"
   ]
  },
  {
   "cell_type": "code",
   "execution_count": 43,
   "metadata": {},
   "outputs": [
    {
     "name": "stdout",
     "output_type": "stream",
     "text": [
      "Logistic:  0.8432835820895522\n",
      "KNN:  0.8283582089552238\n",
      "SVM:  0.8432835820895522\n",
      "DecisionTree:  0.8395522388059702\n",
      "RandomForest:  0.835820895522388\n",
      "NaiveBayes:  0.7947761194029851\n",
      "XGBoost:  0.8208955223880597\n",
      "LightGBM:  0.8395522388059702\n"
     ]
    }
   ],
   "source": [
    "for name, model in models:\n",
    "    model.fit(x_train, y_train)\n",
    "    print(f'{name}: ', accuracy_score(model.predict(x_test), y_test))"
   ]
  },
  {
   "cell_type": "code",
   "execution_count": 44,
   "metadata": {},
   "outputs": [
    {
     "name": "stdout",
     "output_type": "stream",
     "text": [
      "Linear Discriminat Analysis: 0.835820895522388\n"
     ]
    }
   ],
   "source": [
    "clf = LinearDiscriminantAnalysis()\n",
    "clf.fit(x_train.todense(), y_train)\n",
    "print('Linear Discriminat Analysis:', accuracy_score(clf.predict(x_test), y_test))"
   ]
  },
  {
   "cell_type": "code",
   "execution_count": null,
   "metadata": {},
   "outputs": [],
   "source": [
    "titanic_X = pipe.transform(titanic_X)"
   ]
  },
  {
   "cell_type": "code",
   "execution_count": 56,
   "metadata": {},
   "outputs": [
    {
     "name": "stdout",
     "output_type": "stream",
     "text": [
      "교차 검증별 정확도: [0.8101 0.8258 0.8427 0.8146 0.8596]\n",
      "평균 검증 정확도: 0.8305504990270542\n"
     ]
    }
   ],
   "source": [
    "scores = cross_val_score(LGBMClassifier(random_state=0, n_estimators = 200, max_depth = 2), titanic_X, titanic_Y, scoring='accuracy', cv=5)\n",
    "print('교차 검증별 정확도:',np.round(scores, 4))\n",
    "print('평균 검증 정확도:', np.mean(scores))"
   ]
  },
  {
   "cell_type": "markdown",
   "metadata": {},
   "source": [
    "## GridSearch"
   ]
  },
  {
   "cell_type": "code",
   "execution_count": 45,
   "metadata": {},
   "outputs": [],
   "source": [
    "from sklearn.model_selection import GridSearchCV"
   ]
  },
  {
   "cell_type": "markdown",
   "metadata": {},
   "source": [
    "### Logistic Regression"
   ]
  },
  {
   "cell_type": "code",
   "execution_count": 46,
   "metadata": {},
   "outputs": [
    {
     "name": "stdout",
     "output_type": "stream",
     "text": [
      "GridSearch Best Params: {'C': 1.0, 'penalty': 'l2'}\n",
      "Logistic Regression Score: 0.8432835820895522\n"
     ]
    }
   ],
   "source": [
    "logistic_param_grid = {'C': np.logspace(-3,3,7),\n",
    "                       'penalty': [\"l1\",\"l2\"]}\n",
    "\n",
    "logistic_grid = GridSearchCV(\n",
    "    linear_model.LogisticRegression(), logistic_param_grid, refit=True, cv=10, scoring='accuracy')\n",
    "\n",
    "logistic_grid.fit(x_train, y_train)\n",
    "\n",
    "print('GridSearch Best Params:', logistic_grid.best_params_)\n",
    "print(f'Logistic Regression Score:', accuracy_score(y_test, logistic_grid.predict(x_test)))"
   ]
  },
  {
   "cell_type": "code",
   "execution_count": 47,
   "metadata": {},
   "outputs": [
    {
     "name": "stdout",
     "output_type": "stream",
     "text": [
      "Recall Score: 0.79\n",
      "Precision Score: 0.79\n",
      "F1 Score: 0.79\n"
     ]
    }
   ],
   "source": [
    "from sklearn.metrics import recall_score, precision_score, f1_score\n",
    "\n",
    "print('Recall Score:', recall_score(y_test, logistic_grid.predict(x_test)))\n",
    "print('Precision Score:', precision_score(y_test, logistic_grid.predict(x_test)))\n",
    "print('F1 Score:', f1_score(y_test, logistic_grid.predict(x_test)))"
   ]
  },
  {
   "cell_type": "markdown",
   "metadata": {},
   "source": [
    "### KNN"
   ]
  },
  {
   "cell_type": "code",
   "execution_count": 48,
   "metadata": {},
   "outputs": [
    {
     "name": "stdout",
     "output_type": "stream",
     "text": [
      "GridSearch Best Params: {'n_neighbors': 16}\n",
      "KNN Score: 0.8283582089552238\n"
     ]
    }
   ],
   "source": [
    "knn_param_grid = {'n_neighbors': list(range(1,31))}\n",
    "\n",
    "knn_grid = GridSearchCV(\n",
    "    neighbors.KNeighborsClassifier(), knn_param_grid, refit=True, cv=10, scoring='accuracy')\n",
    "\n",
    "knn_grid.fit(x_train, y_train)\n",
    "\n",
    "print('GridSearch Best Params:', knn_grid.best_params_)\n",
    "print(f'KNN Score:', accuracy_score(y_test, knn_grid.predict(x_test)))"
   ]
  },
  {
   "cell_type": "markdown",
   "metadata": {},
   "source": [
    "### SVC"
   ]
  },
  {
   "cell_type": "code",
   "execution_count": 49,
   "metadata": {},
   "outputs": [
    {
     "name": "stdout",
     "output_type": "stream",
     "text": [
      "GridSearch Best Params: {'C': 1, 'gamma': 0.1, 'kernel': 'rbf'}\n",
      "SVC Score: 0.8246268656716418\n"
     ]
    }
   ],
   "source": [
    "svc_param_grid = {'C': [0.1,1,10,100,1000], \n",
    "                 'gamma': [1,0.1,0.01,0.001,0.0001],\n",
    "                 'kernel': ['rbf']}\n",
    "\n",
    "svc_grid = GridSearchCV(\n",
    "    SVC(), svc_param_grid, refit=True, cv=10, scoring='accuracy')\n",
    "\n",
    "svc_grid.fit(x_train, y_train)\n",
    "\n",
    "print('GridSearch Best Params:', svc_grid.best_params_)\n",
    "print(f'SVC Score:', accuracy_score(svc_grid.predict(x_test), y_test))"
   ]
  },
  {
   "cell_type": "markdown",
   "metadata": {},
   "source": [
    "### Decision Tree"
   ]
  },
  {
   "cell_type": "code",
   "execution_count": 50,
   "metadata": {},
   "outputs": [
    {
     "name": "stdout",
     "output_type": "stream",
     "text": [
      "GridSearch Best Params: {'criterion': 'entropy', 'max_depth': 6, 'random_state': 0}\n",
      "Decision Tree Score: 0.832089552238806\n"
     ]
    }
   ],
   "source": [
    "dtree_param_grid = {'criterion': ['gini', 'entropy'],\n",
    "                    'max_depth': [2,4,6,8,10,12],\n",
    "                    'random_state': [0]}\n",
    "\n",
    "dtree_grid = GridSearchCV(\n",
    "    tree.DecisionTreeClassifier(), dtree_param_grid, refit=True, cv=10, scoring='accuracy')\n",
    "\n",
    "dtree_grid.fit(x_train, y_train)\n",
    "\n",
    "print('GridSearch Best Params:', dtree_grid.best_params_)\n",
    "print(f'Decision Tree Score:', accuracy_score(dtree_grid.predict(x_test), y_test))"
   ]
  },
  {
   "cell_type": "markdown",
   "metadata": {},
   "source": [
    "### Random Forest"
   ]
  },
  {
   "cell_type": "code",
   "execution_count": 51,
   "metadata": {},
   "outputs": [
    {
     "name": "stdout",
     "output_type": "stream",
     "text": [
      "GridSearch Best Params: {'max_depth': 6, 'n_estimators': 100, 'random_state': 0}\n",
      "Random Forest Score: 0.835820895522388\n"
     ]
    }
   ],
   "source": [
    "rforest_param_grid = {'n_estimators': [100,200,300,1000],\n",
    "                      'max_depth': [2,4,6,8,10,12],\n",
    "                      'random_state': [0]}\n",
    "\n",
    "rforest_grid = GridSearchCV(\n",
    "    ensemble.RandomForestClassifier(), rforest_param_grid, refit=True, cv=10, scoring='accuracy')\n",
    "\n",
    "rforest_grid.fit(x_train, y_train)\n",
    "\n",
    "print('GridSearch Best Params:', rforest_grid.best_params_)\n",
    "print(f'Random Forest Score:', accuracy_score(rforest_grid.predict(x_test), y_test))"
   ]
  },
  {
   "cell_type": "markdown",
   "metadata": {},
   "source": [
    "### Naive Bayes"
   ]
  },
  {
   "cell_type": "code",
   "execution_count": 52,
   "metadata": {},
   "outputs": [
    {
     "name": "stdout",
     "output_type": "stream",
     "text": [
      "GridSearch Best Params: {'alpha': 10.0}\n",
      "Naive Bayes Score: 0.7947761194029851\n"
     ]
    }
   ],
   "source": [
    "bayes_param_grid = {'alpha': [1.0e-10, 0.0001, 0.001, 0.01, 0.1, 0.5, 1.0, 2.0, 10.0]}\n",
    "\n",
    "bayes_grid = GridSearchCV(\n",
    "    naive_bayes.BernoulliNB(), bayes_param_grid, refit=True, cv=10, scoring='accuracy')\n",
    "\n",
    "bayes_grid.fit(x_train, y_train)\n",
    "\n",
    "print('GridSearch Best Params:', bayes_grid.best_params_)\n",
    "print(f'Naive Bayes Score:', accuracy_score(bayes_grid.predict(x_test), y_test))"
   ]
  },
  {
   "cell_type": "code",
   "execution_count": null,
   "metadata": {},
   "outputs": [],
   "source": []
  }
 ],
 "metadata": {
  "interpreter": {
   "hash": "b0fa6594d8f4cbf19f97940f81e996739fb7646882a419484c72d19e05852a7e"
  },
  "kernelspec": {
   "display_name": "Python 3.9.10 64-bit",
   "language": "python",
   "name": "python3"
  },
  "language_info": {
   "codemirror_mode": {
    "name": "ipython",
    "version": 3
   },
   "file_extension": ".py",
   "mimetype": "text/x-python",
   "name": "python",
   "nbconvert_exporter": "python",
   "pygments_lexer": "ipython3",
   "version": "3.9.12"
  },
  "orig_nbformat": 4
 },
 "nbformat": 4,
 "nbformat_minor": 2
}
